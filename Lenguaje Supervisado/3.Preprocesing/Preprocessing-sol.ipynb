{
 "cells": [
  {
   "cell_type": "markdown",
   "source": [
    "# Preprocessing\n",
    "#### UD2. Aprendizaxe Supervisada\n",
    "#### MP. Sistemas de Aprendizaxe Automáticos\n",
    "#### IES de Teis (Vigo), Cristina Gómez Alonso\n",
    "\n",
    "Para limpiar el conjunto de datos, es necesario manejar los valores que faltan y las features categóricas, porque la matemática subyacente en la mayoría de los modelos de Machine Learning asume que los datos son numéricos y no contienen valores desconocidos.\n",
    "Además, la librería Scikit Learn devuelve un error si se intenta entrenar un modelo como Regresión Lineal o Regresión Logística utilizando datos que contienen valores perdidos o no numéricos.\n",
    "Es por ello que en este notebook vamos a trabajar con:\n",
    "\n",
    "* Valores missing\n",
    "* Datos categóricos\n",
    "* Escalado y normalización"
   ],
   "metadata": {
    "collapsed": false,
    "id": "DuRMFaXp7xce"
   }
  },
  {
   "cell_type": "markdown",
   "source": [
    "## 1. Valores missing\n",
    "\n",
    "La falta de datos es quizás el rasgo más común de los datos impuros. Estos valores suelen tomar la forma de NaN o None.\n",
    "\n",
    "Hay varias maneras de rellenar los valores que faltan:\n",
    "\n",
    "* Puedes eliminar las líneas con los datos si el conjunto de datos es lo suficientemente grande y el porcentaje de valores perdidos no es alto, más del 50%, por ejemplo.\n",
    "* Puedes rellenar todas las variables nulas con 0, si se trata de valor numéricos.\n",
    "* Puedes rellenar los valores perdidos con la media, la mediana o la moda (que es el valor más frecuente de la columna).\n",
    "* También puedes decidir rellenar los valores que faltan con cualquier valor que venga directamente después en la misma columna.\n",
    "\n",
    "Estas decisiones dependen del tipo de datos, de lo que se quiera hacer con ellos y de la causa de la falta de valores. En realidad, el hecho de que algo sea popular no significa necesariamente que sea la elección correcta. La estrategia más común es utilizar el valor medio, pero dependiendo de los datos, se puede llegar a un enfoque totalmente diferente."
   ],
   "metadata": {
    "collapsed": false,
    "pycharm": {
     "name": "#%% md\n"
    },
    "id": "xOsarHqc7xcj"
   }
  },
  {
   "cell_type": "code",
   "execution_count": 2,
   "outputs": [
    {
     "data": {
      "text/plain": "             Customer  Product     Sales  Quantity  Discount   Profit\n0     Brosina Hoffman      NaN  1706.184       9.0       0.2  85.3092\n1     Brosina Hoffman   Phones   911.424       4.0       0.2  68.3568\n2  Zuschuss Donatelli      Art     8.560       2.0       0.0   2.4824\n3  Zuschuss Donatelli   Phones       NaN       3.0       0.2  16.0110\n4  Zuschuss Donatelli  Binders    22.720       4.0       0.2   7.3840",
      "text/html": "<div>\n<style scoped>\n    .dataframe tbody tr th:only-of-type {\n        vertical-align: middle;\n    }\n\n    .dataframe tbody tr th {\n        vertical-align: top;\n    }\n\n    .dataframe thead th {\n        text-align: right;\n    }\n</style>\n<table border=\"1\" class=\"dataframe\">\n  <thead>\n    <tr style=\"text-align: right;\">\n      <th></th>\n      <th>Customer</th>\n      <th>Product</th>\n      <th>Sales</th>\n      <th>Quantity</th>\n      <th>Discount</th>\n      <th>Profit</th>\n    </tr>\n  </thead>\n  <tbody>\n    <tr>\n      <th>0</th>\n      <td>Brosina Hoffman</td>\n      <td>NaN</td>\n      <td>1706.184</td>\n      <td>9.0</td>\n      <td>0.2</td>\n      <td>85.3092</td>\n    </tr>\n    <tr>\n      <th>1</th>\n      <td>Brosina Hoffman</td>\n      <td>Phones</td>\n      <td>911.424</td>\n      <td>4.0</td>\n      <td>0.2</td>\n      <td>68.3568</td>\n    </tr>\n    <tr>\n      <th>2</th>\n      <td>Zuschuss Donatelli</td>\n      <td>Art</td>\n      <td>8.560</td>\n      <td>2.0</td>\n      <td>0.0</td>\n      <td>2.4824</td>\n    </tr>\n    <tr>\n      <th>3</th>\n      <td>Zuschuss Donatelli</td>\n      <td>Phones</td>\n      <td>NaN</td>\n      <td>3.0</td>\n      <td>0.2</td>\n      <td>16.0110</td>\n    </tr>\n    <tr>\n      <th>4</th>\n      <td>Zuschuss Donatelli</td>\n      <td>Binders</td>\n      <td>22.720</td>\n      <td>4.0</td>\n      <td>0.2</td>\n      <td>7.3840</td>\n    </tr>\n  </tbody>\n</table>\n</div>"
     },
     "execution_count": 2,
     "metadata": {},
     "output_type": "execute_result"
    }
   ],
   "source": [
    "import pandas as pd\n",
    "import numpy as np\n",
    "\n",
    "%matplotlib inline\n",
    "\n",
    "df_missing=pd.read_excel(\"data/Sample - Superstore.xls\",sheet_name=\"Missing\")\n",
    "df_missing.head()"
   ],
   "metadata": {
    "pycharm": {
     "name": "#%%\n"
    },
    "id": "5C4ZEzZv7xck",
    "outputId": "df37f6ea-b0d3-4679-ee36-5285c88189dd"
   }
  },
  {
   "cell_type": "code",
   "execution_count": 39,
   "outputs": [
    {
     "data": {
      "text/plain": "array([['Brosina Hoffman', nan, 1706.1840000000002, 9.0, 0.2,\n        85.3091999999998],\n       ['Brosina Hoffman', 'Phones', 911.424, 4.0, 0.2,\n        68.35680000000002],\n       ['Zuschuss Donatelli', 'Art', 8.56, 2.0, 0.0, 2.4823999999999993],\n       ['Zuschuss Donatelli', 'Phones', nan, 3.0, 0.2, 16.01099999999998],\n       ['Zuschuss Donatelli', 'Binders', 22.72, 4.0, 0.2,\n        7.383999999999999],\n       ['Eric Hoffmann', 'Binders', 11.648000000000001, nan, 0.2, 4.2224],\n       ['Eric Hoffmann', 'Accessories', 90.57000000000001, 3.0, 0.0,\n        11.774100000000004],\n       ['Ruben Ausman', nan, 77.88, 2.0, 0.0, nan],\n       [nan, 'Accessories', 13.98, 2.0, 0.0, 6.151200000000001],\n       ['Kunst Miller', 'Binders', 25.824, 6.0, 0.2, 9.3612],\n       ['Kunst Miller', 'Paper', 146.73, 3.0, 0.0, 68.9631]], dtype=object)"
     },
     "execution_count": 39,
     "metadata": {},
     "output_type": "execute_result"
    }
   ],
   "source": [
    "df_missing.values"
   ],
   "metadata": {
    "pycharm": {
     "name": "#%%\n"
    },
    "id": "LhPCTcaI7xcm",
    "outputId": "2a7fb396-000d-479a-c75c-6104b259b173"
   }
  },
  {
   "cell_type": "code",
   "execution_count": 40,
   "outputs": [
    {
     "data": {
      "text/plain": "    Customer  Product  Sales  Quantity  Discount  Profit\n0      False     True  False     False     False   False\n1      False    False  False     False     False   False\n2      False    False  False     False     False   False\n3      False    False   True     False     False   False\n4      False    False  False     False     False   False\n5      False    False  False      True     False   False\n6      False    False  False     False     False   False\n7      False     True  False     False     False    True\n8       True    False  False     False     False   False\n9      False    False  False     False     False   False\n10     False    False  False     False     False   False",
      "text/html": "<div>\n<style scoped>\n    .dataframe tbody tr th:only-of-type {\n        vertical-align: middle;\n    }\n\n    .dataframe tbody tr th {\n        vertical-align: top;\n    }\n\n    .dataframe thead th {\n        text-align: right;\n    }\n</style>\n<table border=\"1\" class=\"dataframe\">\n  <thead>\n    <tr style=\"text-align: right;\">\n      <th></th>\n      <th>Customer</th>\n      <th>Product</th>\n      <th>Sales</th>\n      <th>Quantity</th>\n      <th>Discount</th>\n      <th>Profit</th>\n    </tr>\n  </thead>\n  <tbody>\n    <tr>\n      <th>0</th>\n      <td>False</td>\n      <td>True</td>\n      <td>False</td>\n      <td>False</td>\n      <td>False</td>\n      <td>False</td>\n    </tr>\n    <tr>\n      <th>1</th>\n      <td>False</td>\n      <td>False</td>\n      <td>False</td>\n      <td>False</td>\n      <td>False</td>\n      <td>False</td>\n    </tr>\n    <tr>\n      <th>2</th>\n      <td>False</td>\n      <td>False</td>\n      <td>False</td>\n      <td>False</td>\n      <td>False</td>\n      <td>False</td>\n    </tr>\n    <tr>\n      <th>3</th>\n      <td>False</td>\n      <td>False</td>\n      <td>True</td>\n      <td>False</td>\n      <td>False</td>\n      <td>False</td>\n    </tr>\n    <tr>\n      <th>4</th>\n      <td>False</td>\n      <td>False</td>\n      <td>False</td>\n      <td>False</td>\n      <td>False</td>\n      <td>False</td>\n    </tr>\n    <tr>\n      <th>5</th>\n      <td>False</td>\n      <td>False</td>\n      <td>False</td>\n      <td>True</td>\n      <td>False</td>\n      <td>False</td>\n    </tr>\n    <tr>\n      <th>6</th>\n      <td>False</td>\n      <td>False</td>\n      <td>False</td>\n      <td>False</td>\n      <td>False</td>\n      <td>False</td>\n    </tr>\n    <tr>\n      <th>7</th>\n      <td>False</td>\n      <td>True</td>\n      <td>False</td>\n      <td>False</td>\n      <td>False</td>\n      <td>True</td>\n    </tr>\n    <tr>\n      <th>8</th>\n      <td>True</td>\n      <td>False</td>\n      <td>False</td>\n      <td>False</td>\n      <td>False</td>\n      <td>False</td>\n    </tr>\n    <tr>\n      <th>9</th>\n      <td>False</td>\n      <td>False</td>\n      <td>False</td>\n      <td>False</td>\n      <td>False</td>\n      <td>False</td>\n    </tr>\n    <tr>\n      <th>10</th>\n      <td>False</td>\n      <td>False</td>\n      <td>False</td>\n      <td>False</td>\n      <td>False</td>\n      <td>False</td>\n    </tr>\n  </tbody>\n</table>\n</div>"
     },
     "execution_count": 40,
     "metadata": {},
     "output_type": "execute_result"
    }
   ],
   "source": [
    "df_missing.isnull()"
   ],
   "metadata": {
    "pycharm": {
     "name": "#%%\n"
    },
    "id": "ztkYWIEJ7xcn",
    "outputId": "81f92b43-c0d9-47e9-a9e0-99bb3f2b0596"
   }
  },
  {
   "cell_type": "code",
   "execution_count": 41,
   "outputs": [
    {
     "data": {
      "text/plain": "Customer    1\nProduct     2\nSales       1\nQuantity    1\nDiscount    0\nProfit      1\ndtype: int64"
     },
     "execution_count": 41,
     "metadata": {},
     "output_type": "execute_result"
    }
   ],
   "source": [
    "df_missing.isnull().sum()"
   ],
   "metadata": {
    "pycharm": {
     "name": "#%%\n"
    },
    "id": "V6Vn2zhQ7xco",
    "outputId": "86bc6393-9969-4e5f-8940-7ce145a09a17"
   }
  },
  {
   "cell_type": "code",
   "execution_count": 42,
   "outputs": [
    {
     "name": "stdout",
     "output_type": "stream",
     "text": [
      "Customer has 1 missing value(s)\n",
      "Product has 2 missing value(s)\n",
      "Sales has 1 missing value(s)\n",
      "Quantity has 1 missing value(s)\n",
      "Discount has NO missing value!\n",
      "Profit has 1 missing value(s)\n"
     ]
    }
   ],
   "source": [
    "for c in df_missing.columns:\n",
    "    miss = df_missing[c].isnull().sum()\n",
    "    if miss>0:\n",
    "        print(\"{} has {} missing value(s)\".format(c,miss))\n",
    "    else:\n",
    "        print(\"{} has NO missing value!\".format(c))"
   ],
   "metadata": {
    "pycharm": {
     "name": "#%%\n"
    },
    "id": "DMmWAsNx7xco",
    "outputId": "bf101c49-20a6-4a05-c121-6e7ea6d6a295"
   }
  },
  {
   "cell_type": "markdown",
   "source": [
    "### Rellenado de valores nulos"
   ],
   "metadata": {
    "collapsed": false,
    "pycharm": {
     "name": "#%% md\n"
    },
    "id": "JB27MZ007xcp"
   }
  },
  {
   "cell_type": "code",
   "execution_count": 43,
   "outputs": [
    {
     "data": {
      "text/plain": "              Customer      Product     Sales Quantity  Discount   Profit\n0      Brosina Hoffman         FILL  1706.184      9.0       0.2  85.3092\n1      Brosina Hoffman       Phones   911.424      4.0       0.2  68.3568\n2   Zuschuss Donatelli          Art      8.56      2.0       0.0   2.4824\n3   Zuschuss Donatelli       Phones      FILL      3.0       0.2   16.011\n4   Zuschuss Donatelli      Binders     22.72      4.0       0.2    7.384\n5        Eric Hoffmann      Binders    11.648     FILL       0.2   4.2224\n6        Eric Hoffmann  Accessories     90.57      3.0       0.0  11.7741\n7         Ruben Ausman         FILL     77.88      2.0       0.0     FILL\n8                 FILL  Accessories     13.98      2.0       0.0   6.1512\n9         Kunst Miller      Binders    25.824      6.0       0.2   9.3612\n10        Kunst Miller        Paper    146.73      3.0       0.0  68.9631",
      "text/html": "<div>\n<style scoped>\n    .dataframe tbody tr th:only-of-type {\n        vertical-align: middle;\n    }\n\n    .dataframe tbody tr th {\n        vertical-align: top;\n    }\n\n    .dataframe thead th {\n        text-align: right;\n    }\n</style>\n<table border=\"1\" class=\"dataframe\">\n  <thead>\n    <tr style=\"text-align: right;\">\n      <th></th>\n      <th>Customer</th>\n      <th>Product</th>\n      <th>Sales</th>\n      <th>Quantity</th>\n      <th>Discount</th>\n      <th>Profit</th>\n    </tr>\n  </thead>\n  <tbody>\n    <tr>\n      <th>0</th>\n      <td>Brosina Hoffman</td>\n      <td>FILL</td>\n      <td>1706.184</td>\n      <td>9.0</td>\n      <td>0.2</td>\n      <td>85.3092</td>\n    </tr>\n    <tr>\n      <th>1</th>\n      <td>Brosina Hoffman</td>\n      <td>Phones</td>\n      <td>911.424</td>\n      <td>4.0</td>\n      <td>0.2</td>\n      <td>68.3568</td>\n    </tr>\n    <tr>\n      <th>2</th>\n      <td>Zuschuss Donatelli</td>\n      <td>Art</td>\n      <td>8.56</td>\n      <td>2.0</td>\n      <td>0.0</td>\n      <td>2.4824</td>\n    </tr>\n    <tr>\n      <th>3</th>\n      <td>Zuschuss Donatelli</td>\n      <td>Phones</td>\n      <td>FILL</td>\n      <td>3.0</td>\n      <td>0.2</td>\n      <td>16.011</td>\n    </tr>\n    <tr>\n      <th>4</th>\n      <td>Zuschuss Donatelli</td>\n      <td>Binders</td>\n      <td>22.72</td>\n      <td>4.0</td>\n      <td>0.2</td>\n      <td>7.384</td>\n    </tr>\n    <tr>\n      <th>5</th>\n      <td>Eric Hoffmann</td>\n      <td>Binders</td>\n      <td>11.648</td>\n      <td>FILL</td>\n      <td>0.2</td>\n      <td>4.2224</td>\n    </tr>\n    <tr>\n      <th>6</th>\n      <td>Eric Hoffmann</td>\n      <td>Accessories</td>\n      <td>90.57</td>\n      <td>3.0</td>\n      <td>0.0</td>\n      <td>11.7741</td>\n    </tr>\n    <tr>\n      <th>7</th>\n      <td>Ruben Ausman</td>\n      <td>FILL</td>\n      <td>77.88</td>\n      <td>2.0</td>\n      <td>0.0</td>\n      <td>FILL</td>\n    </tr>\n    <tr>\n      <th>8</th>\n      <td>FILL</td>\n      <td>Accessories</td>\n      <td>13.98</td>\n      <td>2.0</td>\n      <td>0.0</td>\n      <td>6.1512</td>\n    </tr>\n    <tr>\n      <th>9</th>\n      <td>Kunst Miller</td>\n      <td>Binders</td>\n      <td>25.824</td>\n      <td>6.0</td>\n      <td>0.2</td>\n      <td>9.3612</td>\n    </tr>\n    <tr>\n      <th>10</th>\n      <td>Kunst Miller</td>\n      <td>Paper</td>\n      <td>146.73</td>\n      <td>3.0</td>\n      <td>0.0</td>\n      <td>68.9631</td>\n    </tr>\n  </tbody>\n</table>\n</div>"
     },
     "execution_count": 43,
     "metadata": {},
     "output_type": "execute_result"
    }
   ],
   "source": [
    "df_missing.fillna('FILL')"
   ],
   "metadata": {
    "pycharm": {
     "name": "#%%\n"
    },
    "id": "L40wC_W77xcq",
    "outputId": "1356b8be-841c-42a8-faa1-6a169d0d0185"
   }
  },
  {
   "cell_type": "code",
   "execution_count": 44,
   "outputs": [
    {
     "data": {
      "text/plain": "              Customer      Product\n0      Brosina Hoffman         FILL\n1      Brosina Hoffman       Phones\n2   Zuschuss Donatelli          Art\n3   Zuschuss Donatelli       Phones\n4   Zuschuss Donatelli      Binders\n5        Eric Hoffmann      Binders\n6        Eric Hoffmann  Accessories\n7         Ruben Ausman         FILL\n8                 FILL  Accessories\n9         Kunst Miller      Binders\n10        Kunst Miller        Paper",
      "text/html": "<div>\n<style scoped>\n    .dataframe tbody tr th:only-of-type {\n        vertical-align: middle;\n    }\n\n    .dataframe tbody tr th {\n        vertical-align: top;\n    }\n\n    .dataframe thead th {\n        text-align: right;\n    }\n</style>\n<table border=\"1\" class=\"dataframe\">\n  <thead>\n    <tr style=\"text-align: right;\">\n      <th></th>\n      <th>Customer</th>\n      <th>Product</th>\n    </tr>\n  </thead>\n  <tbody>\n    <tr>\n      <th>0</th>\n      <td>Brosina Hoffman</td>\n      <td>FILL</td>\n    </tr>\n    <tr>\n      <th>1</th>\n      <td>Brosina Hoffman</td>\n      <td>Phones</td>\n    </tr>\n    <tr>\n      <th>2</th>\n      <td>Zuschuss Donatelli</td>\n      <td>Art</td>\n    </tr>\n    <tr>\n      <th>3</th>\n      <td>Zuschuss Donatelli</td>\n      <td>Phones</td>\n    </tr>\n    <tr>\n      <th>4</th>\n      <td>Zuschuss Donatelli</td>\n      <td>Binders</td>\n    </tr>\n    <tr>\n      <th>5</th>\n      <td>Eric Hoffmann</td>\n      <td>Binders</td>\n    </tr>\n    <tr>\n      <th>6</th>\n      <td>Eric Hoffmann</td>\n      <td>Accessories</td>\n    </tr>\n    <tr>\n      <th>7</th>\n      <td>Ruben Ausman</td>\n      <td>FILL</td>\n    </tr>\n    <tr>\n      <th>8</th>\n      <td>FILL</td>\n      <td>Accessories</td>\n    </tr>\n    <tr>\n      <th>9</th>\n      <td>Kunst Miller</td>\n      <td>Binders</td>\n    </tr>\n    <tr>\n      <th>10</th>\n      <td>Kunst Miller</td>\n      <td>Paper</td>\n    </tr>\n  </tbody>\n</table>\n</div>"
     },
     "execution_count": 44,
     "metadata": {},
     "output_type": "execute_result"
    }
   ],
   "source": [
    "df_missing[['Customer','Product']].fillna('FILL')"
   ],
   "metadata": {
    "pycharm": {
     "name": "#%%\n"
    },
    "id": "WuZ-uiFM7xcr",
    "outputId": "eea4d687-7119-4f5a-95b9-d0792071f22e"
   }
  },
  {
   "cell_type": "code",
   "execution_count": 45,
   "outputs": [
    {
     "data": {
      "text/plain": "0     1706.184\n1      911.424\n2        8.560\n3        8.560\n4       22.720\n5       11.648\n6       90.570\n7       77.880\n8       13.980\n9       25.824\n10     146.730\nName: Sales, dtype: float64"
     },
     "execution_count": 45,
     "metadata": {},
     "output_type": "execute_result"
    }
   ],
   "source": [
    "df_missing['Sales'].fillna(method='ffill')"
   ],
   "metadata": {
    "pycharm": {
     "name": "#%%\n"
    },
    "id": "jqXg-UqW7xcr",
    "outputId": "bb6801cb-198d-4f83-e6d2-afc235e049ad"
   }
  },
  {
   "cell_type": "code",
   "execution_count": 46,
   "outputs": [
    {
     "data": {
      "text/plain": "0     1706.184\n1      911.424\n2        8.560\n3       22.720\n4       22.720\n5       11.648\n6       90.570\n7       77.880\n8       13.980\n9       25.824\n10     146.730\nName: Sales, dtype: float64"
     },
     "execution_count": 46,
     "metadata": {},
     "output_type": "execute_result"
    }
   ],
   "source": [
    "df_missing['Sales'].fillna(method='bfill')"
   ],
   "metadata": {
    "pycharm": {
     "name": "#%%\n"
    },
    "id": "MyVZZbko7xcs",
    "outputId": "2e1a49e3-5c0f-4d66-d684-dee1df46e46a"
   }
  },
  {
   "cell_type": "code",
   "execution_count": 47,
   "outputs": [
    {
     "name": "stderr",
     "output_type": "stream",
     "text": [
      "C:\\Users\\CRISTI~1\\AppData\\Local\\Temp/ipykernel_10804/1186702620.py:1: FutureWarning: Dropping of nuisance columns in DataFrame reductions (with 'numeric_only=None') is deprecated; in a future version this will raise TypeError.  Select only valid columns before calling the reduction.\n",
      "  df_missing['Sales'].fillna(df_missing.mean()['Sales'])\n"
     ]
    },
    {
     "data": {
      "text/plain": "0     1706.184\n1      911.424\n2        8.560\n3      301.552\n4       22.720\n5       11.648\n6       90.570\n7       77.880\n8       13.980\n9       25.824\n10     146.730\nName: Sales, dtype: float64"
     },
     "execution_count": 47,
     "metadata": {},
     "output_type": "execute_result"
    }
   ],
   "source": [
    "df_missing['Sales'].fillna(df_missing.mean()['Sales'])"
   ],
   "metadata": {
    "pycharm": {
     "name": "#%%\n"
    },
    "id": "S4DyaA4w7xct",
    "outputId": "73e16a47-4905-4a70-ccde-de1ac38c133c"
   }
  },
  {
   "cell_type": "markdown",
   "source": [],
   "metadata": {
    "collapsed": false
   }
  },
  {
   "cell_type": "markdown",
   "source": [
    "Busca información sobre los calculadores SimpleImputer y IterativeImputer. ¿Para qué sirven?"
   ],
   "metadata": {
    "collapsed": false,
    "pycharm": {
     "name": "#%% md\n"
    },
    "id": "grGeR0Fd7xct"
   }
  },
  {
   "cell_type": "code",
   "execution_count": 48,
   "outputs": [
    {
     "name": "stdout",
     "output_type": "stream",
     "text": [
      "[[7 2.0 3]\n",
      " [4 3.5 6]\n",
      " [10 5.0 29]]\n"
     ]
    }
   ],
   "source": [
    "import numpy as np\n",
    "from sklearn.impute import SimpleImputer\n",
    "imp = SimpleImputer(missing_values=np.nan, strategy='mean')\n",
    "df_missing['Sales'] = imp.fit_transform(df_missing[['Sales']])\n",
    "df_missing\n",
    "\n",
    "#Si quisiéramos aplicar múltiples estrategías, sería necesario utilizar fillna múltiples o ColumnTransformer como composer\n",
    "import numpy as np\n",
    "from sklearn.compose import ColumnTransformer\n",
    "from sklearn.impute import SimpleImputer\n",
    "\n",
    "A = [[7,2,3],[4,np.nan,6],[10,5,np.nan]]\n",
    "\n",
    "column_trans = ColumnTransformer(\n",
    "    [('imp_col1', SimpleImputer(strategy='mean'), [1]),\n",
    "     ('imp_col2', SimpleImputer(strategy='constant', fill_value=29), [2])],\n",
    "    remainder='passthrough')\n",
    "\n",
    "print(column_trans.fit_transform(A)[:, [2,0,1]])\n",
    "# [[7 2.0 3]\n",
    "#  [4 3.5 6]\n",
    "#  [10 5.0 29]]\n",
    "\n",
    "#El IterativeImputer se utiliza para recalcular valores de columnas relacionados/asociados. Más info: https://scikit-learn.org/stable/modules/impute.html#multivariate-feature-imputation"
   ],
   "metadata": {
    "collapsed": false,
    "pycharm": {
     "name": "#%%\n"
    }
   }
  },
  {
   "cell_type": "markdown",
   "source": [
    "### Borrado de valores nulos"
   ],
   "metadata": {
    "collapsed": false,
    "pycharm": {
     "name": "#%% md\n"
    },
    "id": "30Vha0Do7xcu"
   }
  },
  {
   "cell_type": "code",
   "execution_count": 49,
   "outputs": [
    {
     "data": {
      "text/plain": "              Customer      Product     Sales  Quantity  Discount   Profit\n0      Brosina Hoffman          NaN  1706.184       9.0       0.2  85.3092\n1      Brosina Hoffman       Phones   911.424       4.0       0.2  68.3568\n2   Zuschuss Donatelli          Art     8.560       2.0       0.0   2.4824\n3   Zuschuss Donatelli       Phones   301.552       3.0       0.2  16.0110\n4   Zuschuss Donatelli      Binders    22.720       4.0       0.2   7.3840\n5        Eric Hoffmann      Binders    11.648       NaN       0.2   4.2224\n6        Eric Hoffmann  Accessories    90.570       3.0       0.0  11.7741\n7         Ruben Ausman          NaN    77.880       2.0       0.0      NaN\n8                  NaN  Accessories    13.980       2.0       0.0   6.1512\n9         Kunst Miller      Binders    25.824       6.0       0.2   9.3612\n10        Kunst Miller        Paper   146.730       3.0       0.0  68.9631",
      "text/html": "<div>\n<style scoped>\n    .dataframe tbody tr th:only-of-type {\n        vertical-align: middle;\n    }\n\n    .dataframe tbody tr th {\n        vertical-align: top;\n    }\n\n    .dataframe thead th {\n        text-align: right;\n    }\n</style>\n<table border=\"1\" class=\"dataframe\">\n  <thead>\n    <tr style=\"text-align: right;\">\n      <th></th>\n      <th>Customer</th>\n      <th>Product</th>\n      <th>Sales</th>\n      <th>Quantity</th>\n      <th>Discount</th>\n      <th>Profit</th>\n    </tr>\n  </thead>\n  <tbody>\n    <tr>\n      <th>0</th>\n      <td>Brosina Hoffman</td>\n      <td>NaN</td>\n      <td>1706.184</td>\n      <td>9.0</td>\n      <td>0.2</td>\n      <td>85.3092</td>\n    </tr>\n    <tr>\n      <th>1</th>\n      <td>Brosina Hoffman</td>\n      <td>Phones</td>\n      <td>911.424</td>\n      <td>4.0</td>\n      <td>0.2</td>\n      <td>68.3568</td>\n    </tr>\n    <tr>\n      <th>2</th>\n      <td>Zuschuss Donatelli</td>\n      <td>Art</td>\n      <td>8.560</td>\n      <td>2.0</td>\n      <td>0.0</td>\n      <td>2.4824</td>\n    </tr>\n    <tr>\n      <th>3</th>\n      <td>Zuschuss Donatelli</td>\n      <td>Phones</td>\n      <td>301.552</td>\n      <td>3.0</td>\n      <td>0.2</td>\n      <td>16.0110</td>\n    </tr>\n    <tr>\n      <th>4</th>\n      <td>Zuschuss Donatelli</td>\n      <td>Binders</td>\n      <td>22.720</td>\n      <td>4.0</td>\n      <td>0.2</td>\n      <td>7.3840</td>\n    </tr>\n    <tr>\n      <th>5</th>\n      <td>Eric Hoffmann</td>\n      <td>Binders</td>\n      <td>11.648</td>\n      <td>NaN</td>\n      <td>0.2</td>\n      <td>4.2224</td>\n    </tr>\n    <tr>\n      <th>6</th>\n      <td>Eric Hoffmann</td>\n      <td>Accessories</td>\n      <td>90.570</td>\n      <td>3.0</td>\n      <td>0.0</td>\n      <td>11.7741</td>\n    </tr>\n    <tr>\n      <th>7</th>\n      <td>Ruben Ausman</td>\n      <td>NaN</td>\n      <td>77.880</td>\n      <td>2.0</td>\n      <td>0.0</td>\n      <td>NaN</td>\n    </tr>\n    <tr>\n      <th>8</th>\n      <td>NaN</td>\n      <td>Accessories</td>\n      <td>13.980</td>\n      <td>2.0</td>\n      <td>0.0</td>\n      <td>6.1512</td>\n    </tr>\n    <tr>\n      <th>9</th>\n      <td>Kunst Miller</td>\n      <td>Binders</td>\n      <td>25.824</td>\n      <td>6.0</td>\n      <td>0.2</td>\n      <td>9.3612</td>\n    </tr>\n    <tr>\n      <th>10</th>\n      <td>Kunst Miller</td>\n      <td>Paper</td>\n      <td>146.730</td>\n      <td>3.0</td>\n      <td>0.0</td>\n      <td>68.9631</td>\n    </tr>\n  </tbody>\n</table>\n</div>"
     },
     "execution_count": 49,
     "metadata": {},
     "output_type": "execute_result"
    }
   ],
   "source": [
    "# only drop rows where all columns are NaN\n",
    "df_missing.dropna(how='all')"
   ],
   "metadata": {
    "pycharm": {
     "name": "#%%\n"
    },
    "id": "2BC8hUTx7xcu",
    "outputId": "6f89069a-9fb2-4c7e-97c5-55e70d644441"
   }
  },
  {
   "cell_type": "code",
   "execution_count": 50,
   "outputs": [
    {
     "data": {
      "text/plain": "              Customer      Product     Sales  Quantity  Discount   Profit\n0      Brosina Hoffman          NaN  1706.184       9.0       0.2  85.3092\n1      Brosina Hoffman       Phones   911.424       4.0       0.2  68.3568\n2   Zuschuss Donatelli          Art     8.560       2.0       0.0   2.4824\n3   Zuschuss Donatelli       Phones   301.552       3.0       0.2  16.0110\n4   Zuschuss Donatelli      Binders    22.720       4.0       0.2   7.3840\n5        Eric Hoffmann      Binders    11.648       NaN       0.2   4.2224\n6        Eric Hoffmann  Accessories    90.570       3.0       0.0  11.7741\n8                  NaN  Accessories    13.980       2.0       0.0   6.1512\n9         Kunst Miller      Binders    25.824       6.0       0.2   9.3612\n10        Kunst Miller        Paper   146.730       3.0       0.0  68.9631",
      "text/html": "<div>\n<style scoped>\n    .dataframe tbody tr th:only-of-type {\n        vertical-align: middle;\n    }\n\n    .dataframe tbody tr th {\n        vertical-align: top;\n    }\n\n    .dataframe thead th {\n        text-align: right;\n    }\n</style>\n<table border=\"1\" class=\"dataframe\">\n  <thead>\n    <tr style=\"text-align: right;\">\n      <th></th>\n      <th>Customer</th>\n      <th>Product</th>\n      <th>Sales</th>\n      <th>Quantity</th>\n      <th>Discount</th>\n      <th>Profit</th>\n    </tr>\n  </thead>\n  <tbody>\n    <tr>\n      <th>0</th>\n      <td>Brosina Hoffman</td>\n      <td>NaN</td>\n      <td>1706.184</td>\n      <td>9.0</td>\n      <td>0.2</td>\n      <td>85.3092</td>\n    </tr>\n    <tr>\n      <th>1</th>\n      <td>Brosina Hoffman</td>\n      <td>Phones</td>\n      <td>911.424</td>\n      <td>4.0</td>\n      <td>0.2</td>\n      <td>68.3568</td>\n    </tr>\n    <tr>\n      <th>2</th>\n      <td>Zuschuss Donatelli</td>\n      <td>Art</td>\n      <td>8.560</td>\n      <td>2.0</td>\n      <td>0.0</td>\n      <td>2.4824</td>\n    </tr>\n    <tr>\n      <th>3</th>\n      <td>Zuschuss Donatelli</td>\n      <td>Phones</td>\n      <td>301.552</td>\n      <td>3.0</td>\n      <td>0.2</td>\n      <td>16.0110</td>\n    </tr>\n    <tr>\n      <th>4</th>\n      <td>Zuschuss Donatelli</td>\n      <td>Binders</td>\n      <td>22.720</td>\n      <td>4.0</td>\n      <td>0.2</td>\n      <td>7.3840</td>\n    </tr>\n    <tr>\n      <th>5</th>\n      <td>Eric Hoffmann</td>\n      <td>Binders</td>\n      <td>11.648</td>\n      <td>NaN</td>\n      <td>0.2</td>\n      <td>4.2224</td>\n    </tr>\n    <tr>\n      <th>6</th>\n      <td>Eric Hoffmann</td>\n      <td>Accessories</td>\n      <td>90.570</td>\n      <td>3.0</td>\n      <td>0.0</td>\n      <td>11.7741</td>\n    </tr>\n    <tr>\n      <th>8</th>\n      <td>NaN</td>\n      <td>Accessories</td>\n      <td>13.980</td>\n      <td>2.0</td>\n      <td>0.0</td>\n      <td>6.1512</td>\n    </tr>\n    <tr>\n      <th>9</th>\n      <td>Kunst Miller</td>\n      <td>Binders</td>\n      <td>25.824</td>\n      <td>6.0</td>\n      <td>0.2</td>\n      <td>9.3612</td>\n    </tr>\n    <tr>\n      <th>10</th>\n      <td>Kunst Miller</td>\n      <td>Paper</td>\n      <td>146.730</td>\n      <td>3.0</td>\n      <td>0.0</td>\n      <td>68.9631</td>\n    </tr>\n  </tbody>\n</table>\n</div>"
     },
     "execution_count": 50,
     "metadata": {},
     "output_type": "execute_result"
    }
   ],
   "source": [
    "# Keep only the rows with at least 5 non-NA values.\n",
    "df_missing.dropna(thresh=5, inplace=True)\n",
    "df_missing\n"
   ],
   "metadata": {
    "pycharm": {
     "name": "#%%\n"
    },
    "id": "uEfZqTUK7xcu",
    "outputId": "cf3e222d-0ef6-4641-fe8c-eb08bfab5893"
   }
  },
  {
   "cell_type": "code",
   "execution_count": 51,
   "outputs": [
    {
     "data": {
      "text/plain": "              Customer      Product     Sales  Quantity  Discount   Profit\n0      Brosina Hoffman          NaN  1706.184       9.0       0.2  85.3092\n1      Brosina Hoffman       Phones   911.424       4.0       0.2  68.3568\n2   Zuschuss Donatelli          Art     8.560       2.0       0.0   2.4824\n3   Zuschuss Donatelli       Phones   301.552       3.0       0.2  16.0110\n4   Zuschuss Donatelli      Binders    22.720       4.0       0.2   7.3840\n5        Eric Hoffmann      Binders    11.648       NaN       0.2   4.2224\n6        Eric Hoffmann  Accessories    90.570       3.0       0.0  11.7741\n8                  NaN  Accessories    13.980       2.0       0.0   6.1512\n9         Kunst Miller      Binders    25.824       6.0       0.2   9.3612\n10        Kunst Miller        Paper   146.730       3.0       0.0  68.9631",
      "text/html": "<div>\n<style scoped>\n    .dataframe tbody tr th:only-of-type {\n        vertical-align: middle;\n    }\n\n    .dataframe tbody tr th {\n        vertical-align: top;\n    }\n\n    .dataframe thead th {\n        text-align: right;\n    }\n</style>\n<table border=\"1\" class=\"dataframe\">\n  <thead>\n    <tr style=\"text-align: right;\">\n      <th></th>\n      <th>Customer</th>\n      <th>Product</th>\n      <th>Sales</th>\n      <th>Quantity</th>\n      <th>Discount</th>\n      <th>Profit</th>\n    </tr>\n  </thead>\n  <tbody>\n    <tr>\n      <th>0</th>\n      <td>Brosina Hoffman</td>\n      <td>NaN</td>\n      <td>1706.184</td>\n      <td>9.0</td>\n      <td>0.2</td>\n      <td>85.3092</td>\n    </tr>\n    <tr>\n      <th>1</th>\n      <td>Brosina Hoffman</td>\n      <td>Phones</td>\n      <td>911.424</td>\n      <td>4.0</td>\n      <td>0.2</td>\n      <td>68.3568</td>\n    </tr>\n    <tr>\n      <th>2</th>\n      <td>Zuschuss Donatelli</td>\n      <td>Art</td>\n      <td>8.560</td>\n      <td>2.0</td>\n      <td>0.0</td>\n      <td>2.4824</td>\n    </tr>\n    <tr>\n      <th>3</th>\n      <td>Zuschuss Donatelli</td>\n      <td>Phones</td>\n      <td>301.552</td>\n      <td>3.0</td>\n      <td>0.2</td>\n      <td>16.0110</td>\n    </tr>\n    <tr>\n      <th>4</th>\n      <td>Zuschuss Donatelli</td>\n      <td>Binders</td>\n      <td>22.720</td>\n      <td>4.0</td>\n      <td>0.2</td>\n      <td>7.3840</td>\n    </tr>\n    <tr>\n      <th>5</th>\n      <td>Eric Hoffmann</td>\n      <td>Binders</td>\n      <td>11.648</td>\n      <td>NaN</td>\n      <td>0.2</td>\n      <td>4.2224</td>\n    </tr>\n    <tr>\n      <th>6</th>\n      <td>Eric Hoffmann</td>\n      <td>Accessories</td>\n      <td>90.570</td>\n      <td>3.0</td>\n      <td>0.0</td>\n      <td>11.7741</td>\n    </tr>\n    <tr>\n      <th>8</th>\n      <td>NaN</td>\n      <td>Accessories</td>\n      <td>13.980</td>\n      <td>2.0</td>\n      <td>0.0</td>\n      <td>6.1512</td>\n    </tr>\n    <tr>\n      <th>9</th>\n      <td>Kunst Miller</td>\n      <td>Binders</td>\n      <td>25.824</td>\n      <td>6.0</td>\n      <td>0.2</td>\n      <td>9.3612</td>\n    </tr>\n    <tr>\n      <th>10</th>\n      <td>Kunst Miller</td>\n      <td>Paper</td>\n      <td>146.730</td>\n      <td>3.0</td>\n      <td>0.0</td>\n      <td>68.9631</td>\n    </tr>\n  </tbody>\n</table>\n</div>"
     },
     "execution_count": 51,
     "metadata": {},
     "output_type": "execute_result"
    }
   ],
   "source": [
    "# only drop rows where NaN appear in specific columns (here: 'Sales')\n",
    "df_missing.dropna(subset=['Sales'])"
   ],
   "metadata": {
    "pycharm": {
     "name": "#%%\n"
    },
    "id": "Y-rZPBRJ7xcv"
   }
  },
  {
   "cell_type": "code",
   "execution_count": 52,
   "outputs": [
    {
     "data": {
      "text/plain": "              Customer      Product    Sales  Quantity  Discount   Profit\n1      Brosina Hoffman       Phones  911.424       4.0       0.2  68.3568\n2   Zuschuss Donatelli          Art    8.560       2.0       0.0   2.4824\n3   Zuschuss Donatelli       Phones  301.552       3.0       0.2  16.0110\n4   Zuschuss Donatelli      Binders   22.720       4.0       0.2   7.3840\n6        Eric Hoffmann  Accessories   90.570       3.0       0.0  11.7741\n9         Kunst Miller      Binders   25.824       6.0       0.2   9.3612\n10        Kunst Miller        Paper  146.730       3.0       0.0  68.9631",
      "text/html": "<div>\n<style scoped>\n    .dataframe tbody tr th:only-of-type {\n        vertical-align: middle;\n    }\n\n    .dataframe tbody tr th {\n        vertical-align: top;\n    }\n\n    .dataframe thead th {\n        text-align: right;\n    }\n</style>\n<table border=\"1\" class=\"dataframe\">\n  <thead>\n    <tr style=\"text-align: right;\">\n      <th></th>\n      <th>Customer</th>\n      <th>Product</th>\n      <th>Sales</th>\n      <th>Quantity</th>\n      <th>Discount</th>\n      <th>Profit</th>\n    </tr>\n  </thead>\n  <tbody>\n    <tr>\n      <th>1</th>\n      <td>Brosina Hoffman</td>\n      <td>Phones</td>\n      <td>911.424</td>\n      <td>4.0</td>\n      <td>0.2</td>\n      <td>68.3568</td>\n    </tr>\n    <tr>\n      <th>2</th>\n      <td>Zuschuss Donatelli</td>\n      <td>Art</td>\n      <td>8.560</td>\n      <td>2.0</td>\n      <td>0.0</td>\n      <td>2.4824</td>\n    </tr>\n    <tr>\n      <th>3</th>\n      <td>Zuschuss Donatelli</td>\n      <td>Phones</td>\n      <td>301.552</td>\n      <td>3.0</td>\n      <td>0.2</td>\n      <td>16.0110</td>\n    </tr>\n    <tr>\n      <th>4</th>\n      <td>Zuschuss Donatelli</td>\n      <td>Binders</td>\n      <td>22.720</td>\n      <td>4.0</td>\n      <td>0.2</td>\n      <td>7.3840</td>\n    </tr>\n    <tr>\n      <th>6</th>\n      <td>Eric Hoffmann</td>\n      <td>Accessories</td>\n      <td>90.570</td>\n      <td>3.0</td>\n      <td>0.0</td>\n      <td>11.7741</td>\n    </tr>\n    <tr>\n      <th>9</th>\n      <td>Kunst Miller</td>\n      <td>Binders</td>\n      <td>25.824</td>\n      <td>6.0</td>\n      <td>0.2</td>\n      <td>9.3612</td>\n    </tr>\n    <tr>\n      <th>10</th>\n      <td>Kunst Miller</td>\n      <td>Paper</td>\n      <td>146.730</td>\n      <td>3.0</td>\n      <td>0.0</td>\n      <td>68.9631</td>\n    </tr>\n  </tbody>\n</table>\n</div>"
     },
     "execution_count": 52,
     "metadata": {},
     "output_type": "execute_result"
    }
   ],
   "source": [
    "df_missing.dropna(axis=0)"
   ],
   "metadata": {
    "pycharm": {
     "name": "#%%\n"
    },
    "id": "LEsalqb67xcv"
   }
  },
  {
   "cell_type": "code",
   "execution_count": 53,
   "outputs": [
    {
     "data": {
      "text/plain": "       Sales  Discount   Profit\n0   1706.184       0.2  85.3092\n1    911.424       0.2  68.3568\n2      8.560       0.0   2.4824\n3    301.552       0.2  16.0110\n4     22.720       0.2   7.3840\n5     11.648       0.2   4.2224\n6     90.570       0.0  11.7741\n8     13.980       0.0   6.1512\n9     25.824       0.2   9.3612\n10   146.730       0.0  68.9631",
      "text/html": "<div>\n<style scoped>\n    .dataframe tbody tr th:only-of-type {\n        vertical-align: middle;\n    }\n\n    .dataframe tbody tr th {\n        vertical-align: top;\n    }\n\n    .dataframe thead th {\n        text-align: right;\n    }\n</style>\n<table border=\"1\" class=\"dataframe\">\n  <thead>\n    <tr style=\"text-align: right;\">\n      <th></th>\n      <th>Sales</th>\n      <th>Discount</th>\n      <th>Profit</th>\n    </tr>\n  </thead>\n  <tbody>\n    <tr>\n      <th>0</th>\n      <td>1706.184</td>\n      <td>0.2</td>\n      <td>85.3092</td>\n    </tr>\n    <tr>\n      <th>1</th>\n      <td>911.424</td>\n      <td>0.2</td>\n      <td>68.3568</td>\n    </tr>\n    <tr>\n      <th>2</th>\n      <td>8.560</td>\n      <td>0.0</td>\n      <td>2.4824</td>\n    </tr>\n    <tr>\n      <th>3</th>\n      <td>301.552</td>\n      <td>0.2</td>\n      <td>16.0110</td>\n    </tr>\n    <tr>\n      <th>4</th>\n      <td>22.720</td>\n      <td>0.2</td>\n      <td>7.3840</td>\n    </tr>\n    <tr>\n      <th>5</th>\n      <td>11.648</td>\n      <td>0.2</td>\n      <td>4.2224</td>\n    </tr>\n    <tr>\n      <th>6</th>\n      <td>90.570</td>\n      <td>0.0</td>\n      <td>11.7741</td>\n    </tr>\n    <tr>\n      <th>8</th>\n      <td>13.980</td>\n      <td>0.0</td>\n      <td>6.1512</td>\n    </tr>\n    <tr>\n      <th>9</th>\n      <td>25.824</td>\n      <td>0.2</td>\n      <td>9.3612</td>\n    </tr>\n    <tr>\n      <th>10</th>\n      <td>146.730</td>\n      <td>0.0</td>\n      <td>68.9631</td>\n    </tr>\n  </tbody>\n</table>\n</div>"
     },
     "execution_count": 53,
     "metadata": {},
     "output_type": "execute_result"
    }
   ],
   "source": [
    "df_missing.dropna(axis=1)"
   ],
   "metadata": {
    "pycharm": {
     "name": "#%%\n"
    },
    "id": "dOjERivJ7xcv"
   }
  },
  {
   "cell_type": "code",
   "execution_count": 54,
   "outputs": [
    {
     "data": {
      "text/plain": "       Sales  Discount   Profit\n0   1706.184       0.2  85.3092\n1    911.424       0.2  68.3568\n2      8.560       0.0   2.4824\n3    301.552       0.2  16.0110\n4     22.720       0.2   7.3840\n5     11.648       0.2   4.2224\n6     90.570       0.0  11.7741\n8     13.980       0.0   6.1512\n9     25.824       0.2   9.3612\n10   146.730       0.0  68.9631",
      "text/html": "<div>\n<style scoped>\n    .dataframe tbody tr th:only-of-type {\n        vertical-align: middle;\n    }\n\n    .dataframe tbody tr th {\n        vertical-align: top;\n    }\n\n    .dataframe thead th {\n        text-align: right;\n    }\n</style>\n<table border=\"1\" class=\"dataframe\">\n  <thead>\n    <tr style=\"text-align: right;\">\n      <th></th>\n      <th>Sales</th>\n      <th>Discount</th>\n      <th>Profit</th>\n    </tr>\n  </thead>\n  <tbody>\n    <tr>\n      <th>0</th>\n      <td>1706.184</td>\n      <td>0.2</td>\n      <td>85.3092</td>\n    </tr>\n    <tr>\n      <th>1</th>\n      <td>911.424</td>\n      <td>0.2</td>\n      <td>68.3568</td>\n    </tr>\n    <tr>\n      <th>2</th>\n      <td>8.560</td>\n      <td>0.0</td>\n      <td>2.4824</td>\n    </tr>\n    <tr>\n      <th>3</th>\n      <td>301.552</td>\n      <td>0.2</td>\n      <td>16.0110</td>\n    </tr>\n    <tr>\n      <th>4</th>\n      <td>22.720</td>\n      <td>0.2</td>\n      <td>7.3840</td>\n    </tr>\n    <tr>\n      <th>5</th>\n      <td>11.648</td>\n      <td>0.2</td>\n      <td>4.2224</td>\n    </tr>\n    <tr>\n      <th>6</th>\n      <td>90.570</td>\n      <td>0.0</td>\n      <td>11.7741</td>\n    </tr>\n    <tr>\n      <th>8</th>\n      <td>13.980</td>\n      <td>0.0</td>\n      <td>6.1512</td>\n    </tr>\n    <tr>\n      <th>9</th>\n      <td>25.824</td>\n      <td>0.2</td>\n      <td>9.3612</td>\n    </tr>\n    <tr>\n      <th>10</th>\n      <td>146.730</td>\n      <td>0.0</td>\n      <td>68.9631</td>\n    </tr>\n  </tbody>\n</table>\n</div>"
     },
     "execution_count": 54,
     "metadata": {},
     "output_type": "execute_result"
    }
   ],
   "source": [
    "df_missing.dropna(axis=1,thresh=10)"
   ],
   "metadata": {
    "pycharm": {
     "name": "#%%\n"
    },
    "id": "quFn86O87xcw"
   }
  },
  {
   "cell_type": "markdown",
   "source": [
    "## 2. Datos categóricos\n",
    "\n",
    "En Machine Learning solo utilizamos valores numéricos, tipo de datos flotantes o enteros. Sin embargo, los conjuntos de datos a menudo contienen el objeto como tipo de datos, por lo tanto se hace necesario transformarlo en numérico. En la mayoría de los casos, los valores categóricos son discretos y puedes ser codificados como variables ficticias, asignando un número para cada categoría.\n",
    "[Tutorial DataCamp super completo](https://www.datacamp.com/community/tutorials/categorical-data)"
   ],
   "metadata": {
    "collapsed": false,
    "pycharm": {
     "name": "#%% md\n"
    },
    "id": "85M0sVqS7xcw"
   }
  },
  {
   "cell_type": "code",
   "execution_count": 55,
   "outputs": [
    {
     "data": {
      "text/plain": "   color size  price classlabel\n0  green    M   10.1     class1\n1    red    L   13.5     class2\n2   blue   XL   15.3     class1",
      "text/html": "<div>\n<style scoped>\n    .dataframe tbody tr th:only-of-type {\n        vertical-align: middle;\n    }\n\n    .dataframe tbody tr th {\n        vertical-align: top;\n    }\n\n    .dataframe thead th {\n        text-align: right;\n    }\n</style>\n<table border=\"1\" class=\"dataframe\">\n  <thead>\n    <tr style=\"text-align: right;\">\n      <th></th>\n      <th>color</th>\n      <th>size</th>\n      <th>price</th>\n      <th>classlabel</th>\n    </tr>\n  </thead>\n  <tbody>\n    <tr>\n      <th>0</th>\n      <td>green</td>\n      <td>M</td>\n      <td>10.1</td>\n      <td>class1</td>\n    </tr>\n    <tr>\n      <th>1</th>\n      <td>red</td>\n      <td>L</td>\n      <td>13.5</td>\n      <td>class2</td>\n    </tr>\n    <tr>\n      <th>2</th>\n      <td>blue</td>\n      <td>XL</td>\n      <td>15.3</td>\n      <td>class1</td>\n    </tr>\n  </tbody>\n</table>\n</div>"
     },
     "execution_count": 55,
     "metadata": {},
     "output_type": "execute_result"
    }
   ],
   "source": [
    "df = pd.DataFrame([\n",
    "    ['green', 'M', 10.1, 'class1'],\n",
    "    ['red', 'L', 13.5, 'class2'],\n",
    "    ['blue', 'XL', 15.3, 'class1']])\n",
    "df.columns = ['color', 'size', 'price', 'classlabel']\n",
    "df"
   ],
   "metadata": {
    "pycharm": {
     "name": "#%%\n"
    },
    "id": "RyZjHcT67xcw"
   }
  },
  {
   "cell_type": "markdown",
   "source": [
    "### Sustitución de los valores de la columna size por valores numéricos concretos"
   ],
   "metadata": {
    "collapsed": false,
    "pycharm": {
     "name": "#%% md\n"
    },
    "id": "CTXtz9dW7xcx"
   }
  },
  {
   "cell_type": "code",
   "execution_count": 56,
   "outputs": [
    {
     "data": {
      "text/plain": "   color  size  price classlabel\n0  green     1   10.1     class1\n1    red     2   13.5     class2\n2   blue     3   15.3     class1",
      "text/html": "<div>\n<style scoped>\n    .dataframe tbody tr th:only-of-type {\n        vertical-align: middle;\n    }\n\n    .dataframe tbody tr th {\n        vertical-align: top;\n    }\n\n    .dataframe thead th {\n        text-align: right;\n    }\n</style>\n<table border=\"1\" class=\"dataframe\">\n  <thead>\n    <tr style=\"text-align: right;\">\n      <th></th>\n      <th>color</th>\n      <th>size</th>\n      <th>price</th>\n      <th>classlabel</th>\n    </tr>\n  </thead>\n  <tbody>\n    <tr>\n      <th>0</th>\n      <td>green</td>\n      <td>1</td>\n      <td>10.1</td>\n      <td>class1</td>\n    </tr>\n    <tr>\n      <th>1</th>\n      <td>red</td>\n      <td>2</td>\n      <td>13.5</td>\n      <td>class2</td>\n    </tr>\n    <tr>\n      <th>2</th>\n      <td>blue</td>\n      <td>3</td>\n      <td>15.3</td>\n      <td>class1</td>\n    </tr>\n  </tbody>\n</table>\n</div>"
     },
     "execution_count": 56,
     "metadata": {},
     "output_type": "execute_result"
    }
   ],
   "source": [
    "size_mapping = {'XL': 3, 'L': 2, 'M': 1}\n",
    "df['size'] = df['size'].map(size_mapping)\n",
    "df"
   ],
   "metadata": {
    "pycharm": {
     "name": "#%%\n"
    },
    "id": "zYEpZQUb7xcx"
   }
  },
  {
   "cell_type": "markdown",
   "source": [
    "### Sustitución de los valores de la columna classlabel con un LabelEncoder"
   ],
   "metadata": {
    "collapsed": false,
    "pycharm": {
     "name": "#%% md\n"
    },
    "id": "0QWvOT6P7xcx"
   }
  },
  {
   "cell_type": "code",
   "execution_count": 57,
   "outputs": [
    {
     "data": {
      "text/plain": "array(['class1', 'class2'], dtype=object)"
     },
     "execution_count": 57,
     "metadata": {},
     "output_type": "execute_result"
    }
   ],
   "source": [
    "df['classlabel'].unique()"
   ],
   "metadata": {
    "pycharm": {
     "name": "#%%\n"
    },
    "id": "rNwzkvpZ7xcx"
   }
  },
  {
   "cell_type": "code",
   "execution_count": 58,
   "outputs": [
    {
     "data": {
      "text/plain": "   color  size  price  classlabel\n0  green     1   10.1           0\n1    red     2   13.5           1\n2   blue     3   15.3           0",
      "text/html": "<div>\n<style scoped>\n    .dataframe tbody tr th:only-of-type {\n        vertical-align: middle;\n    }\n\n    .dataframe tbody tr th {\n        vertical-align: top;\n    }\n\n    .dataframe thead th {\n        text-align: right;\n    }\n</style>\n<table border=\"1\" class=\"dataframe\">\n  <thead>\n    <tr style=\"text-align: right;\">\n      <th></th>\n      <th>color</th>\n      <th>size</th>\n      <th>price</th>\n      <th>classlabel</th>\n    </tr>\n  </thead>\n  <tbody>\n    <tr>\n      <th>0</th>\n      <td>green</td>\n      <td>1</td>\n      <td>10.1</td>\n      <td>0</td>\n    </tr>\n    <tr>\n      <th>1</th>\n      <td>red</td>\n      <td>2</td>\n      <td>13.5</td>\n      <td>1</td>\n    </tr>\n    <tr>\n      <th>2</th>\n      <td>blue</td>\n      <td>3</td>\n      <td>15.3</td>\n      <td>0</td>\n    </tr>\n  </tbody>\n</table>\n</div>"
     },
     "execution_count": 58,
     "metadata": {},
     "output_type": "execute_result"
    }
   ],
   "source": [
    "from sklearn.preprocessing import LabelEncoder\n",
    "class_label_encoder = LabelEncoder()\n",
    "df['classlabel'] = class_label_encoder.fit_transform(df['classlabel'].values)\n",
    "df"
   ],
   "metadata": {
    "pycharm": {
     "name": "#%%\n"
    },
    "id": "pJPnT_mh7xcy"
   }
  },
  {
   "cell_type": "markdown",
   "source": [
    "### Sustitución de los valores de la columna color con una columna para cada color"
   ],
   "metadata": {
    "collapsed": false,
    "pycharm": {
     "name": "#%% md\n"
    },
    "id": "vp6H92VT7xcy"
   }
  },
  {
   "cell_type": "code",
   "execution_count": 59,
   "outputs": [
    {
     "data": {
      "text/plain": "   price  size  color_blue  color_green  color_red\n0   10.1     1           0            1          0\n1   13.5     2           0            0          1\n2   15.3     3           1            0          0",
      "text/html": "<div>\n<style scoped>\n    .dataframe tbody tr th:only-of-type {\n        vertical-align: middle;\n    }\n\n    .dataframe tbody tr th {\n        vertical-align: top;\n    }\n\n    .dataframe thead th {\n        text-align: right;\n    }\n</style>\n<table border=\"1\" class=\"dataframe\">\n  <thead>\n    <tr style=\"text-align: right;\">\n      <th></th>\n      <th>price</th>\n      <th>size</th>\n      <th>color_blue</th>\n      <th>color_green</th>\n      <th>color_red</th>\n    </tr>\n  </thead>\n  <tbody>\n    <tr>\n      <th>0</th>\n      <td>10.1</td>\n      <td>1</td>\n      <td>0</td>\n      <td>1</td>\n      <td>0</td>\n    </tr>\n    <tr>\n      <th>1</th>\n      <td>13.5</td>\n      <td>2</td>\n      <td>0</td>\n      <td>0</td>\n      <td>1</td>\n    </tr>\n    <tr>\n      <th>2</th>\n      <td>15.3</td>\n      <td>3</td>\n      <td>1</td>\n      <td>0</td>\n      <td>0</td>\n    </tr>\n  </tbody>\n</table>\n</div>"
     },
     "execution_count": 59,
     "metadata": {},
     "output_type": "execute_result"
    }
   ],
   "source": [
    "pd.get_dummies(df[['price', 'color', 'size']])"
   ],
   "metadata": {
    "pycharm": {
     "name": "#%%\n"
    },
    "id": "wmOIPGIr7xcy"
   }
  },
  {
   "cell_type": "markdown",
   "source": [
    "Busca más información sobre otras transformaciones de datos categóricos y pon ejemplos sobre este df [Tutorial DataCamp super completo](https://www.datacamp.com/community/tutorials/categorical-data)"
   ],
   "metadata": {
    "collapsed": false,
    "pycharm": {
     "name": "#%% md\n"
    },
    "id": "b5K6YTG_7xcy"
   }
  },
  {
   "cell_type": "markdown",
   "source": [
    "## 3. Escalado y estandarizado\n",
    "\n",
    "[Fuente](https://towardsdatascience.com/scale-standardize-or-normalize-with-scikit-learn-6ccc7d176a02)\n",
    "* Scale generally means to change the range of the values. The shape of the distribution doesn’t change. Think about how a scale model of a building has the same proportions as the original, just smaller. That’s why we say it is drawn to scale. The range is often set at 0 to 1.\n",
    "* Standardize generally means changing the values so that the distribution’s standard deviation equals one. Scaling is often implied.\n",
    "* Normalize can be used to mean either of the above things (and more!). I suggest you avoid the term normalize, because it has many definitions and is prone to creating confusion."
   ],
   "metadata": {
    "collapsed": false,
    "id": "qaT8Mw_Y7xcy"
   }
  },
  {
   "cell_type": "code",
   "execution_count": 60,
   "outputs": [
    {
     "name": "stdout",
     "output_type": "stream",
     "text": [
      "Class labels [1 2 3]\n"
     ]
    },
    {
     "data": {
      "text/plain": "     Class label  Alcohol  Malic acid   Ash  Alcalinity of ash  Magnesium  \\\n0              1    14.23        1.71  2.43               15.6        127   \n1              1    13.20        1.78  2.14               11.2        100   \n2              1    13.16        2.36  2.67               18.6        101   \n3              1    14.37        1.95  2.50               16.8        113   \n4              1    13.24        2.59  2.87               21.0        118   \n..           ...      ...         ...   ...                ...        ...   \n173            3    13.71        5.65  2.45               20.5         95   \n174            3    13.40        3.91  2.48               23.0        102   \n175            3    13.27        4.28  2.26               20.0        120   \n176            3    13.17        2.59  2.37               20.0        120   \n177            3    14.13        4.10  2.74               24.5         96   \n\n     Total phenols  Flavanoids  Nonflavanoid phenols  Proanthocyanins  \\\n0             2.80        3.06                  0.28             2.29   \n1             2.65        2.76                  0.26             1.28   \n2             2.80        3.24                  0.30             2.81   \n3             3.85        3.49                  0.24             2.18   \n4             2.80        2.69                  0.39             1.82   \n..             ...         ...                   ...              ...   \n173           1.68        0.61                  0.52             1.06   \n174           1.80        0.75                  0.43             1.41   \n175           1.59        0.69                  0.43             1.35   \n176           1.65        0.68                  0.53             1.46   \n177           2.05        0.76                  0.56             1.35   \n\n     Color intensity   Hue  OD280/OD315 of diluted wines  Proline  \n0               5.64  1.04                          3.92     1065  \n1               4.38  1.05                          3.40     1050  \n2               5.68  1.03                          3.17     1185  \n3               7.80  0.86                          3.45     1480  \n4               4.32  1.04                          2.93      735  \n..               ...   ...                           ...      ...  \n173             7.70  0.64                          1.74      740  \n174             7.30  0.70                          1.56      750  \n175            10.20  0.59                          1.56      835  \n176             9.30  0.60                          1.62      840  \n177             9.20  0.61                          1.60      560  \n\n[178 rows x 14 columns]",
      "text/html": "<div>\n<style scoped>\n    .dataframe tbody tr th:only-of-type {\n        vertical-align: middle;\n    }\n\n    .dataframe tbody tr th {\n        vertical-align: top;\n    }\n\n    .dataframe thead th {\n        text-align: right;\n    }\n</style>\n<table border=\"1\" class=\"dataframe\">\n  <thead>\n    <tr style=\"text-align: right;\">\n      <th></th>\n      <th>Class label</th>\n      <th>Alcohol</th>\n      <th>Malic acid</th>\n      <th>Ash</th>\n      <th>Alcalinity of ash</th>\n      <th>Magnesium</th>\n      <th>Total phenols</th>\n      <th>Flavanoids</th>\n      <th>Nonflavanoid phenols</th>\n      <th>Proanthocyanins</th>\n      <th>Color intensity</th>\n      <th>Hue</th>\n      <th>OD280/OD315 of diluted wines</th>\n      <th>Proline</th>\n    </tr>\n  </thead>\n  <tbody>\n    <tr>\n      <th>0</th>\n      <td>1</td>\n      <td>14.23</td>\n      <td>1.71</td>\n      <td>2.43</td>\n      <td>15.6</td>\n      <td>127</td>\n      <td>2.80</td>\n      <td>3.06</td>\n      <td>0.28</td>\n      <td>2.29</td>\n      <td>5.64</td>\n      <td>1.04</td>\n      <td>3.92</td>\n      <td>1065</td>\n    </tr>\n    <tr>\n      <th>1</th>\n      <td>1</td>\n      <td>13.20</td>\n      <td>1.78</td>\n      <td>2.14</td>\n      <td>11.2</td>\n      <td>100</td>\n      <td>2.65</td>\n      <td>2.76</td>\n      <td>0.26</td>\n      <td>1.28</td>\n      <td>4.38</td>\n      <td>1.05</td>\n      <td>3.40</td>\n      <td>1050</td>\n    </tr>\n    <tr>\n      <th>2</th>\n      <td>1</td>\n      <td>13.16</td>\n      <td>2.36</td>\n      <td>2.67</td>\n      <td>18.6</td>\n      <td>101</td>\n      <td>2.80</td>\n      <td>3.24</td>\n      <td>0.30</td>\n      <td>2.81</td>\n      <td>5.68</td>\n      <td>1.03</td>\n      <td>3.17</td>\n      <td>1185</td>\n    </tr>\n    <tr>\n      <th>3</th>\n      <td>1</td>\n      <td>14.37</td>\n      <td>1.95</td>\n      <td>2.50</td>\n      <td>16.8</td>\n      <td>113</td>\n      <td>3.85</td>\n      <td>3.49</td>\n      <td>0.24</td>\n      <td>2.18</td>\n      <td>7.80</td>\n      <td>0.86</td>\n      <td>3.45</td>\n      <td>1480</td>\n    </tr>\n    <tr>\n      <th>4</th>\n      <td>1</td>\n      <td>13.24</td>\n      <td>2.59</td>\n      <td>2.87</td>\n      <td>21.0</td>\n      <td>118</td>\n      <td>2.80</td>\n      <td>2.69</td>\n      <td>0.39</td>\n      <td>1.82</td>\n      <td>4.32</td>\n      <td>1.04</td>\n      <td>2.93</td>\n      <td>735</td>\n    </tr>\n    <tr>\n      <th>...</th>\n      <td>...</td>\n      <td>...</td>\n      <td>...</td>\n      <td>...</td>\n      <td>...</td>\n      <td>...</td>\n      <td>...</td>\n      <td>...</td>\n      <td>...</td>\n      <td>...</td>\n      <td>...</td>\n      <td>...</td>\n      <td>...</td>\n      <td>...</td>\n    </tr>\n    <tr>\n      <th>173</th>\n      <td>3</td>\n      <td>13.71</td>\n      <td>5.65</td>\n      <td>2.45</td>\n      <td>20.5</td>\n      <td>95</td>\n      <td>1.68</td>\n      <td>0.61</td>\n      <td>0.52</td>\n      <td>1.06</td>\n      <td>7.70</td>\n      <td>0.64</td>\n      <td>1.74</td>\n      <td>740</td>\n    </tr>\n    <tr>\n      <th>174</th>\n      <td>3</td>\n      <td>13.40</td>\n      <td>3.91</td>\n      <td>2.48</td>\n      <td>23.0</td>\n      <td>102</td>\n      <td>1.80</td>\n      <td>0.75</td>\n      <td>0.43</td>\n      <td>1.41</td>\n      <td>7.30</td>\n      <td>0.70</td>\n      <td>1.56</td>\n      <td>750</td>\n    </tr>\n    <tr>\n      <th>175</th>\n      <td>3</td>\n      <td>13.27</td>\n      <td>4.28</td>\n      <td>2.26</td>\n      <td>20.0</td>\n      <td>120</td>\n      <td>1.59</td>\n      <td>0.69</td>\n      <td>0.43</td>\n      <td>1.35</td>\n      <td>10.20</td>\n      <td>0.59</td>\n      <td>1.56</td>\n      <td>835</td>\n    </tr>\n    <tr>\n      <th>176</th>\n      <td>3</td>\n      <td>13.17</td>\n      <td>2.59</td>\n      <td>2.37</td>\n      <td>20.0</td>\n      <td>120</td>\n      <td>1.65</td>\n      <td>0.68</td>\n      <td>0.53</td>\n      <td>1.46</td>\n      <td>9.30</td>\n      <td>0.60</td>\n      <td>1.62</td>\n      <td>840</td>\n    </tr>\n    <tr>\n      <th>177</th>\n      <td>3</td>\n      <td>14.13</td>\n      <td>4.10</td>\n      <td>2.74</td>\n      <td>24.5</td>\n      <td>96</td>\n      <td>2.05</td>\n      <td>0.76</td>\n      <td>0.56</td>\n      <td>1.35</td>\n      <td>9.20</td>\n      <td>0.61</td>\n      <td>1.60</td>\n      <td>560</td>\n    </tr>\n  </tbody>\n</table>\n<p>178 rows × 14 columns</p>\n</div>"
     },
     "execution_count": 60,
     "metadata": {},
     "output_type": "execute_result"
    }
   ],
   "source": [
    "import pandas as pd\n",
    "\n",
    "df_wine = pd.read_csv(\n",
    "    'https://archive.ics.uci.edu/ml/machine-learning-databases/wine/wine.data',\n",
    "    header=None)\n",
    "df_wine.columns = ['Class label', 'Alcohol', 'Malic acid', 'Ash',\n",
    "                   'Alcalinity of ash', 'Magnesium', 'Total phenols', 'Flavanoids',\n",
    "                   'Nonflavanoid phenols', 'Proanthocyanins', 'Color intensity', 'Hue',\n",
    "                   'OD280/OD315 of diluted wines','Proline']\n",
    "print('Class labels', np.unique(df_wine['Class label']))\n",
    "df_wine"
   ],
   "metadata": {
    "pycharm": {
     "name": "#%%\n"
    },
    "id": "3n4x9JcQ7xcz"
   }
  },
  {
   "cell_type": "code",
   "execution_count": 61,
   "outputs": [
    {
     "data": {
      "text/plain": "(54, 124)"
     },
     "execution_count": 61,
     "metadata": {},
     "output_type": "execute_result"
    }
   ],
   "source": [
    "from sklearn.model_selection import train_test_split\n",
    "X, y = df_wine.iloc[:, 1:].values, df_wine.iloc[:, 0].values\n",
    "X_train, X_test, y_train, y_test = train_test_split(X, y, test_size=0.3, random_state=0)\n",
    "len(X_test), len(X_train)"
   ],
   "metadata": {
    "pycharm": {
     "name": "#%%\n"
    },
    "id": "KzV-A8YZ7xcz"
   }
  },
  {
   "cell_type": "markdown",
   "source": [
    "### MinMaxScaler\n",
    "\n",
    "For each value in a feature, MinMaxScaler subtracts the minimum value in the feature and then divides by the range. The range is the difference between the original maximum and original minimum.\n",
    "MinMaxScaler preserves the shape of the original distribution. It doesn’t meaningfully change the information embedded in the original data.\n",
    "Note that MinMaxScaler doesn’t reduce the importance of outliers.\n",
    "The default range for the feature returned by MinMaxScaler is 0 to 1."
   ],
   "metadata": {
    "collapsed": false,
    "pycharm": {
     "name": "#%% md\n"
    },
    "id": "wXoXoD1s7xcz"
   }
  },
  {
   "cell_type": "code",
   "execution_count": 62,
   "outputs": [],
   "source": [
    "from sklearn.preprocessing import MinMaxScaler\n",
    "mms = MinMaxScaler()\n",
    "X_train_norm = mms.fit_transform(X_train)\n",
    "X_test_norm = mms.transform(X_test)"
   ],
   "metadata": {
    "pycharm": {
     "name": "#%%\n"
    },
    "id": "onqnDi2Z7xcz"
   }
  },
  {
   "cell_type": "code",
   "execution_count": 63,
   "outputs": [
    {
     "data": {
      "text/plain": "array([[0.72043011, 0.20378151, 0.53763441, ..., 0.48717949, 1.        ,\n        0.5854251 ],\n       [0.31989247, 0.08403361, 0.31182796, ..., 0.27350427, 0.64102564,\n        0.        ],\n       [0.60215054, 0.71218487, 0.48387097, ..., 0.04273504, 0.10622711,\n        0.42348178],\n       ...,\n       [0.37365591, 0.1512605 , 0.44623656, ..., 0.44444444, 0.61904762,\n        0.02672065],\n       [0.77150538, 0.16596639, 0.40860215, ..., 0.31623932, 0.75457875,\n        0.54493927],\n       [0.84139785, 0.34033613, 0.60215054, ..., 0.06837607, 0.16117216,\n        0.28178138]])"
     },
     "execution_count": 63,
     "metadata": {},
     "output_type": "execute_result"
    }
   ],
   "source": [
    "X_train_norm\n"
   ],
   "metadata": {
    "pycharm": {
     "name": "#%%\n"
    },
    "id": "2NzWyIO17xc0"
   }
  },
  {
   "cell_type": "code",
   "execution_count": 64,
   "outputs": [
    {
     "data": {
      "text/plain": "array([[ 0.72849462,  0.16386555,  0.47849462,  0.29896907,  0.52173913,\n         0.53956835,  0.74311927,  0.13461538,  0.37974684,  0.4364852 ,\n         0.32478632,  0.70695971,  0.60566802],\n       [ 0.47311828,  0.37394958,  0.60215054,  0.58762887,  0.45652174,\n         0.13669065,  0.27217125,  0.19230769,  0.26582278,  0.90926457,\n        -0.05128205,  0.07326007,  0.13603239],\n       [ 0.36021505,  0.05042017,  0.43010753,  0.43298969,  0.18478261,\n         0.86330935,  0.80428135,  0.09615385,  0.45886076,  0.30276982,\n         0.58119658,  0.58608059,  0.08744939],\n       [ 0.68010753,  0.17647059,  0.59139785,  0.51030928,  0.5       ,\n         0.66906475,  0.70642202,  0.11538462,  0.64240506,  0.47468959,\n         0.37606838,  0.64468864,  0.65425101],\n       [ 0.54301075,  1.03151261,  0.41397849,  0.56185567,  0.17391304,\n         0.54676259,  0.66666667,  0.30769231,  0.50316456,  0.1260745 ,\n         0.16239316,  0.67032967,  0.05506073],\n       [ 0.14247312,  0.24369748,  1.00537634,  0.92268041,  0.5326087 ,\n         0.74820144,  1.40978593,  0.63461538,  0.45886076,  0.45081184,\n         0.33333333,  0.88644689,  0.12388664],\n       [ 0.81451613,  0.26470588,  0.67204301,  0.36082474,  0.55434783,\n         0.53956835,  0.62385321,  0.32692308,  0.26265823,  0.36007641,\n         0.44444444,  0.84615385,  0.79595142],\n       [ 0.35752688,  0.61764706,  0.5483871 ,  0.53608247,  0.19565217,\n         0.43165468,  0.13761468,  0.69230769,  0.19620253,  0.60840497,\n         0.01709402,  0.11355311,  0.16842105],\n       [ 0.32795699,  0.17647059,  0.40860215,  0.43298969,  0.10869565,\n         0.19784173,  0.47706422,  0.44230769,  0.38291139,  0.20248329,\n         0.39316239,  0.6959707 ,  0.16032389],\n       [ 0.28225806,  0.19747899,  0.51612903,  0.40721649,  0.11956522,\n         0.17985612,  0.31498471,  0.73076923,  0.38607595,  0.1069723 ,\n         0.46153846,  0.36630037,  0.13603239],\n       [ 0.62634409,  0.35084034,  0.53225806,  0.48453608,  0.20652174,\n         0.10791367,  0.00917431,  0.44230769,  0.06962025,  0.41260745,\n         0.13675214,  0.43956044,  0.37894737],\n       [ 0.76612903,  0.87184874,  0.46774194,  0.48453608,  0.10869565,\n        -0.04316547, -0.03975535,  0.5       ,  0.08227848,  0.34574976,\n         0.03418803,  0.02197802,  0.08340081],\n       [ 0.85215054,  0.18277311,  0.58602151,  0.2371134 ,  0.45652174,\n         0.78057554,  0.89296636,  0.38461538,  0.49050633,  0.52244508,\n         0.43589744,  0.57875458,  0.92145749],\n       [ 0.36021505,  0.03781513,  0.39784946,  0.40721649,  0.19565217,\n         0.8705036 ,  1.0030581 ,  0.19230769,  0.48417722,  0.30754537,\n         0.42735043,  0.54945055,  0.28178138],\n       [ 0.68548387,  0.35504202,  0.71505376,  0.71649485,  0.38043478,\n         0.1618705 ,  0.11314985,  0.48076923,  0.35443038,  0.70487106,\n         0.17094017,  0.19413919,  0.35465587],\n       [ 0.26075269,  0.00630252,  0.34408602,  0.43298969,  0.17391304,\n         0.47482014,  0.54740061,  0.30769231,  0.31962025,  0.1165234 ,\n         0.71794872,  0.67765568, -0.02753036],\n       [ 0.73387097,  0.13445378,  0.72043011,  0.45876289,  0.67391304,\n         0.66546763,  0.6941896 ,  0.69230769,  0.2943038 ,  0.39350525,\n         0.60683761,  0.63369963,  0.74736842],\n       [ 0.84946237,  0.14705882,  0.60215054,  0.30412371,  0.41304348,\n         0.79136691,  1.05810398,  0.34615385,  0.4556962 ,  0.7086915 ,\n         0.58974359,  0.56776557,  1.10769231],\n       [ 0.4327957 ,  0.0987395 ,  0.35483871,  0.31958763,  0.32608696,\n         0.33093525,  0.28746177,  0.75      ,  0.06329114,  0.4269341 ,\n         0.37606838,  0.11721612,  0.11174089],\n       [ 0.75268817,  0.15966387,  0.66666667,  0.34020619,  0.26086957,\n         0.48561151,  0.7706422 ,  0.15384615,  0.59177215,  0.41260745,\n         0.5982906 ,  0.76923077,  0.77165992],\n       [ 0.55913978,  0.02521008,  0.1827957 ,  0.22680412,  0.08695652,\n         0.67625899,  0.82874618,  0.23076923,  0.58860759,  0.38395415,\n         0.4957265 ,  0.6996337 ,  0.15384615],\n       [ 0.54301075,  0.15966387,  0.63978495,  0.3814433 ,  0.30434783,\n         0.48561151,  0.59938838,  0.28846154,  0.32278481,  0.28366762,\n         0.4957265 ,  0.45421245,  0.64210526],\n       [ 0.59408602,  0.35714286,  0.81182796,  0.53608247,  0.52173913,\n         0.61151079,  0.67889908,  0.48076923,  0.44303797,  0.29035339,\n         0.42735043,  0.60805861,  0.34251012],\n       [ 0.39784946,  0.17647059,  0.33333333,  0.51030928,  0.16304348,\n         0.39568345,  0.44342508,  0.34615385,  0.33544304,  0.15854823,\n         0.42735043,  0.84249084,  0.29149798],\n       [ 0.34946237,  0.04411765,  0.49462366,  0.27835052,  0.33695652,\n         0.34172662,  0.18960245,  0.94230769, -0.00316456,  0.19006686,\n         0.60683761,  0.14652015,  0.29797571],\n       [ 0.40053763,  0.32352941,  0.43548387,  0.53608247,  0.19565217,\n         0.52158273,  0.55045872,  0.23076923,  0.25316456,  0.06876791,\n         0.30769231,  0.55311355,  0.01052632],\n       [ 0.37634409,  0.13445378,  0.5       ,  0.56185567,  0.17391304,\n         0.58992806,  0.81957187,  0.48076923,  0.42721519,  0.25405922,\n         0.12820513,  0.57509158,  0.03238866],\n       [ 0.30376344,  0.1512605 ,  0.51075269,  0.62886598,  0.2173913 ,\n         0.24460432,  0.37308869,  0.55769231,  0.36075949,  0.11174785,\n         0.67521368,  0.36263736,  0.14817814],\n       [ 0.19623656,  0.37605042,  0.83870968,  0.48453608,  0.35869565,\n         0.23381295,  0.47706422,  0.88461538,  0.19936709,  0.24068768,\n         0.58974359,  0.45054945,  0.2388664 ],\n       [ 0.73924731,  0.39285714,  0.50537634,  0.58762887,  0.2173913 ,\n         0.08992806,  0.06422018,  0.51923077,  0.19303797,  0.79274117,\n         0.13675214,  0.15018315,  0.24534413],\n       [ 0.6344086 ,  0.18487395,  0.67741935,  0.28350515,  0.25      ,\n         0.6294964 ,  0.75535168,  0.38461538,  0.32594937,  0.33619866,\n         0.32478632,  0.71428571,  0.71497976],\n       [ 0.85752688,  0.17016807,  0.50537634,  0.29381443,  0.52173913,\n         0.75539568,  0.77370031,  0.23076923,  0.50949367,  0.48710602,\n         0.34188034,  0.74725275,  0.53279352],\n       [ 0.27150538,  0.71638655,  0.5483871 ,  0.58762887,  0.10869565,\n         0.35971223,  0.39143731,  0.53846154,  0.2943038 ,  0.1260745 ,\n         0.21367521,  0.47619048,  0.21700405],\n       [ 0.85483871,  0.66176471,  0.58064516,  0.42783505,  0.44565217,\n         0.6294964 ,  0.66666667,  0.30769231,  0.26265823,  0.3782235 ,\n         0.28205128,  0.75457875,  0.62186235],\n       [ 1.02150538,  0.15756303,  0.43548387,  0.17525773,  0.29347826,\n         0.61151079,  0.7675841 ,  0.28846154,  0.49367089,  0.37440306,\n         0.46153846,  0.57875458,  0.59352227],\n       [ 0.54301075,  0.18487395,  0.39784946,  0.32989691,  0.40217391,\n         0.68345324,  0.77370031,  0.26923077,  0.50949367,  0.3591213 ,\n         0.29059829,  0.76190476,  0.46396761],\n       [ 0.71505376,  0.49789916,  0.6344086 ,  0.48453608,  0.40217391,\n         0.26258993,  0.02752294,  0.69230769,  0.12025316,  0.43935053,\n         0.35897436,  0.2014652 ,  0.29797571],\n       [ 0.44623656,  0.13445378,  0.48387097,  0.52061856,  0.10869565,\n         0.10071942,  0.30275229,  0.84615385,  0.37974684,  0.16905444,\n         0.35897436,  0.28937729,  0.14817814],\n       [ 0.15860215,  0.23109244,  0.49462366,  0.3814433 ,  0.30434783,\n         0.69064748,  0.54740061,  0.05769231,  0.2943038 ,  0.18815664,\n         0.52991453,  0.61904762,  0.02672065],\n       [ 0.63709677,  0.63445378,  0.60215054,  0.63917526,  0.34782609,\n         0.25179856,  0.08562691,  0.55769231,  0.31329114,  0.57497612,\n         0.13675214,  0.10622711,  0.35465587],\n       [ 0.66397849,  0.19327731,  0.67204301,  0.48453608,  0.2826087 ,\n         0.51438849,  0.65443425,  0.26923077,  0.39240506,  0.2139446 ,\n         0.4957265 ,  0.93406593,  0.43157895],\n       [ 0.72580645,  0.12815126,  0.72043011,  0.61340206,  0.33695652,\n         0.68345324,  0.85015291,  0.28846154,  0.62025316,  0.42215855,\n         0.55555556,  0.52747253,  0.78785425],\n       [ 0.33870968,  0.40756303,  0.46236559,  0.3814433 ,  0.19565217,\n         0.48561151,  0.54434251,  0.21153846,  0.49683544,  0.08309456,\n         0.52136752,  0.74358974, -0.01781377],\n       [ 0.42204301,  0.09453782,  0.29032258,  0.40721649,  0.19565217,\n         0.12589928,  0.27217125,  0.28846154,  0.2943038 ,  0.11174785,\n         0.42735043,  0.54945055,  0.20242915],\n       [ 0.10215054, -0.03151261,  0.61290323,  0.53608247,  0.19565217,\n         0.49640288,  0.47094801,  0.53846154,  0.32278481,  0.17191977,\n         0.47863248,  0.38095238,  0.09878543],\n       [ 0.7016129 ,  0.46428571,  0.64516129,  0.2371134 ,  0.5       ,\n         0.57553957,  0.78287462,  0.05769231,  0.39240506,  0.36485196,\n         0.35897436,  0.76556777,  0.43157895],\n       [ 0.42204301,  0.32983193,  0.4516129 ,  0.40721649,  0.26086957,\n         0.18705036,  0.05810398,  0.94230769,  0.16455696,  0.55587393,\n         0.16239316,  0.11355311,  0.31012146],\n       [ 0.25      ,  0.04201681,  0.50537634,  0.53608247,  0.33695652,\n         0.82014388,  0.51070336, -0.01923077,  0.38924051,  0.1843362 ,\n         0.38461538,  0.68131868,  0.46477733],\n       [ 0.32795699,  0.62815126,  0.4516129 ,  0.40721649,  0.45652174,\n         0.10071942,  0.09480122,  0.28846154,  0.2278481 ,  0.66189112,\n         0.09401709,  0.26739927,  0.43967611],\n       [ 0.87903226,  0.21638655,  0.7311828 ,  0.48453608,  0.54347826,\n         0.61151079,  0.81651376,  0.36538462,  0.49050633,  0.46991404,\n         0.45299145,  0.50549451,  0.78380567],\n       [ 0.49731183,  0.44117647,  0.55913978,  0.48453608,  0.36956522,\n         0.07194245,  0.2293578 ,  0.19230769,  0.12974684,  0.39350525,\n         0.17094017,  0.05494505,  0.17651822],\n       [ 0.66129032,  0.56722689,  0.44623656,  0.45876289,  0.19565217,\n         0.18705036,  0.0030581 ,  0.84615385,  0.14556962,  0.42215855,\n         0.23076923,  0.2014652 ,  0.21700405],\n       [ 0.68010753,  0.17226891,  0.51075269,  0.28865979,  0.51086957,\n         0.73741007,  0.86238532,  0.38461538,  0.60759494,  0.46322827,\n         0.35042735,  0.77289377,  0.39109312],\n       [ 0.88978495,  0.16596639,  0.72043011,  0.74226804,  0.30434783,\n         0.61151079,  0.25688073,  0.75      ,  0.72151899,  1.11938873,\n         0.02564103,  0.25274725,  0.28178138]])"
     },
     "execution_count": 64,
     "metadata": {},
     "output_type": "execute_result"
    }
   ],
   "source": [
    "X_test_norm"
   ],
   "metadata": {
    "pycharm": {
     "name": "#%%\n"
    },
    "id": "pB29PPGg7xc0"
   }
  },
  {
   "cell_type": "code",
   "execution_count": 65,
   "outputs": [
    {
     "data": {
      "text/plain": "array([0.72043011, 0.20378151, 0.53763441, 0.30927835, 0.33695652,\n       0.54316547, 0.73700306, 0.25      , 0.40189873, 0.24068768,\n       0.48717949, 1.        , 0.5854251 ])"
     },
     "execution_count": 65,
     "metadata": {},
     "output_type": "execute_result"
    }
   ],
   "source": [
    "X_train_norm[0]"
   ],
   "metadata": {
    "pycharm": {
     "name": "#%%\n"
    },
    "id": "XJ_7RYuO7xc0"
   }
  },
  {
   "cell_type": "markdown",
   "source": [
    "Notice how the features are all on the same relative scale. The relative spaces between each feature’s values have been maintained.\n",
    "MinMaxScaler isn’t a bad place to start, unless you know you want your feature to have a normal distribution or you have outliers and you want them to have reduced influence."
   ],
   "metadata": {
    "collapsed": false,
    "pycharm": {
     "name": "#%% md\n"
    }
   }
  },
  {
   "cell_type": "markdown",
   "source": [
    "### RobustScaler\n",
    "\n",
    "RobustScaler transforms the feature vector by subtracting the median and then dividing by the interquartile range (75% value — 25% value).\n",
    "Like MinMaxScaler, our feature with large values — normal-big — is now of similar scale to the other features. Note that RobustScaler does not scale the data into a predetermined interval like MinMaxScaler. It does not meet the strict definition of scale I introduced earlier.\n",
    "Note that the range for each feature after RobustScaler is applied is larger than it was for MinMaxScaler.\n",
    "Use RobustScaler if you want to reduce the effects of outliers, relative to MinMaxScaler."
   ],
   "metadata": {
    "collapsed": false,
    "pycharm": {
     "name": "#%% md\n"
    }
   }
  },
  {
   "cell_type": "markdown",
   "source": [
    "### StandardScaler\n",
    "\n",
    "StandardScaler standardizes a feature by subtracting the mean and then scaling to unit variance. Unit variance means dividing all the values by the standard deviation. StandardScaler does not meet the strict definition of scale I introduced earlier.\n",
    "StandardScaler results in a distribution with a standard deviation equal to 1. The variance is equal to 1 also, because variance = standard deviation squared. And 1 squared = 1.\n",
    "StandardScaler makes the mean of the distribution approximately 0.\n",
    "Deep learning algorithms often call for zero mean and unit variance. Regression-type algorithms also benefit from normally distributed data with small sample sizes."
   ],
   "metadata": {
    "collapsed": false,
    "pycharm": {
     "name": "#%% md\n"
    },
    "id": "2PKMqTi27xc0"
   }
  },
  {
   "cell_type": "code",
   "execution_count": 66,
   "outputs": [],
   "source": [
    "from sklearn.preprocessing import StandardScaler\n",
    "stdsc = StandardScaler()\n",
    "X_train_std = stdsc.fit_transform(X_train)\n",
    "X_test_std = stdsc.transform(X_test)"
   ],
   "metadata": {
    "pycharm": {
     "name": "#%%\n"
    },
    "id": "6vDIa5Ed7xc0"
   }
  },
  {
   "cell_type": "code",
   "execution_count": 67,
   "outputs": [
    {
     "data": {
      "text/plain": "array([[ 0.91083058, -0.46259897, -0.01142613, ...,  0.65706596,\n         1.94354495,  0.93700997],\n       [-0.95609928, -0.96608672, -1.53725357, ..., -0.40859506,\n         0.58118003, -1.41336684],\n       [ 0.35952243,  1.67501572, -0.37471838, ..., -1.55950896,\n        -1.44846566,  0.28683658],\n       ...,\n       [-0.70550467, -0.68342693, -0.62902295, ...,  0.44393375,\n         0.49776993, -1.30608823],\n       [ 1.14889546, -0.6215951 , -0.88332752, ..., -0.19546286,\n         1.0121322 ,  0.77446662],\n       [ 1.47466845,  0.11155374,  0.42452457, ..., -1.43162964,\n        -1.23994042, -0.28206514]])"
     },
     "execution_count": 67,
     "metadata": {},
     "output_type": "execute_result"
    }
   ],
   "source": [
    "X_train_std"
   ],
   "metadata": {
    "pycharm": {
     "name": "#%%\n"
    },
    "id": "c1RKcJGv7xc1"
   }
  },
  {
   "cell_type": "code",
   "execution_count": 68,
   "outputs": [
    {
     "data": {
      "text/plain": "<matplotlib.collections.PathCollection at 0x1ec3d5c1880>"
     },
     "execution_count": 68,
     "metadata": {},
     "output_type": "execute_result"
    },
    {
     "data": {
      "text/plain": "<Figure size 432x288 with 1 Axes>",
      "image/png": "[encoded data removed]"
     },
     "metadata": {
      "needs_background": "light"
     },
     "output_type": "display_data"
    }
   ],
   "source": [
    "from matplotlib.pyplot import scatter\n",
    "\n",
    "xx = np.arange(len(X_train_std))\n",
    "yy1 = X_train_norm[:,1]\n",
    "yy2 = X_train_std[:,1]\n",
    "scatter(xx, yy1, color='b')\n",
    "scatter(xx, yy2, color='r')"
   ],
   "metadata": {
    "pycharm": {
     "name": "#%%\n"
    },
    "id": "LHbOHane7xc1"
   }
  },
  {
   "cell_type": "markdown",
   "source": [
    "### Normalizer\n",
    "\n",
    "Normalizer works on the rows, not the columns! I find that very unintuitive. It’s easy to miss this information in the docs.\n",
    "By default, L2 normalization is applied to each observation so the that the values in a row have a unit norm. Unit norm with L2 means that if each element were squared and summed, the total would equal 1. Alternatively, L1 (aka taxicab or Manhattan) normalization can be applied instead of L2 normalization.\n",
    "Normalizer does transform all the features to values between -1 and 1 (this text updated July 2019). In our example, normal_big ends up with all its values transformed to .9999999.\n",
    "In most cases one of the other preprocessing tools above will be more helpful.\n",
    "Again, scikit-learn’s Normalizer works on the rows, not the columns."
   ],
   "metadata": {
    "collapsed": false,
    "pycharm": {
     "name": "#%% md\n"
    }
   }
  },
  {
   "cell_type": "markdown",
   "source": [
    "## Ejercicio\n",
    "\n",
    "Carga el dataset sample sample_data.csv que tienes en el directorio data.\n",
    "1. Consulta cuántos valores nulos tiene el dataset y en qué columnas.\n",
    "2. Borra las filas que tengan valores nulos en las columnas Country y Purchased.\n",
    "3. Sustituye los valores nulos de las columnas Age y Salary por la media.\n",
    "4. Transforma la columna Country con un OneHotEncoder.\n",
    "5. Transforma la columna Purchased con un LabelEncoder.\n",
    "6. Divide el dataset en 4 grupos (training y testing).\n",
    "6. Escala las columnas Age y Salary con un StandardScaler."
   ],
   "metadata": {
    "id": "cp70g4TN73MC"
   }
  },
  {
   "cell_type": "code",
   "execution_count": 75,
   "outputs": [
    {
     "data": {
      "text/plain": "0     False\n1     False\n2     False\n3     False\n4     False\n5     False\n6     False\n7     False\n8     False\n9     False\n10    False\n11    False\n12    False\n13    False\n14    False\n15    False\n16    False\n17     True\n18    False\n19    False\n20    False\n21    False\n22     True\n23     True\n24    False\n25    False\n26     True\n27    False\n28    False\ndtype: bool"
     },
     "execution_count": 75,
     "metadata": {},
     "output_type": "execute_result"
    }
   ],
   "source": [
    "df2 = pd.read_csv('data/sample_data.csv')\n",
    "df2.duplicated()"
   ],
   "metadata": {
    "collapsed": false,
    "pycharm": {
     "name": "#%%\n"
    }
   }
  },
  {
   "cell_type": "code",
   "execution_count": 76,
   "outputs": [
    {
     "data": {
      "text/plain": "0     False\n1     False\n2     False\n3     False\n4     False\n5     False\n6     False\n7     False\n8     False\n9     False\n10    False\n11    False\n12    False\n13    False\n14    False\n15    False\n16    False\n18    False\n19    False\n20    False\n21    False\n24    False\n25    False\n27    False\n28    False\ndtype: bool"
     },
     "execution_count": 76,
     "metadata": {},
     "output_type": "execute_result"
    }
   ],
   "source": [
    "# Borramos duplicados\n",
    "df2.drop_duplicates(inplace=True)\n",
    "df2.duplicated()"
   ],
   "metadata": {
    "collapsed": false,
    "pycharm": {
     "name": "#%%\n"
    }
   }
  },
  {
   "cell_type": "code",
   "execution_count": 77,
   "outputs": [
    {
     "data": {
      "text/plain": "    Country   Age   Salary Purchased\n0    France  44.0  72000.0        No\n1     Spain  27.0  48000.0       Yes\n2   Germany  30.0  54000.0        No\n3     Spain  38.0  61000.0        No\n4   Nigeria  18.0  15000.0        No\n5   Germany  40.0      NaN       Yes\n6    France  35.0  58000.0       Yes\n7     Spain   NaN  52000.0        No\n8    France  48.0  79000.0       Yes\n9   Germany  50.0  83000.0        No\n10   France  37.0  67000.0       Yes\n11  Nigeria  50.0  60000.0       Yes\n12   France  22.0  30000.0        No\n15  Nigeria  35.0  43000.0       Yes\n16    Spain  34.0  44000.0       Yes\n18    Spain  33.0  48000.0       Yes\n19  Nigeria  29.0  77000.0       Yes\n20    Spain   NaN  57000.0       Yes\n21   France  44.0  48000.0       Yes\n24   France  37.0  23000.0       Yes\n25  Germany  45.0  50000.0        No\n27  Nigeria  30.0  30000.0       Yes\n28  Nigeria  29.0  15000.0        No",
      "text/html": "<div>\n<style scoped>\n    .dataframe tbody tr th:only-of-type {\n        vertical-align: middle;\n    }\n\n    .dataframe tbody tr th {\n        vertical-align: top;\n    }\n\n    .dataframe thead th {\n        text-align: right;\n    }\n</style>\n<table border=\"1\" class=\"dataframe\">\n  <thead>\n    <tr style=\"text-align: right;\">\n      <th></th>\n      <th>Country</th>\n      <th>Age</th>\n      <th>Salary</th>\n      <th>Purchased</th>\n    </tr>\n  </thead>\n  <tbody>\n    <tr>\n      <th>0</th>\n      <td>France</td>\n      <td>44.0</td>\n      <td>72000.0</td>\n      <td>No</td>\n    </tr>\n    <tr>\n      <th>1</th>\n      <td>Spain</td>\n      <td>27.0</td>\n      <td>48000.0</td>\n      <td>Yes</td>\n    </tr>\n    <tr>\n      <th>2</th>\n      <td>Germany</td>\n      <td>30.0</td>\n      <td>54000.0</td>\n      <td>No</td>\n    </tr>\n    <tr>\n      <th>3</th>\n      <td>Spain</td>\n      <td>38.0</td>\n      <td>61000.0</td>\n      <td>No</td>\n    </tr>\n    <tr>\n      <th>4</th>\n      <td>Nigeria</td>\n      <td>18.0</td>\n      <td>15000.0</td>\n      <td>No</td>\n    </tr>\n    <tr>\n      <th>5</th>\n      <td>Germany</td>\n      <td>40.0</td>\n      <td>NaN</td>\n      <td>Yes</td>\n    </tr>\n    <tr>\n      <th>6</th>\n      <td>France</td>\n      <td>35.0</td>\n      <td>58000.0</td>\n      <td>Yes</td>\n    </tr>\n    <tr>\n      <th>7</th>\n      <td>Spain</td>\n      <td>NaN</td>\n      <td>52000.0</td>\n      <td>No</td>\n    </tr>\n    <tr>\n      <th>8</th>\n      <td>France</td>\n      <td>48.0</td>\n      <td>79000.0</td>\n      <td>Yes</td>\n    </tr>\n    <tr>\n      <th>9</th>\n      <td>Germany</td>\n      <td>50.0</td>\n      <td>83000.0</td>\n      <td>No</td>\n    </tr>\n    <tr>\n      <th>10</th>\n      <td>France</td>\n      <td>37.0</td>\n      <td>67000.0</td>\n      <td>Yes</td>\n    </tr>\n    <tr>\n      <th>11</th>\n      <td>Nigeria</td>\n      <td>50.0</td>\n      <td>60000.0</td>\n      <td>Yes</td>\n    </tr>\n    <tr>\n      <th>12</th>\n      <td>France</td>\n      <td>22.0</td>\n      <td>30000.0</td>\n      <td>No</td>\n    </tr>\n    <tr>\n      <th>15</th>\n      <td>Nigeria</td>\n      <td>35.0</td>\n      <td>43000.0</td>\n      <td>Yes</td>\n    </tr>\n    <tr>\n      <th>16</th>\n      <td>Spain</td>\n      <td>34.0</td>\n      <td>44000.0</td>\n      <td>Yes</td>\n    </tr>\n    <tr>\n      <th>18</th>\n      <td>Spain</td>\n      <td>33.0</td>\n      <td>48000.0</td>\n      <td>Yes</td>\n    </tr>\n    <tr>\n      <th>19</th>\n      <td>Nigeria</td>\n      <td>29.0</td>\n      <td>77000.0</td>\n      <td>Yes</td>\n    </tr>\n    <tr>\n      <th>20</th>\n      <td>Spain</td>\n      <td>NaN</td>\n      <td>57000.0</td>\n      <td>Yes</td>\n    </tr>\n    <tr>\n      <th>21</th>\n      <td>France</td>\n      <td>44.0</td>\n      <td>48000.0</td>\n      <td>Yes</td>\n    </tr>\n    <tr>\n      <th>24</th>\n      <td>France</td>\n      <td>37.0</td>\n      <td>23000.0</td>\n      <td>Yes</td>\n    </tr>\n    <tr>\n      <th>25</th>\n      <td>Germany</td>\n      <td>45.0</td>\n      <td>50000.0</td>\n      <td>No</td>\n    </tr>\n    <tr>\n      <th>27</th>\n      <td>Nigeria</td>\n      <td>30.0</td>\n      <td>30000.0</td>\n      <td>Yes</td>\n    </tr>\n    <tr>\n      <th>28</th>\n      <td>Nigeria</td>\n      <td>29.0</td>\n      <td>15000.0</td>\n      <td>No</td>\n    </tr>\n  </tbody>\n</table>\n</div>"
     },
     "execution_count": 77,
     "metadata": {},
     "output_type": "execute_result"
    }
   ],
   "source": [
    "df2.dropna(subset=['Country','Purchased'], inplace=True)\n",
    "df2"
   ],
   "metadata": {
    "collapsed": false,
    "pycharm": {
     "name": "#%%\n"
    }
   }
  },
  {
   "cell_type": "code",
   "execution_count": 80,
   "outputs": [
    {
     "data": {
      "text/plain": "    Country        Age        Salary Purchased\n0    France  44.000000  72000.000000        No\n1     Spain  27.000000  48000.000000       Yes\n2   Germany  30.000000  54000.000000        No\n3     Spain  38.000000  61000.000000        No\n4   Nigeria  18.000000  15000.000000        No\n5   Germany  40.000000  50636.363636       Yes\n6    France  35.000000  58000.000000       Yes\n7     Spain  35.952381  52000.000000        No\n8    France  48.000000  79000.000000       Yes\n9   Germany  50.000000  83000.000000        No\n10   France  37.000000  67000.000000       Yes\n11  Nigeria  50.000000  60000.000000       Yes\n12   France  22.000000  30000.000000        No\n15  Nigeria  35.000000  43000.000000       Yes\n16    Spain  34.000000  44000.000000       Yes\n18    Spain  33.000000  48000.000000       Yes\n19  Nigeria  29.000000  77000.000000       Yes\n20    Spain  35.952381  57000.000000       Yes\n21   France  44.000000  48000.000000       Yes\n24   France  37.000000  23000.000000       Yes\n25  Germany  45.000000  50000.000000        No\n27  Nigeria  30.000000  30000.000000       Yes\n28  Nigeria  29.000000  15000.000000        No",
      "text/html": "<div>\n<style scoped>\n    .dataframe tbody tr th:only-of-type {\n        vertical-align: middle;\n    }\n\n    .dataframe tbody tr th {\n        vertical-align: top;\n    }\n\n    .dataframe thead th {\n        text-align: right;\n    }\n</style>\n<table border=\"1\" class=\"dataframe\">\n  <thead>\n    <tr style=\"text-align: right;\">\n      <th></th>\n      <th>Country</th>\n      <th>Age</th>\n      <th>Salary</th>\n      <th>Purchased</th>\n    </tr>\n  </thead>\n  <tbody>\n    <tr>\n      <th>0</th>\n      <td>France</td>\n      <td>44.000000</td>\n      <td>72000.000000</td>\n      <td>No</td>\n    </tr>\n    <tr>\n      <th>1</th>\n      <td>Spain</td>\n      <td>27.000000</td>\n      <td>48000.000000</td>\n      <td>Yes</td>\n    </tr>\n    <tr>\n      <th>2</th>\n      <td>Germany</td>\n      <td>30.000000</td>\n      <td>54000.000000</td>\n      <td>No</td>\n    </tr>\n    <tr>\n      <th>3</th>\n      <td>Spain</td>\n      <td>38.000000</td>\n      <td>61000.000000</td>\n      <td>No</td>\n    </tr>\n    <tr>\n      <th>4</th>\n      <td>Nigeria</td>\n      <td>18.000000</td>\n      <td>15000.000000</td>\n      <td>No</td>\n    </tr>\n    <tr>\n      <th>5</th>\n      <td>Germany</td>\n      <td>40.000000</td>\n      <td>50636.363636</td>\n      <td>Yes</td>\n    </tr>\n    <tr>\n      <th>6</th>\n      <td>France</td>\n      <td>35.000000</td>\n      <td>58000.000000</td>\n      <td>Yes</td>\n    </tr>\n    <tr>\n      <th>7</th>\n      <td>Spain</td>\n      <td>35.952381</td>\n      <td>52000.000000</td>\n      <td>No</td>\n    </tr>\n    <tr>\n      <th>8</th>\n      <td>France</td>\n      <td>48.000000</td>\n      <td>79000.000000</td>\n      <td>Yes</td>\n    </tr>\n    <tr>\n      <th>9</th>\n      <td>Germany</td>\n      <td>50.000000</td>\n      <td>83000.000000</td>\n      <td>No</td>\n    </tr>\n    <tr>\n      <th>10</th>\n      <td>France</td>\n      <td>37.000000</td>\n      <td>67000.000000</td>\n      <td>Yes</td>\n    </tr>\n    <tr>\n      <th>11</th>\n      <td>Nigeria</td>\n      <td>50.000000</td>\n      <td>60000.000000</td>\n      <td>Yes</td>\n    </tr>\n    <tr>\n      <th>12</th>\n      <td>France</td>\n      <td>22.000000</td>\n      <td>30000.000000</td>\n      <td>No</td>\n    </tr>\n    <tr>\n      <th>15</th>\n      <td>Nigeria</td>\n      <td>35.000000</td>\n      <td>43000.000000</td>\n      <td>Yes</td>\n    </tr>\n    <tr>\n      <th>16</th>\n      <td>Spain</td>\n      <td>34.000000</td>\n      <td>44000.000000</td>\n      <td>Yes</td>\n    </tr>\n    <tr>\n      <th>18</th>\n      <td>Spain</td>\n      <td>33.000000</td>\n      <td>48000.000000</td>\n      <td>Yes</td>\n    </tr>\n    <tr>\n      <th>19</th>\n      <td>Nigeria</td>\n      <td>29.000000</td>\n      <td>77000.000000</td>\n      <td>Yes</td>\n    </tr>\n    <tr>\n      <th>20</th>\n      <td>Spain</td>\n      <td>35.952381</td>\n      <td>57000.000000</td>\n      <td>Yes</td>\n    </tr>\n    <tr>\n      <th>21</th>\n      <td>France</td>\n      <td>44.000000</td>\n      <td>48000.000000</td>\n      <td>Yes</td>\n    </tr>\n    <tr>\n      <th>24</th>\n      <td>France</td>\n      <td>37.000000</td>\n      <td>23000.000000</td>\n      <td>Yes</td>\n    </tr>\n    <tr>\n      <th>25</th>\n      <td>Germany</td>\n      <td>45.000000</td>\n      <td>50000.000000</td>\n      <td>No</td>\n    </tr>\n    <tr>\n      <th>27</th>\n      <td>Nigeria</td>\n      <td>30.000000</td>\n      <td>30000.000000</td>\n      <td>Yes</td>\n    </tr>\n    <tr>\n      <th>28</th>\n      <td>Nigeria</td>\n      <td>29.000000</td>\n      <td>15000.000000</td>\n      <td>No</td>\n    </tr>\n  </tbody>\n</table>\n</div>"
     },
     "execution_count": 80,
     "metadata": {},
     "output_type": "execute_result"
    }
   ],
   "source": [
    "# Opción 1 columna a columna\n",
    "#df2['Age'].fillna(df2.mean()['Age'].round(0), inplace=True)\n",
    "#df2['Salary'].fillna(df2.mean()['Salary'].round(0), inplace=True)\n",
    "#df2\n",
    "# Opción 2\n",
    "#df2[['Age','Salary']] = df2[['Age','Salary']].fillna(df2.mean()[['Age','Salary']])\n",
    "#df2\n",
    "# Opción 3\n",
    "from sklearn.impute import SimpleImputer\n",
    "imp = SimpleImputer(missing_values=np.nan, strategy='mean')\n",
    "df2[['Age','Salary']] = imp.fit_transform(df2[['Age','Salary']].values)\n",
    "df2"
   ],
   "metadata": {
    "collapsed": false,
    "pycharm": {
     "name": "#%%\n"
    }
   }
  },
  {
   "cell_type": "code",
   "execution_count": 57,
   "outputs": [
    {
     "data": {
      "text/plain": "     Age   Salary  Country_France  Country_Germany  Country_Nigeria  \\\n0   44.0  72000.0               1                0                0   \n1   27.0  48000.0               0                0                0   \n2   30.0  54000.0               0                1                0   \n3   38.0  61000.0               0                0                0   \n4   18.0  15000.0               0                0                1   \n5   40.0  50636.0               0                1                0   \n6   35.0  58000.0               1                0                0   \n7   36.0  52000.0               0                0                0   \n8   48.0  79000.0               1                0                0   \n9   50.0  83000.0               0                1                0   \n10  37.0  67000.0               1                0                0   \n11  50.0  60000.0               0                0                1   \n12  22.0  30000.0               1                0                0   \n15  35.0  43000.0               0                0                1   \n16  34.0  44000.0               0                0                0   \n18  33.0  48000.0               0                0                0   \n19  29.0  77000.0               0                0                1   \n20  36.0  57000.0               0                0                0   \n21  44.0  48000.0               1                0                0   \n24  37.0  23000.0               1                0                0   \n25  45.0  50000.0               0                1                0   \n27  30.0  30000.0               0                0                1   \n28  29.0  15000.0               0                0                1   \n\n    Country_Spain  \n0               0  \n1               1  \n2               0  \n3               1  \n4               0  \n5               0  \n6               0  \n7               1  \n8               0  \n9               0  \n10              0  \n11              0  \n12              0  \n15              0  \n16              1  \n18              1  \n19              0  \n20              1  \n21              0  \n24              0  \n25              0  \n27              0  \n28              0  ",
      "text/html": "<div>\n<style scoped>\n    .dataframe tbody tr th:only-of-type {\n        vertical-align: middle;\n    }\n\n    .dataframe tbody tr th {\n        vertical-align: top;\n    }\n\n    .dataframe thead th {\n        text-align: right;\n    }\n</style>\n<table border=\"1\" class=\"dataframe\">\n  <thead>\n    <tr style=\"text-align: right;\">\n      <th></th>\n      <th>Age</th>\n      <th>Salary</th>\n      <th>Country_France</th>\n      <th>Country_Germany</th>\n      <th>Country_Nigeria</th>\n      <th>Country_Spain</th>\n    </tr>\n  </thead>\n  <tbody>\n    <tr>\n      <th>0</th>\n      <td>44.0</td>\n      <td>72000.0</td>\n      <td>1</td>\n      <td>0</td>\n      <td>0</td>\n      <td>0</td>\n    </tr>\n    <tr>\n      <th>1</th>\n      <td>27.0</td>\n      <td>48000.0</td>\n      <td>0</td>\n      <td>0</td>\n      <td>0</td>\n      <td>1</td>\n    </tr>\n    <tr>\n      <th>2</th>\n      <td>30.0</td>\n      <td>54000.0</td>\n      <td>0</td>\n      <td>1</td>\n      <td>0</td>\n      <td>0</td>\n    </tr>\n    <tr>\n      <th>3</th>\n      <td>38.0</td>\n      <td>61000.0</td>\n      <td>0</td>\n      <td>0</td>\n      <td>0</td>\n      <td>1</td>\n    </tr>\n    <tr>\n      <th>4</th>\n      <td>18.0</td>\n      <td>15000.0</td>\n      <td>0</td>\n      <td>0</td>\n      <td>1</td>\n      <td>0</td>\n    </tr>\n    <tr>\n      <th>5</th>\n      <td>40.0</td>\n      <td>50636.0</td>\n      <td>0</td>\n      <td>1</td>\n      <td>0</td>\n      <td>0</td>\n    </tr>\n    <tr>\n      <th>6</th>\n      <td>35.0</td>\n      <td>58000.0</td>\n      <td>1</td>\n      <td>0</td>\n      <td>0</td>\n      <td>0</td>\n    </tr>\n    <tr>\n      <th>7</th>\n      <td>36.0</td>\n      <td>52000.0</td>\n      <td>0</td>\n      <td>0</td>\n      <td>0</td>\n      <td>1</td>\n    </tr>\n    <tr>\n      <th>8</th>\n      <td>48.0</td>\n      <td>79000.0</td>\n      <td>1</td>\n      <td>0</td>\n      <td>0</td>\n      <td>0</td>\n    </tr>\n    <tr>\n      <th>9</th>\n      <td>50.0</td>\n      <td>83000.0</td>\n      <td>0</td>\n      <td>1</td>\n      <td>0</td>\n      <td>0</td>\n    </tr>\n    <tr>\n      <th>10</th>\n      <td>37.0</td>\n      <td>67000.0</td>\n      <td>1</td>\n      <td>0</td>\n      <td>0</td>\n      <td>0</td>\n    </tr>\n    <tr>\n      <th>11</th>\n      <td>50.0</td>\n      <td>60000.0</td>\n      <td>0</td>\n      <td>0</td>\n      <td>1</td>\n      <td>0</td>\n    </tr>\n    <tr>\n      <th>12</th>\n      <td>22.0</td>\n      <td>30000.0</td>\n      <td>1</td>\n      <td>0</td>\n      <td>0</td>\n      <td>0</td>\n    </tr>\n    <tr>\n      <th>15</th>\n      <td>35.0</td>\n      <td>43000.0</td>\n      <td>0</td>\n      <td>0</td>\n      <td>1</td>\n      <td>0</td>\n    </tr>\n    <tr>\n      <th>16</th>\n      <td>34.0</td>\n      <td>44000.0</td>\n      <td>0</td>\n      <td>0</td>\n      <td>0</td>\n      <td>1</td>\n    </tr>\n    <tr>\n      <th>18</th>\n      <td>33.0</td>\n      <td>48000.0</td>\n      <td>0</td>\n      <td>0</td>\n      <td>0</td>\n      <td>1</td>\n    </tr>\n    <tr>\n      <th>19</th>\n      <td>29.0</td>\n      <td>77000.0</td>\n      <td>0</td>\n      <td>0</td>\n      <td>1</td>\n      <td>0</td>\n    </tr>\n    <tr>\n      <th>20</th>\n      <td>36.0</td>\n      <td>57000.0</td>\n      <td>0</td>\n      <td>0</td>\n      <td>0</td>\n      <td>1</td>\n    </tr>\n    <tr>\n      <th>21</th>\n      <td>44.0</td>\n      <td>48000.0</td>\n      <td>1</td>\n      <td>0</td>\n      <td>0</td>\n      <td>0</td>\n    </tr>\n    <tr>\n      <th>24</th>\n      <td>37.0</td>\n      <td>23000.0</td>\n      <td>1</td>\n      <td>0</td>\n      <td>0</td>\n      <td>0</td>\n    </tr>\n    <tr>\n      <th>25</th>\n      <td>45.0</td>\n      <td>50000.0</td>\n      <td>0</td>\n      <td>1</td>\n      <td>0</td>\n      <td>0</td>\n    </tr>\n    <tr>\n      <th>27</th>\n      <td>30.0</td>\n      <td>30000.0</td>\n      <td>0</td>\n      <td>0</td>\n      <td>1</td>\n      <td>0</td>\n    </tr>\n    <tr>\n      <th>28</th>\n      <td>29.0</td>\n      <td>15000.0</td>\n      <td>0</td>\n      <td>0</td>\n      <td>1</td>\n      <td>0</td>\n    </tr>\n  </tbody>\n</table>\n</div>"
     },
     "execution_count": 57,
     "metadata": {},
     "output_type": "execute_result"
    }
   ],
   "source": [
    "X = df2[['Country','Age','Salary']]\n",
    "X = df2.iloc[:,:-1]\n",
    "X = pd.get_dummies(X)\n",
    "\n",
    "#from sklearn.compose import ColumnTransformer\n",
    "#from sklearn.preprocessing import OneHotEncoder\n",
    "\n",
    "#ct = ColumnTransformer(transformers=[('Country', OneHotEncoder(), [0])],\n",
    " #                      remainder='passthrough')\n",
    "#X = ct.fit_transform(X)\n",
    "#print(ct.get_feature_names())\n",
    "X"
   ],
   "metadata": {
    "collapsed": false,
    "pycharm": {
     "name": "#%%\n"
    }
   }
  },
  {
   "cell_type": "code",
   "execution_count": 58,
   "outputs": [
    {
     "data": {
      "text/plain": "array([0, 1, 0, 0, 0, 1, 1, 0, 1, 0, 1, 1, 0, 1, 1, 1, 1, 1, 1, 1, 0, 1,\n       0])"
     },
     "execution_count": 58,
     "metadata": {},
     "output_type": "execute_result"
    }
   ],
   "source": [
    "y = df2['Purchased']\n",
    "from sklearn.preprocessing import LabelEncoder\n",
    "le = LabelEncoder()\n",
    "y = le.fit_transform(y)\n",
    "y"
   ],
   "metadata": {
    "collapsed": false,
    "pycharm": {
     "name": "#%%\n"
    }
   }
  },
  {
   "cell_type": "code",
   "execution_count": 83,
   "outputs": [
    {
     "name": "stdout",
     "output_type": "stream",
     "text": [
      "(17, 6) (6, 6)\n",
      "     Age   Salary  Country_France  Country_Germany  Country_Nigeria  \\\n",
      "11  50.0  60000.0               0                0                1   \n",
      "10  37.0  67000.0               1                0                0   \n",
      "27  30.0  30000.0               0                0                1   \n",
      "16  34.0  44000.0               0                0                0   \n",
      "25  45.0  50000.0               0                1                0   \n",
      "1   27.0  48000.0               0                0                0   \n",
      "\n",
      "    Country_Spain  \n",
      "11              0  \n",
      "10              0  \n",
      "27              0  \n",
      "16              1  \n",
      "25              0  \n",
      "1               1  \n"
     ]
    },
    {
     "ename": "AttributeError",
     "evalue": "'numpy.ndarray' object has no attribute 'columns'",
     "output_type": "error",
     "traceback": [
      "\u001B[1;31m---------------------------------------------------------------------------\u001B[0m",
      "\u001B[1;31mAttributeError\u001B[0m                            Traceback (most recent call last)",
      "\u001B[1;32mC:\\Users\\CRISTI~1\\AppData\\Local\\Temp/ipykernel_1620/1496510125.py\u001B[0m in \u001B[0;36m<module>\u001B[1;34m\u001B[0m\n\u001B[0;32m      3\u001B[0m \u001B[0mprint\u001B[0m\u001B[1;33m(\u001B[0m\u001B[0mX_train\u001B[0m\u001B[1;33m.\u001B[0m\u001B[0mshape\u001B[0m\u001B[1;33m,\u001B[0m \u001B[0mX_test\u001B[0m\u001B[1;33m.\u001B[0m\u001B[0mshape\u001B[0m\u001B[1;33m)\u001B[0m\u001B[1;33m\u001B[0m\u001B[1;33m\u001B[0m\u001B[0m\n\u001B[0;32m      4\u001B[0m \u001B[0mprint\u001B[0m\u001B[1;33m(\u001B[0m\u001B[0mX_test\u001B[0m\u001B[1;33m)\u001B[0m\u001B[1;33m\u001B[0m\u001B[1;33m\u001B[0m\u001B[0m\n\u001B[1;32m----> 5\u001B[1;33m \u001B[0my_train\u001B[0m\u001B[1;33m.\u001B[0m\u001B[0mcolumns\u001B[0m\u001B[1;33m\u001B[0m\u001B[1;33m\u001B[0m\u001B[0m\n\u001B[0m\u001B[0;32m      6\u001B[0m \u001B[1;33m\u001B[0m\u001B[0m\n",
      "\u001B[1;31mAttributeError\u001B[0m: 'numpy.ndarray' object has no attribute 'columns'"
     ]
    }
   ],
   "source": [
    "from sklearn.model_selection import train_test_split\n",
    "X_train, X_test, y_train, y_test = train_test_split(X,y,random_state=0)\n",
    "#X_train e X_test son dataframes mientras que y_train e y_test son arrays numpy\n",
    "print(X_train.shape, X_test.shape)\n",
    "print(X_test)\n",
    "y_train.columns\n"
   ],
   "metadata": {
    "collapsed": false,
    "pycharm": {
     "name": "#%%\n"
    }
   }
  },
  {
   "cell_type": "code",
   "execution_count": 84,
   "outputs": [
    {
     "name": "stderr",
     "output_type": "stream",
     "text": [
      "C:\\ProgramData\\Anaconda3\\lib\\site-packages\\pandas\\core\\frame.py:3678: SettingWithCopyWarning: \n",
      "A value is trying to be set on a copy of a slice from a DataFrame.\n",
      "Try using .loc[row_indexer,col_indexer] = value instead\n",
      "\n",
      "See the caveats in the documentation: https://pandas.pydata.org/pandas-docs/stable/user_guide/indexing.html#returning-a-view-versus-a-copy\n",
      "  self[col] = igetitem(value, i)\n",
      "C:\\ProgramData\\Anaconda3\\lib\\site-packages\\pandas\\core\\frame.py:3678: SettingWithCopyWarning: \n",
      "A value is trying to be set on a copy of a slice from a DataFrame.\n",
      "Try using .loc[row_indexer,col_indexer] = value instead\n",
      "\n",
      "See the caveats in the documentation: https://pandas.pydata.org/pandas-docs/stable/user_guide/indexing.html#returning-a-view-versus-a-copy\n",
      "  self[col] = igetitem(value, i)\n"
     ]
    },
    {
     "data": {
      "text/plain": "         Age    Salary  Country_France  Country_Germany  Country_Nigeria  \\\n15 -0.064361 -0.389761               0                0                1   \n28 -0.793789 -1.767745               0                0                1   \n19 -0.793789  1.283505               0                0                1   \n8   1.516066  1.381933               1                0                0   \n6  -0.064361  0.348445               1                0                0   \n20  0.057210  0.299231               0                0                0   \n4  -2.131074 -1.767745               0                0                1   \n2  -0.672218  0.151590               0                1                0   \n5   0.543495 -0.013965               0                1                0   \n21  1.029781 -0.143692               1                0                0   \n9   1.759208  1.578787               0                1                0   \n7   0.057210  0.053162               0                0                0   \n24  0.178781 -1.374035               1                0                0   \n3   0.300353  0.496086               0                0                0   \n0   1.029781  1.037437               1                0                0   \n18 -0.307504 -0.143692               0                0                0   \n12 -1.644788 -1.029539               1                0                0   \n\n    Country_Spain  \n15              0  \n28              0  \n19              0  \n8               0  \n6               0  \n20              1  \n4               0  \n2               0  \n5               0  \n21              0  \n9               0  \n7               1  \n24              0  \n3               1  \n0               0  \n18              1  \n12              0  ",
      "text/html": "<div>\n<style scoped>\n    .dataframe tbody tr th:only-of-type {\n        vertical-align: middle;\n    }\n\n    .dataframe tbody tr th {\n        vertical-align: top;\n    }\n\n    .dataframe thead th {\n        text-align: right;\n    }\n</style>\n<table border=\"1\" class=\"dataframe\">\n  <thead>\n    <tr style=\"text-align: right;\">\n      <th></th>\n      <th>Age</th>\n      <th>Salary</th>\n      <th>Country_France</th>\n      <th>Country_Germany</th>\n      <th>Country_Nigeria</th>\n      <th>Country_Spain</th>\n    </tr>\n  </thead>\n  <tbody>\n    <tr>\n      <th>15</th>\n      <td>-0.064361</td>\n      <td>-0.389761</td>\n      <td>0</td>\n      <td>0</td>\n      <td>1</td>\n      <td>0</td>\n    </tr>\n    <tr>\n      <th>28</th>\n      <td>-0.793789</td>\n      <td>-1.767745</td>\n      <td>0</td>\n      <td>0</td>\n      <td>1</td>\n      <td>0</td>\n    </tr>\n    <tr>\n      <th>19</th>\n      <td>-0.793789</td>\n      <td>1.283505</td>\n      <td>0</td>\n      <td>0</td>\n      <td>1</td>\n      <td>0</td>\n    </tr>\n    <tr>\n      <th>8</th>\n      <td>1.516066</td>\n      <td>1.381933</td>\n      <td>1</td>\n      <td>0</td>\n      <td>0</td>\n      <td>0</td>\n    </tr>\n    <tr>\n      <th>6</th>\n      <td>-0.064361</td>\n      <td>0.348445</td>\n      <td>1</td>\n      <td>0</td>\n      <td>0</td>\n      <td>0</td>\n    </tr>\n    <tr>\n      <th>20</th>\n      <td>0.057210</td>\n      <td>0.299231</td>\n      <td>0</td>\n      <td>0</td>\n      <td>0</td>\n      <td>1</td>\n    </tr>\n    <tr>\n      <th>4</th>\n      <td>-2.131074</td>\n      <td>-1.767745</td>\n      <td>0</td>\n      <td>0</td>\n      <td>1</td>\n      <td>0</td>\n    </tr>\n    <tr>\n      <th>2</th>\n      <td>-0.672218</td>\n      <td>0.151590</td>\n      <td>0</td>\n      <td>1</td>\n      <td>0</td>\n      <td>0</td>\n    </tr>\n    <tr>\n      <th>5</th>\n      <td>0.543495</td>\n      <td>-0.013965</td>\n      <td>0</td>\n      <td>1</td>\n      <td>0</td>\n      <td>0</td>\n    </tr>\n    <tr>\n      <th>21</th>\n      <td>1.029781</td>\n      <td>-0.143692</td>\n      <td>1</td>\n      <td>0</td>\n      <td>0</td>\n      <td>0</td>\n    </tr>\n    <tr>\n      <th>9</th>\n      <td>1.759208</td>\n      <td>1.578787</td>\n      <td>0</td>\n      <td>1</td>\n      <td>0</td>\n      <td>0</td>\n    </tr>\n    <tr>\n      <th>7</th>\n      <td>0.057210</td>\n      <td>0.053162</td>\n      <td>0</td>\n      <td>0</td>\n      <td>0</td>\n      <td>1</td>\n    </tr>\n    <tr>\n      <th>24</th>\n      <td>0.178781</td>\n      <td>-1.374035</td>\n      <td>1</td>\n      <td>0</td>\n      <td>0</td>\n      <td>0</td>\n    </tr>\n    <tr>\n      <th>3</th>\n      <td>0.300353</td>\n      <td>0.496086</td>\n      <td>0</td>\n      <td>0</td>\n      <td>0</td>\n      <td>1</td>\n    </tr>\n    <tr>\n      <th>0</th>\n      <td>1.029781</td>\n      <td>1.037437</td>\n      <td>1</td>\n      <td>0</td>\n      <td>0</td>\n      <td>0</td>\n    </tr>\n    <tr>\n      <th>18</th>\n      <td>-0.307504</td>\n      <td>-0.143692</td>\n      <td>0</td>\n      <td>0</td>\n      <td>0</td>\n      <td>1</td>\n    </tr>\n    <tr>\n      <th>12</th>\n      <td>-1.644788</td>\n      <td>-1.029539</td>\n      <td>1</td>\n      <td>0</td>\n      <td>0</td>\n      <td>0</td>\n    </tr>\n  </tbody>\n</table>\n</div>"
     },
     "execution_count": 84,
     "metadata": {},
     "output_type": "execute_result"
    }
   ],
   "source": [
    "from sklearn.preprocessing import StandardScaler\n",
    "\n",
    "#Opción 1\n",
    "scaler = StandardScaler()\n",
    "X_train[['Age', 'Salary']] = scaler.fit_transform(X_train[['Age','Salary']].values)\n",
    "X_test[['Age', 'Salary']] = scaler.transform(X_test[['Age','Salary']].values)\n",
    "X_train\n",
    "\n",
    "#Opción 2\n",
    "#scaler = StandardScaler()\n",
    "#X_train = scaler.fit_transform(X_train)\n",
    "#X_test = scaler.transform(X_test)\n",
    "#X_train\n"
   ],
   "metadata": {
    "collapsed": false,
    "pycharm": {
     "name": "#%%\n"
    }
   }
  },
  {
   "cell_type": "markdown",
   "source": [
    "# Webgrafia\n",
    "\n",
    "\n",
    "[Web Bogotobogo](https://www.bogotobogo.com/python/scikit-learn/scikit_machine_learning_Data_Preprocessing-Missing-Data-Categorical-Data.php)\n",
    "[Tutorial DataCamp sobre Categorical Data](https://www.datacamp.com/community/tutorials/categorical-data)\n",
    "[Curso de Tirtjakupto Sarkar](https://github.com/tirthajyoti/Machine-Learning-with-Python)\n",
    "[DataCamp](https://www.datacamp.com/)\n",
    "[Aprende IA](https://aprendeia.com/limpieza-y-procesamiento-de-datos-con-codigo-en-python/)\n"
   ],
   "metadata": {
    "collapsed": false
   }
  },
  {
   "cell_type": "markdown",
   "source": [
    "# Licencia\n",
    "\n",
    "[Attributon-ShacerAlike 4.0 International](https://creativecommons.org/licenses/by-sa/4.0/)\n",
    "\n",
    "Puedes utilizar libremente este material, con las siguientes condiciones:\n",
    "\n",
    "* Atribuir la autoría a este documento.\n",
    "* Si lo utilizas y haces cambios, deberás liberarlo también bajo la misma licencia."
   ],
   "metadata": {
    "collapsed": false,
    "id": "XtRTOLbX7xc1"
   }
  }
 ],
 "metadata": {
  "kernelspec": {
   "name": "python3",
   "language": "python",
   "display_name": "Python 3"
  },
  "language_info": {
   "codemirror_mode": {
    "name": "ipython",
    "version": 3
   },
   "file_extension": ".py",
   "mimetype": "text/x-python",
   "name": "python",
   "nbconvert_exporter": "python",
   "pygments_lexer": "ipython3",
   "version": "3.7.3"
  },
  "colab": {
   "name": "Preprocessing.ipynb",
   "provenance": []
  }
 },
 "nbformat": 4,
 "nbformat_minor": 0
}