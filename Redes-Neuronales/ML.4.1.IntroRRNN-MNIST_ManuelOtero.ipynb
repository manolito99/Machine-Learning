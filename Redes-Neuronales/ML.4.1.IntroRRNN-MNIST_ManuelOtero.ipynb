{
 "nbformat": 4,
 "nbformat_minor": 0,
 "metadata": {
  "kernelspec": {
   "display_name": "Python 3",
   "language": "python",
   "name": "python3"
  },
  "language_info": {
   "codemirror_mode": {
    "name": "ipython",
    "version": 3
   },
   "file_extension": ".py",
   "mimetype": "text/x-python",
   "name": "python",
   "nbconvert_exporter": "python",
   "pygments_lexer": "ipython3",
   "version": "3.5.5"
  },
  "colab": {
   "name": "Clase_11_Sist_Apren_Auto_Redes_Neuronales_MNIST_Alumnos.ipynb",
   "provenance": [],
   "collapsed_sections": []
  },
  "accelerator": "GPU"
 },
 "cells": [
  {
   "cell_type": "markdown",
   "metadata": {
    "id": "4PKZ_wlt_qvO"
   },
   "source": [
    "# Introducción a las RRNN con Keras\n",
    "#### UD4. Redes Neuronales\n",
    "#### MP. Sistemas de Aprendizaxe Automáticos\n",
    "#### IES de Teis (Vigo), Cristina Gómez Alonso\n",
    "\n",
    "Toma como base el siguiente [tutorial oficial de Keras](https://keras.io/examples/vision/mnist_convnet/) de François Chollet y crea una red neuronal simple en lugar de una convolucional."
   ]
  },
  {
   "cell_type": "code",
   "execution_count": 518,
   "outputs": [],
   "source": [
    "import numpy as np\n",
    "from tensorflow import  keras\n",
    "from keras.datasets import mnist\n",
    "from keras.models import Sequential\n",
    "from keras.layers import Dense\n",
    "from keras.layers import Dropout\n",
    "from keras.utils import np_utils\n",
    "import matplotlib.pyplot as plt\n",
    "from matplotlib import image\n",
    "from sklearn.preprocessing import OneHotEncoder\n",
    "from keras.datasets import mnist\n"
   ],
   "metadata": {
    "collapsed": false,
    "pycharm": {
     "name": "#%%\n"
    }
   }
  },
  {
   "cell_type": "markdown",
   "metadata": {
    "id": "8wkPyXnI6ksT"
   },
   "source": [
    "# 1. Importación dataset MNIST\n",
    "\n",
    "1.1. Carga el dataset de ejemplo MNIST separando el conjunto de entrenamiento del de pruebas."
   ]
  },
  {
   "cell_type": "code",
   "metadata": {
    "id": "KDL2ZZcT6g7h"
   },
   "source": [
    "from tensorflow import keras\n",
    "\n",
    "(x_train, y_train), (x_test, y_test) = keras.datasets.mnist.load_data()"
   ],
   "execution_count": 519,
   "outputs": []
  },
  {
   "cell_type": "markdown",
   "source": [
    "# 2. EDA & Visual EDA"
   ],
   "metadata": {
    "collapsed": false
   }
  },
  {
   "cell_type": "markdown",
   "source": [
    "2.1. Comprueba la forma y dimensiones de las imágenes importadas."
   ],
   "metadata": {
    "collapsed": false
   }
  },
  {
   "cell_type": "code",
   "execution_count": 520,
   "outputs": [
    {
     "data": {
      "text/plain": "(60000, 28, 28)"
     },
     "execution_count": 520,
     "metadata": {},
     "output_type": "execute_result"
    }
   ],
   "source": [
    "x_train.shape\n",
    "#Tenemos 60.000 muestras de imagenes de numeros\n",
    "#Las dimensiones de la imagen es de 28x28\n",
    "# 1 sería el numero de canales de color de las imagenes, como son de escala de grises solo tiene 1"
   ],
   "metadata": {
    "collapsed": false,
    "pycharm": {
     "name": "#%%\n"
    }
   }
  },
  {
   "cell_type": "markdown",
   "metadata": {
    "id": "6CipkG98U5r5"
   },
   "source": [
    "2.2. Calcula el ancho, alto y total de pixeles de cada imagen."
   ]
  },
  {
   "cell_type": "code",
   "metadata": {
    "id": "jeIPbr2bU1-T"
   },
   "source": [
    "img_size_flat = 28*28\n",
    "print(img_size_flat,'px')"
   ],
   "execution_count": 521,
   "outputs": [
    {
     "name": "stdout",
     "output_type": "stream",
     "text": [
      "784 px\n"
     ]
    }
   ]
  },
  {
   "cell_type": "markdown",
   "source": [
    "2.3. Muestra algunas de las imágenes cargadas y comprueba que se ven correctamente.\n",
    "Para mostrar varias, puedes usar:\n",
    "* plt.subplot(x, y, i) y\n",
    "* plt.imshow()"
   ],
   "metadata": {
    "collapsed": false
   }
  },
  {
   "cell_type": "code",
   "execution_count": 522,
   "outputs": [
    {
     "data": {
      "text/plain": "<Figure size 432x288 with 1 Axes>",
      "image/png": "[encoded data removed]"
     },
     "metadata": {
      "needs_background": "light"
     },
     "output_type": "display_data"
    }
   ],
   "source": [
    "fig = plt.figure()\n",
    "plt.imshow(x_train[1],cmap='gray_r')\n",
    "plt.show()"
   ],
   "metadata": {
    "collapsed": false,
    "pycharm": {
     "name": "#%%\n"
    }
   }
  },
  {
   "cell_type": "markdown",
   "metadata": {
    "id": "okuNl_g3Uese"
   },
   "source": [
    "# 3. Preparación del dataset para la Red Neuronal"
   ]
  },
  {
   "cell_type": "markdown",
   "source": [
    "3.1. Convierte los datos a coma flotante ‘float32’."
   ],
   "metadata": {
    "collapsed": false,
    "pycharm": {
     "name": "#%% md\n"
    }
   }
  },
  {
   "cell_type": "code",
   "metadata": {
    "id": "ZYeKn_Z3UmuP"
   },
   "source": [
    "x_train = x_train.astype(\"float32\")\n",
    "x_test = x_test.astype(\"float32\")\n"
   ],
   "execution_count": 523,
   "outputs": []
  },
  {
   "cell_type": "markdown",
   "metadata": {
    "id": "pRaan5TdWo7D"
   },
   "source": [
    "3.2. Transforma las imágenes para que todos sus píxeles se encuentren en `[0, 1]`"
   ]
  },
  {
   "cell_type": "code",
   "metadata": {
    "id": "yuRDLsRFWD47"
   },
   "source": [
    "X_train = x_train/255.0\n",
    "X_test = x_test/255.0"
   ],
   "execution_count": 524,
   "outputs": []
  },
  {
   "cell_type": "markdown",
   "source": [
    "3.3. Redimensiona/reacondiciona las dimensiones de las imágenes para que tengan las dimensiones que la red neuronal puede procesar."
   ],
   "metadata": {
    "collapsed": false,
    "pycharm": {
     "name": "#%% md\n"
    }
   }
  },
  {
   "cell_type": "code",
   "execution_count": 525,
   "outputs": [],
   "source": [
    "X_train = np.reshape( x_train, (x_train.shape[0],x_train.shape[1]*x_train.shape[2]) )\n",
    "X_test = np.reshape( x_test, (x_test.shape[0],x_test.shape[1]*x_test.shape[2]) )\n",
    "#Con esta función lo que haremos será reajustar el tamaño del set de entrenamiento a 60.000 x 784, ahora será un vector de 28 x 28"
   ],
   "metadata": {
    "collapsed": false,
    "pycharm": {
     "name": "#%%\n"
    }
   }
  },
  {
   "cell_type": "markdown",
   "source": [
    "3.4. Calcula el número de clases de que dispone el conjunto de datos."
   ],
   "metadata": {
    "collapsed": false
   }
  },
  {
   "cell_type": "code",
   "execution_count": 526,
   "outputs": [],
   "source": [
    "#La imagen está codificada como una matriz Numpy y la etiqueta es una matriz de números, con un rango de valores de 0 a 9\n"
   ],
   "metadata": {
    "collapsed": false,
    "pycharm": {
     "name": "#%%\n"
    }
   }
  },
  {
   "cell_type": "markdown",
   "source": [
    "3.5. Convierte a categóricas las etiquetas del conjunto de entrenamiento (y_train) y del conjunto de test (y_test)."
   ],
   "metadata": {
    "collapsed": false
   }
  },
  {
   "cell_type": "code",
   "metadata": {
    "id": "no-AkCa4ao-m"
   },
   "source": [
    "from keras.utils import np_utils\n",
    "\n",
    "nclasses = 10\n",
    "Y_train = np_utils.to_categorical(y_train,nclasses)\n",
    "Y_test = np_utils.to_categorical(y_test,nclasses)"
   ],
   "execution_count": 527,
   "outputs": []
  },
  {
   "cell_type": "markdown",
   "metadata": {
    "id": "B3kZc-61bhs5"
   },
   "source": [
    "# 4. Creación de la Red Neuronal"
   ]
  },
  {
   "cell_type": "markdown",
   "source": [],
   "metadata": {
    "collapsed": false,
    "pycharm": {
     "name": "#%% md\n"
    }
   }
  },
  {
   "cell_type": "code",
   "execution_count": 528,
   "outputs": [],
   "source": [
    "np.random.seed(1)"
   ],
   "metadata": {
    "collapsed": false,
    "pycharm": {
     "name": "#%%\n"
    }
   }
  },
  {
   "cell_type": "code",
   "execution_count": 529,
   "outputs": [],
   "source": [
    "input_dim = X_train.shape[1]\n",
    "output_dim = Y_train.shape[1]\n",
    "#Adicionalmente debemos definir el tamaño del dato de entrada (784 elementos) y del de salida (1 elemento):"
   ],
   "metadata": {
    "collapsed": false,
    "pycharm": {
     "name": "#%%\n"
    }
   }
  },
  {
   "cell_type": "markdown",
   "metadata": {
    "id": "O0BsuKcRbydp"
   },
   "source": [
    "4.2. Inserta una primera capa con las siguientes características:\n",
    "* Que contenga 1000 neuronas\n",
    "* Que acepte una entrada igual al número de píxeles de las imágenes que va a procesar\n",
    "* Que use `Relu` como función de activación"
   ]
  },
  {
   "cell_type": "code",
   "metadata": {
    "id": "80wPBY7UcUGx"
   },
   "source": [
    "from keras.models import Sequential\n",
    "\n",
    "modelo = Sequential()"
   ],
   "execution_count": 530,
   "outputs": []
  },
  {
   "cell_type": "code",
   "execution_count": 531,
   "outputs": [],
   "source": [
    "from keras.layers import Dense\n",
    "\n",
    "modelo.add( Dense(1000, input_dim=input_dim, activation='relu'))\n"
   ],
   "metadata": {
    "collapsed": false,
    "pycharm": {
     "name": "#%%\n"
    }
   }
  },
  {
   "cell_type": "markdown",
   "metadata": {
    "id": "zaIVzOXMclKs"
   },
   "source": [
    "4.3. Construye la capa de salida. Usa `softmax` como función de activación"
   ]
  },
  {
   "cell_type": "code",
   "metadata": {
    "id": "o5EyaOW2c8iQ"
   },
   "source": [
    "modelo.add( Dense(output_dim, activation='softmax'))"
   ],
   "execution_count": 532,
   "outputs": []
  },
  {
   "cell_type": "markdown",
   "metadata": {
    "id": "c0_J-bwsdDXQ"
   },
   "source": [
    "# 5. Entrenamiento\n",
    "5.1. Compila el modelo creado:\n",
    "* Usa categorical crossentropy como función de pérdida\n",
    "* Usa `adam` como optimizador\n",
    "* Usa la precisión como métrica"
   ]
  },
  {
   "cell_type": "code",
   "metadata": {
    "id": "jRL9GUWOdkly"
   },
   "source": [
    "modelo.compile(loss='categorical_crossentropy', optimizer=\"adam\", metrics=['accuracy'])"
   ],
   "execution_count": 533,
   "outputs": []
  },
  {
   "cell_type": "markdown",
   "metadata": {
    "id": "95XBP_2udqDn"
   },
   "source": [
    "5.2. Comprueba la configuración de la RN antes creada"
   ]
  },
  {
   "cell_type": "code",
   "metadata": {
    "id": "XNwQb-tk-3yr"
   },
   "source": [
    "modelo.summary()"
   ],
   "execution_count": 534,
   "outputs": [
    {
     "name": "stdout",
     "output_type": "stream",
     "text": [
      "Model: \"sequential_26\"\n",
      "_________________________________________________________________\n",
      " Layer (type)                Output Shape              Param #   \n",
      "=================================================================\n",
      " dense_52 (Dense)            (None, 1000)              785000    \n",
      "                                                                 \n",
      " dense_53 (Dense)            (None, 10)                10010     \n",
      "                                                                 \n",
      "=================================================================\n",
      "Total params: 795,010\n",
      "Trainable params: 795,010\n",
      "Non-trainable params: 0\n",
      "_________________________________________________________________\n"
     ]
    }
   ]
  },
  {
   "cell_type": "markdown",
   "metadata": {
    "id": "WUlsGUFcnlz3"
   },
   "source": [
    "5.3. Entrena el modelo anterior usando la información del conjunto de datos de entrenamiento y el de test para validar la evolución y calidad del aprendizaje. Usa 5 épocas y un tamaño de batch de 1024 en cada pasada. Indica verbose 1, para que muestre la información del proceso."
   ]
  },
  {
   "cell_type": "code",
   "metadata": {
    "id": "9deBkKoa-3yt"
   },
   "source": [
    "entrenamiento = modelo.fit(X_train, Y_train, epochs=5, batch_size=1024, verbose=1)"
   ],
   "execution_count": 535,
   "outputs": [
    {
     "name": "stdout",
     "output_type": "stream",
     "text": [
      "Epoch 1/5\n",
      "59/59 [==============================] - 1s 12ms/step - loss: 22.2350 - accuracy: 0.8331\n",
      "Epoch 2/5\n",
      "59/59 [==============================] - 1s 11ms/step - loss: 1.8876 - accuracy: 0.9425\n",
      "Epoch 3/5\n",
      "59/59 [==============================] - 1s 12ms/step - loss: 0.8457 - accuracy: 0.9597\n",
      "Epoch 4/5\n",
      "59/59 [==============================] - 1s 11ms/step - loss: 0.4819 - accuracy: 0.9694\n",
      "Epoch 5/5\n",
      "59/59 [==============================] - 1s 11ms/step - loss: 0.2645 - accuracy: 0.9787\n"
     ]
    }
   ]
  },
  {
   "cell_type": "markdown",
   "metadata": {
    "id": "GmYovsZV3Jnr"
   },
   "source": [
    "# 6. Visualización"
   ]
  },
  {
   "cell_type": "markdown",
   "source": [
    "6.1. Muestra gráficamente la evolución de la precisión del modelo."
   ],
   "metadata": {
    "collapsed": false,
    "pycharm": {
     "name": "#%% md\n"
    }
   }
  },
  {
   "cell_type": "code",
   "metadata": {
    "id": "wxif6NPizgwb"
   },
   "source": [
    "plt.subplot(1,2,2)\n",
    "plt.plot(entrenamiento.history['accuracy'])\n",
    "plt.title('Precisión vs. iteraciones')\n",
    "plt.ylabel('Precisión')\n",
    "plt.xlabel('Iteración')\n",
    "plt.show()"
   ],
   "execution_count": 538,
   "outputs": [
    {
     "data": {
      "text/plain": "<Figure size 432x288 with 1 Axes>",
      "image/png": "[encoded data removed]"
     },
     "metadata": {
      "needs_background": "light"
     },
     "output_type": "display_data"
    }
   ]
  },
  {
   "cell_type": "markdown",
   "metadata": {
    "id": "EzEhuxpS9WkW"
   },
   "source": [
    "6.2. Muestra gráficamente la evolución de la función de pérdida."
   ]
  },
  {
   "cell_type": "code",
   "metadata": {
    "id": "wxXtJFzezwKu"
   },
   "source": [
    "plt.subplot(1,2,1)\n",
    "plt.plot(entrenamiento.history['loss'])\n",
    "plt.title('Pérdida vs. iteraciones')\n",
    "plt.ylabel('Pérdida')\n",
    "plt.xlabel('Iteración')"
   ],
   "execution_count": 539,
   "outputs": [
    {
     "data": {
      "text/plain": "Text(0.5, 0, 'Iteración')"
     },
     "execution_count": 539,
     "metadata": {},
     "output_type": "execute_result"
    },
    {
     "data": {
      "text/plain": "<Figure size 432x288 with 1 Axes>",
      "image/png": "[encoded data removed]"
     },
     "metadata": {
      "needs_background": "light"
     },
     "output_type": "display_data"
    }
   ]
  },
  {
   "cell_type": "markdown",
   "metadata": {
    "id": "Fx9sKwgv84OO"
   },
   "source": [
    "# 7. Re-entrenamiento con nuevos parámetros\n"
   ]
  },
  {
   "cell_type": "markdown",
   "source": [
    "7.1. Entrena el modelo usando ahora los parámetros siguientes\n",
    "* validation_split = 0.1, epochs=15, batch_size=4\n",
    "* validation_split = 0.1, epochs=50, batch_size=1024"
   ],
   "metadata": {
    "collapsed": false,
    "pycharm": {
     "name": "#%% md\n"
    }
   }
  },
  {
   "cell_type": "code",
   "metadata": {
    "id": "Rq9frCOk-3y_"
   },
   "source": [
    "entrenamiento2 = modelo.fit(X_train, Y_train, epochs=15, batch_size=4, validation_split=0.1,verbose=1)\n"
   ],
   "execution_count": 540,
   "outputs": [
    {
     "name": "stdout",
     "output_type": "stream",
     "text": [
      "Epoch 1/15\n",
      "13500/13500 [==============================] - 29s 2ms/step - loss: 2.3912 - accuracy: 0.8695 - val_loss: 0.5670 - val_accuracy: 0.9087\n",
      "Epoch 2/15\n",
      "13500/13500 [==============================] - 28s 2ms/step - loss: 0.7608 - accuracy: 0.8897 - val_loss: 0.7124 - val_accuracy: 0.9067\n",
      "Epoch 3/15\n",
      "13500/13500 [==============================] - 28s 2ms/step - loss: 0.6442 - accuracy: 0.9000 - val_loss: 0.9084 - val_accuracy: 0.9185\n",
      "Epoch 4/15\n",
      "13500/13500 [==============================] - 28s 2ms/step - loss: 0.6302 - accuracy: 0.9075 - val_loss: 0.6643 - val_accuracy: 0.9095\n",
      "Epoch 5/15\n",
      "13500/13500 [==============================] - 29s 2ms/step - loss: 0.6006 - accuracy: 0.9138 - val_loss: 0.6107 - val_accuracy: 0.9275\n",
      "Epoch 6/15\n",
      "13500/13500 [==============================] - 29s 2ms/step - loss: 0.5965 - accuracy: 0.9162 - val_loss: 0.7444 - val_accuracy: 0.9305\n",
      "Epoch 7/15\n",
      "13500/13500 [==============================] - 29s 2ms/step - loss: 0.5806 - accuracy: 0.9183 - val_loss: 0.6831 - val_accuracy: 0.9177\n",
      "Epoch 8/15\n",
      "13500/13500 [==============================] - 28s 2ms/step - loss: 0.5930 - accuracy: 0.9165 - val_loss: 0.8691 - val_accuracy: 0.9190\n",
      "Epoch 9/15\n",
      "13500/13500 [==============================] - 29s 2ms/step - loss: 0.5626 - accuracy: 0.9184 - val_loss: 0.5732 - val_accuracy: 0.9310\n",
      "Epoch 10/15\n",
      "13500/13500 [==============================] - 29s 2ms/step - loss: 0.5067 - accuracy: 0.9211 - val_loss: 0.6701 - val_accuracy: 0.9347\n",
      "Epoch 11/15\n",
      "13500/13500 [==============================] - 29s 2ms/step - loss: 0.5668 - accuracy: 0.9263 - val_loss: 0.6419 - val_accuracy: 0.9323\n",
      "Epoch 12/15\n",
      "13500/13500 [==============================] - 29s 2ms/step - loss: 0.5128 - accuracy: 0.9222 - val_loss: 0.4966 - val_accuracy: 0.9187\n",
      "Epoch 13/15\n",
      "13500/13500 [==============================] - 29s 2ms/step - loss: 0.5142 - accuracy: 0.9265 - val_loss: 0.6981 - val_accuracy: 0.9338\n",
      "Epoch 14/15\n",
      "13500/13500 [==============================] - 28s 2ms/step - loss: 0.5297 - accuracy: 0.9269 - val_loss: 0.6680 - val_accuracy: 0.9283\n",
      "Epoch 15/15\n",
      "13500/13500 [==============================] - 28s 2ms/step - loss: 0.4883 - accuracy: 0.9313 - val_loss: 0.6975 - val_accuracy: 0.9385\n"
     ]
    }
   ]
  },
  {
   "cell_type": "code",
   "execution_count": 541,
   "outputs": [
    {
     "name": "stdout",
     "output_type": "stream",
     "text": [
      "Epoch 1/50\n",
      "53/53 [==============================] - 1s 14ms/step - loss: 0.3571 - accuracy: 0.9361 - val_loss: 0.6007 - val_accuracy: 0.9353\n",
      "Epoch 2/50\n",
      "53/53 [==============================] - 1s 12ms/step - loss: 0.2674 - accuracy: 0.9383 - val_loss: 0.5995 - val_accuracy: 0.9362\n",
      "Epoch 3/50\n",
      "53/53 [==============================] - 1s 12ms/step - loss: 0.2446 - accuracy: 0.9411 - val_loss: 0.6029 - val_accuracy: 0.9380\n",
      "Epoch 4/50\n",
      "53/53 [==============================] - 1s 13ms/step - loss: 0.2266 - accuracy: 0.9432 - val_loss: 0.6535 - val_accuracy: 0.9390\n",
      "Epoch 5/50\n",
      "53/53 [==============================] - 1s 13ms/step - loss: 0.2165 - accuracy: 0.9448 - val_loss: 0.6082 - val_accuracy: 0.9400\n",
      "Epoch 6/50\n",
      "53/53 [==============================] - 1s 13ms/step - loss: 0.2072 - accuracy: 0.9463 - val_loss: 0.6181 - val_accuracy: 0.9412\n",
      "Epoch 7/50\n",
      "53/53 [==============================] - 1s 12ms/step - loss: 0.2013 - accuracy: 0.9474 - val_loss: 0.6329 - val_accuracy: 0.9423\n",
      "Epoch 8/50\n",
      "53/53 [==============================] - 1s 12ms/step - loss: 0.1974 - accuracy: 0.9488 - val_loss: 0.6439 - val_accuracy: 0.9430\n",
      "Epoch 9/50\n",
      "53/53 [==============================] - 1s 12ms/step - loss: 0.1917 - accuracy: 0.9497 - val_loss: 0.6380 - val_accuracy: 0.9427\n",
      "Epoch 10/50\n",
      "53/53 [==============================] - 1s 12ms/step - loss: 0.1887 - accuracy: 0.9502 - val_loss: 0.6226 - val_accuracy: 0.9430\n",
      "Epoch 11/50\n",
      "53/53 [==============================] - 1s 13ms/step - loss: 0.1852 - accuracy: 0.9507 - val_loss: 0.6318 - val_accuracy: 0.9438\n",
      "Epoch 12/50\n",
      "53/53 [==============================] - 1s 12ms/step - loss: 0.1833 - accuracy: 0.9513 - val_loss: 0.6405 - val_accuracy: 0.9440\n",
      "Epoch 13/50\n",
      "53/53 [==============================] - 1s 13ms/step - loss: 0.1791 - accuracy: 0.9520 - val_loss: 0.6464 - val_accuracy: 0.9455\n",
      "Epoch 14/50\n",
      "53/53 [==============================] - 1s 13ms/step - loss: 0.1771 - accuracy: 0.9524 - val_loss: 0.6435 - val_accuracy: 0.9452\n",
      "Epoch 15/50\n",
      "53/53 [==============================] - 1s 13ms/step - loss: 0.1754 - accuracy: 0.9525 - val_loss: 0.6312 - val_accuracy: 0.9457\n",
      "Epoch 16/50\n",
      "53/53 [==============================] - 1s 12ms/step - loss: 0.1735 - accuracy: 0.9529 - val_loss: 0.6316 - val_accuracy: 0.9462\n",
      "Epoch 17/50\n",
      "53/53 [==============================] - 1s 13ms/step - loss: 0.1715 - accuracy: 0.9531 - val_loss: 0.6324 - val_accuracy: 0.9463\n",
      "Epoch 18/50\n",
      "53/53 [==============================] - 1s 13ms/step - loss: 0.1700 - accuracy: 0.9536 - val_loss: 0.6334 - val_accuracy: 0.9463\n",
      "Epoch 19/50\n",
      "53/53 [==============================] - 1s 12ms/step - loss: 0.1686 - accuracy: 0.9536 - val_loss: 0.6364 - val_accuracy: 0.9465\n",
      "Epoch 20/50\n",
      "53/53 [==============================] - 1s 13ms/step - loss: 0.1672 - accuracy: 0.9538 - val_loss: 0.6432 - val_accuracy: 0.9467\n",
      "Epoch 21/50\n",
      "53/53 [==============================] - 1s 12ms/step - loss: 0.1657 - accuracy: 0.9540 - val_loss: 0.6485 - val_accuracy: 0.9470\n",
      "Epoch 22/50\n",
      "53/53 [==============================] - 1s 12ms/step - loss: 0.1641 - accuracy: 0.9546 - val_loss: 0.6480 - val_accuracy: 0.9477\n",
      "Epoch 23/50\n",
      "53/53 [==============================] - 1s 13ms/step - loss: 0.1631 - accuracy: 0.9549 - val_loss: 0.6558 - val_accuracy: 0.9477\n",
      "Epoch 24/50\n",
      "53/53 [==============================] - 1s 12ms/step - loss: 0.1604 - accuracy: 0.9555 - val_loss: 0.6608 - val_accuracy: 0.9488\n",
      "Epoch 25/50\n",
      "53/53 [==============================] - 1s 12ms/step - loss: 0.1588 - accuracy: 0.9559 - val_loss: 0.6625 - val_accuracy: 0.9487\n",
      "Epoch 26/50\n",
      "53/53 [==============================] - 1s 12ms/step - loss: 0.1583 - accuracy: 0.9560 - val_loss: 0.6641 - val_accuracy: 0.9488\n",
      "Epoch 27/50\n",
      "53/53 [==============================] - 1s 13ms/step - loss: 0.1565 - accuracy: 0.9562 - val_loss: 0.6660 - val_accuracy: 0.9487\n",
      "Epoch 28/50\n",
      "53/53 [==============================] - 1s 13ms/step - loss: 0.1550 - accuracy: 0.9567 - val_loss: 0.6645 - val_accuracy: 0.9497\n",
      "Epoch 29/50\n",
      "53/53 [==============================] - 1s 12ms/step - loss: 0.1539 - accuracy: 0.9569 - val_loss: 0.6681 - val_accuracy: 0.9500\n",
      "Epoch 30/50\n",
      "53/53 [==============================] - 1s 13ms/step - loss: 0.1525 - accuracy: 0.9573 - val_loss: 0.6563 - val_accuracy: 0.9502\n",
      "Epoch 31/50\n",
      "53/53 [==============================] - 1s 12ms/step - loss: 0.1517 - accuracy: 0.9573 - val_loss: 0.6573 - val_accuracy: 0.9500\n",
      "Epoch 32/50\n",
      "53/53 [==============================] - 1s 12ms/step - loss: 0.1503 - accuracy: 0.9576 - val_loss: 0.6585 - val_accuracy: 0.9512\n",
      "Epoch 33/50\n",
      "53/53 [==============================] - 1s 12ms/step - loss: 0.1498 - accuracy: 0.9576 - val_loss: 0.6573 - val_accuracy: 0.9505\n",
      "Epoch 34/50\n",
      "53/53 [==============================] - 1s 12ms/step - loss: 0.1488 - accuracy: 0.9580 - val_loss: 0.6729 - val_accuracy: 0.9507\n",
      "Epoch 35/50\n",
      "53/53 [==============================] - 1s 12ms/step - loss: 0.1477 - accuracy: 0.9584 - val_loss: 0.6716 - val_accuracy: 0.9513\n",
      "Epoch 36/50\n",
      "53/53 [==============================] - 1s 12ms/step - loss: 0.1470 - accuracy: 0.9584 - val_loss: 0.6737 - val_accuracy: 0.9510\n",
      "Epoch 37/50\n",
      "53/53 [==============================] - 1s 12ms/step - loss: 0.1461 - accuracy: 0.9586 - val_loss: 0.6680 - val_accuracy: 0.9508\n",
      "Epoch 38/50\n",
      "53/53 [==============================] - 1s 12ms/step - loss: 0.1452 - accuracy: 0.9586 - val_loss: 0.6719 - val_accuracy: 0.9508\n",
      "Epoch 39/50\n",
      "53/53 [==============================] - 1s 12ms/step - loss: 0.1446 - accuracy: 0.9589 - val_loss: 0.6749 - val_accuracy: 0.9508\n",
      "Epoch 40/50\n",
      "53/53 [==============================] - 1s 13ms/step - loss: 0.1443 - accuracy: 0.9589 - val_loss: 0.6687 - val_accuracy: 0.9510\n",
      "Epoch 41/50\n",
      "53/53 [==============================] - 1s 12ms/step - loss: 0.1437 - accuracy: 0.9589 - val_loss: 0.6579 - val_accuracy: 0.9505\n",
      "Epoch 42/50\n",
      "53/53 [==============================] - 1s 13ms/step - loss: 0.1431 - accuracy: 0.9590 - val_loss: 0.6716 - val_accuracy: 0.9515\n",
      "Epoch 43/50\n",
      "53/53 [==============================] - 1s 12ms/step - loss: 0.1423 - accuracy: 0.9594 - val_loss: 0.6663 - val_accuracy: 0.9513\n",
      "Epoch 44/50\n",
      "53/53 [==============================] - 1s 12ms/step - loss: 0.1412 - accuracy: 0.9597 - val_loss: 0.6745 - val_accuracy: 0.9517\n",
      "Epoch 45/50\n",
      "53/53 [==============================] - 1s 12ms/step - loss: 0.1412 - accuracy: 0.9597 - val_loss: 0.6742 - val_accuracy: 0.9522\n",
      "Epoch 46/50\n",
      "53/53 [==============================] - 1s 12ms/step - loss: 0.1400 - accuracy: 0.9599 - val_loss: 0.6782 - val_accuracy: 0.9523\n",
      "Epoch 47/50\n",
      "53/53 [==============================] - 1s 12ms/step - loss: 0.1393 - accuracy: 0.9599 - val_loss: 0.6791 - val_accuracy: 0.9518\n",
      "Epoch 48/50\n",
      "53/53 [==============================] - 1s 12ms/step - loss: 0.1384 - accuracy: 0.9602 - val_loss: 0.6846 - val_accuracy: 0.9517\n",
      "Epoch 49/50\n",
      "53/53 [==============================] - 1s 12ms/step - loss: 0.1379 - accuracy: 0.9603 - val_loss: 0.6844 - val_accuracy: 0.9520\n",
      "Epoch 50/50\n",
      "53/53 [==============================] - 1s 12ms/step - loss: 0.1379 - accuracy: 0.9603 - val_loss: 0.6972 - val_accuracy: 0.9522\n"
     ]
    }
   ],
   "source": [
    "entrenamiento3 = modelo.fit(X_train, Y_train, epochs=50, batch_size=1024, validation_split=0.1,verbose=1)"
   ],
   "metadata": {
    "collapsed": false,
    "pycharm": {
     "name": "#%%\n"
    }
   }
  },
  {
   "cell_type": "markdown",
   "metadata": {
    "id": "Rvuyh6BR9a9Q"
   },
   "source": [
    "7.2. Muestra gráficamente la evolución de la precisión y función de pérdida del modelo recien entrenado. Extrae conclusiones."
   ]
  },
  {
   "cell_type": "code",
   "metadata": {
    "id": "nKGixQYQ9otk"
   },
   "source": [
    "#Modelo con validation_split = 0.1, epochs=15, batch_size=4\n",
    "plt.subplot(1,2,2)\n",
    "plt.plot(entrenamiento2.history['accuracy'])\n",
    "plt.title('Precisión vs. iteraciones')\n",
    "plt.ylabel('Precisión')\n",
    "plt.xlabel('Iteración')\n",
    "plt.show()"
   ],
   "execution_count": 543,
   "outputs": [
    {
     "data": {
      "text/plain": "<Figure size 432x288 with 1 Axes>",
      "image/png": "[encoded data removed]"
     },
     "metadata": {
      "needs_background": "light"
     },
     "output_type": "display_data"
    }
   ]
  },
  {
   "cell_type": "markdown",
   "source": [
    "Podemos observar que a la hora de pasar de 5 iteraciones , no se produce una mejora destacable en la precisión del modelo entrenado"
   ],
   "metadata": {
    "collapsed": false
   }
  },
  {
   "cell_type": "code",
   "execution_count": 544,
   "outputs": [
    {
     "data": {
      "text/plain": "Text(0.5, 0, 'Iteración')"
     },
     "execution_count": 544,
     "metadata": {},
     "output_type": "execute_result"
    },
    {
     "data": {
      "text/plain": "<Figure size 432x288 with 1 Axes>",
      "image/png": "[encoded data removed]"
     },
     "metadata": {
      "needs_background": "light"
     },
     "output_type": "display_data"
    }
   ],
   "source": [
    "#Grafica para el Modelo con validation_split = 0.1, epochs=15, batch_size=4\n",
    "plt.subplot(1,2,1)\n",
    "plt.plot(entrenamiento2.history['loss'])\n",
    "plt.title('Pérdida vs. iteraciones')\n",
    "plt.ylabel('Pérdida')\n",
    "plt.xlabel('Iteración')"
   ],
   "metadata": {
    "collapsed": false,
    "pycharm": {
     "name": "#%%\n"
    }
   }
  },
  {
   "cell_type": "markdown",
   "source": [
    "A la hora de la pérdida se parece bastante a la precisión, a partir de 2 iteraciones, la perdida no disminuye mucho más, eso si, podemos ver que a mayor numero de iteraciones disminuye la perdida ."
   ],
   "metadata": {
    "collapsed": false
   }
  },
  {
   "cell_type": "code",
   "execution_count": 545,
   "outputs": [
    {
     "data": {
      "text/plain": "<Figure size 432x288 with 1 Axes>",
      "image/png": "[encoded data removed]"
     },
     "metadata": {
      "needs_background": "light"
     },
     "output_type": "display_data"
    }
   ],
   "source": [
    "#Grafica para el Modelo con validation_split = 0.1, epochs=50, batch_size=1024\n",
    "plt.subplot(1,2,2)\n",
    "plt.plot(entrenamiento3.history['accuracy'])\n",
    "plt.title('Precisión vs. iteraciones')\n",
    "plt.ylabel('Precisión')\n",
    "plt.xlabel('Iteración')\n",
    "plt.show()"
   ],
   "metadata": {
    "collapsed": false,
    "pycharm": {
     "name": "#%%\n"
    }
   }
  },
  {
   "cell_type": "markdown",
   "source": [
    "Observamos que la precision de este modelo es más alta de base, y aumenta cuando aumentamos el numero de interaciones, pero a costa de mayor timepo de cálculo"
   ],
   "metadata": {
    "collapsed": false
   }
  },
  {
   "cell_type": "code",
   "execution_count": 546,
   "outputs": [
    {
     "data": {
      "text/plain": "Text(0.5, 0, 'Iteración')"
     },
     "execution_count": 546,
     "metadata": {},
     "output_type": "execute_result"
    },
    {
     "data": {
      "text/plain": "<Figure size 432x288 with 1 Axes>",
      "image/png": "[encoded data removed]"
     },
     "metadata": {
      "needs_background": "light"
     },
     "output_type": "display_data"
    }
   ],
   "source": [
    "#Grafica para el Modelo con validation_split = 0.1, epochs=50, batch_size=1024\n",
    "plt.subplot(1,2,1)\n",
    "plt.plot(entrenamiento3.history['loss'])\n",
    "plt.title('Pérdida vs. iteraciones')\n",
    "plt.ylabel('Pérdida')\n",
    "plt.xlabel('Iteración')"
   ],
   "metadata": {
    "collapsed": false,
    "pycharm": {
     "name": "#%%\n"
    }
   }
  }
 ]
}