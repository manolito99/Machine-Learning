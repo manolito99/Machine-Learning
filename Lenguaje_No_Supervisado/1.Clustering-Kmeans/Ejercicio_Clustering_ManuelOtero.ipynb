{
 "cells": [
  {
   "cell_type": "markdown",
   "metadata": {
    "collapsed": false,
    "pycharm": {
     "name": "#%% md\n"
    }
   },
   "source": [
    "# Ejercicios"
   ]
  },
  {
   "cell_type": "markdown",
   "metadata": {
    "collapsed": false
   },
   "source": [
    "**1. ¿Cuáles son algunas de las principales aplicaciones de los algoritmos de clustering?**"
   ]
  },
  {
   "cell_type": "markdown",
   "metadata": {
    "collapsed": false
   },
   "source": [
    "Aplicaciones del clustering:\n",
    "- Segmentación de clientes en grupos\n",
    "- Búsqueda de similitud de imágenes\n",
    "- Segmentación de imágenes\n",
    "- Análisis de datos\n",
    "- Detección de anomalías\n",
    "- Aprendizaje semisupervisado"
   ]
  },
  {
   "cell_type": "markdown",
   "metadata": {
    "collapsed": false
   },
   "source": [
    "**2. Describe 2 técnicas para seleccionar el número correcto de clústeres al usar K-Means.**"
   ]
  },
  {
   "cell_type": "markdown",
   "metadata": {
    "collapsed": false
   },
   "source": [
    "1-Técnica: Metodo del Elbow ,en este método se tiene que calcular la distorsión promedia de los clústers, que es la distancia promedia del centroide a todos los puntos del clúster y se obtiene con el algoritmo K-Means en función del número de clústers\n",
    "\n",
    "2-Técnica: Silhouette Score ,éste se define como la diferencia entre la distancia media a los elementos del clúster más cercano y a distancia intra-clúster media de los elementos de un clúster dividido por el máximo de los dos."
   ]
  },
  {
   "cell_type": "markdown",
   "metadata": {
    "collapsed": false
   },
   "source": [
    "**3. Abre el fichero ClusteringMetrics.ipynb y explica que otros dos métodos adicionales existen para seleccionar el número correcto de clústers. ¿En qué consisten? Busca información al respecto.**"
   ]
  },
  {
   "cell_type": "markdown",
   "metadata": {
    "collapsed": false
   },
   "source": [
    "Técnica 1: **v_measure**,El cálculo de la V-Measure primero requiere el cálculo de dos términos:\n",
    "\n",
    "**Homogeneidad**: una agrupación perfectamente homogénea es aquella en la que cada agrupación tiene puntos de datos que pertenecen a la misma etiqueta de clase. La homogeneidad describe la cercanía del algoritmo de agrupamiento a esta perfección.\n",
    "\n",
    "**Integridad**: una agrupación perfectamente completa es aquella en la que todos los puntos de datos que pertenecen a la misma clase se agrupan en la misma agrupación. La completitud describe la cercanía del algoritmo de agrupación en clústeres a esta perfección.\n",
    "\n",
    "Luego tendremos dos casos que serian: Homogeneidad trivial y integridad trivial. En el primer caso se da cuando el número de conglomerados es igual al número de puntos de datos y cada punto está en exactamente un conglomerado. El segundo caso se da cuando todos los puntos de datos se agrupan en un grupo\n",
    "\n",
    "Técnica 2: **Davies-Bouldin**, El índice de Davies-Bouldin (DBI) , es una métrica para evaluar algoritmos de agrupamiento . Este es un esquema de evaluación interna, donde la validación de qué tan bien se ha realizado la agrupación se realiza utilizando cantidades y características inherentes al conjunto de datos"
   ]
  },
  {
   "cell_type": "markdown",
   "metadata": {
    "collapsed": false
   },
   "source": [
    "**4. Toma como base el dataset data_Clusters.csv y aplica un algoritmo de clustering a dicho dataset. Responde a las siguientes preguntas:**\n"
   ]
  },
  {
   "cell_type": "code",
   "execution_count": 1,
   "metadata": {
    "collapsed": false,
    "pycharm": {
     "name": "#%%\n"
    }
   },
   "outputs": [
    {
     "data": {
      "text/html": [
       "<div>\n",
       "<style scoped>\n",
       "    .dataframe tbody tr th:only-of-type {\n",
       "        vertical-align: middle;\n",
       "    }\n",
       "\n",
       "    .dataframe tbody tr th {\n",
       "        vertical-align: top;\n",
       "    }\n",
       "\n",
       "    .dataframe thead th {\n",
       "        text-align: right;\n",
       "    }\n",
       "</style>\n",
       "<table border=\"1\" class=\"dataframe\">\n",
       "  <thead>\n",
       "    <tr style=\"text-align: right;\">\n",
       "      <th></th>\n",
       "      <th>Var1</th>\n",
       "      <th>Var2</th>\n",
       "      <th>Var3</th>\n",
       "      <th>Var4</th>\n",
       "      <th>Var5</th>\n",
       "    </tr>\n",
       "  </thead>\n",
       "  <tbody>\n",
       "    <tr>\n",
       "      <th>0</th>\n",
       "      <td>1.0</td>\n",
       "      <td>10.0</td>\n",
       "      <td>10.048145</td>\n",
       "      <td>-0.186505</td>\n",
       "      <td>5.20</td>\n",
       "    </tr>\n",
       "    <tr>\n",
       "      <th>1</th>\n",
       "      <td>2.0</td>\n",
       "      <td>20.0</td>\n",
       "      <td>20.096290</td>\n",
       "      <td>-0.373010</td>\n",
       "      <td>10.40</td>\n",
       "    </tr>\n",
       "    <tr>\n",
       "      <th>2</th>\n",
       "      <td>3.0</td>\n",
       "      <td>30.0</td>\n",
       "      <td>30.144435</td>\n",
       "      <td>-0.559515</td>\n",
       "      <td>15.60</td>\n",
       "    </tr>\n",
       "    <tr>\n",
       "      <th>3</th>\n",
       "      <td>4.0</td>\n",
       "      <td>40.0</td>\n",
       "      <td>40.192580</td>\n",
       "      <td>-0.746020</td>\n",
       "      <td>20.80</td>\n",
       "    </tr>\n",
       "    <tr>\n",
       "      <th>4</th>\n",
       "      <td>5.0</td>\n",
       "      <td>50.0</td>\n",
       "      <td>50.240725</td>\n",
       "      <td>-0.932525</td>\n",
       "      <td>26.00</td>\n",
       "    </tr>\n",
       "    <tr>\n",
       "      <th>5</th>\n",
       "      <td>6.0</td>\n",
       "      <td>60.0</td>\n",
       "      <td>60.288870</td>\n",
       "      <td>-1.119030</td>\n",
       "      <td>31.20</td>\n",
       "    </tr>\n",
       "    <tr>\n",
       "      <th>6</th>\n",
       "      <td>7.0</td>\n",
       "      <td>70.0</td>\n",
       "      <td>70.337015</td>\n",
       "      <td>-1.305535</td>\n",
       "      <td>36.40</td>\n",
       "    </tr>\n",
       "    <tr>\n",
       "      <th>7</th>\n",
       "      <td>8.0</td>\n",
       "      <td>80.0</td>\n",
       "      <td>80.385160</td>\n",
       "      <td>-1.492040</td>\n",
       "      <td>41.60</td>\n",
       "    </tr>\n",
       "    <tr>\n",
       "      <th>8</th>\n",
       "      <td>9.0</td>\n",
       "      <td>90.0</td>\n",
       "      <td>90.433304</td>\n",
       "      <td>-1.678545</td>\n",
       "      <td>46.80</td>\n",
       "    </tr>\n",
       "    <tr>\n",
       "      <th>9</th>\n",
       "      <td>10.0</td>\n",
       "      <td>100.0</td>\n",
       "      <td>100.481449</td>\n",
       "      <td>-1.865050</td>\n",
       "      <td>52.00</td>\n",
       "    </tr>\n",
       "    <tr>\n",
       "      <th>10</th>\n",
       "      <td>1.6</td>\n",
       "      <td>10.4</td>\n",
       "      <td>10.495442</td>\n",
       "      <td>-0.752124</td>\n",
       "      <td>5.52</td>\n",
       "    </tr>\n",
       "    <tr>\n",
       "      <th>11</th>\n",
       "      <td>2.3</td>\n",
       "      <td>22.0</td>\n",
       "      <td>22.114021</td>\n",
       "      <td>-0.509982</td>\n",
       "      <td>11.46</td>\n",
       "    </tr>\n",
       "    <tr>\n",
       "      <th>12</th>\n",
       "      <td>3.8</td>\n",
       "      <td>37.4</td>\n",
       "      <td>37.584923</td>\n",
       "      <td>-0.757332</td>\n",
       "      <td>19.46</td>\n",
       "    </tr>\n",
       "    <tr>\n",
       "      <th>13</th>\n",
       "      <td>4.2</td>\n",
       "      <td>58.0</td>\n",
       "      <td>58.149607</td>\n",
       "      <td>0.513011</td>\n",
       "      <td>29.84</td>\n",
       "    </tr>\n",
       "    <tr>\n",
       "      <th>14</th>\n",
       "      <td>5.8</td>\n",
       "      <td>55.4</td>\n",
       "      <td>55.687788</td>\n",
       "      <td>-1.292383</td>\n",
       "      <td>28.86</td>\n",
       "    </tr>\n",
       "    <tr>\n",
       "      <th>15</th>\n",
       "      <td>6.2</td>\n",
       "      <td>79.2</td>\n",
       "      <td>79.441952</td>\n",
       "      <td>0.237226</td>\n",
       "      <td>40.84</td>\n",
       "    </tr>\n",
       "    <tr>\n",
       "      <th>16</th>\n",
       "      <td>7.9</td>\n",
       "      <td>73.0</td>\n",
       "      <td>73.400071</td>\n",
       "      <td>-1.959514</td>\n",
       "      <td>38.08</td>\n",
       "    </tr>\n",
       "    <tr>\n",
       "      <th>17</th>\n",
       "      <td>9.0</td>\n",
       "      <td>82.0</td>\n",
       "      <td>82.459605</td>\n",
       "      <td>-2.326711</td>\n",
       "      <td>42.80</td>\n",
       "    </tr>\n",
       "    <tr>\n",
       "      <th>18</th>\n",
       "      <td>9.1</td>\n",
       "      <td>107.0</td>\n",
       "      <td>107.385518</td>\n",
       "      <td>-0.400864</td>\n",
       "      <td>55.32</td>\n",
       "    </tr>\n",
       "    <tr>\n",
       "      <th>19</th>\n",
       "      <td>10.1</td>\n",
       "      <td>108.6</td>\n",
       "      <td>109.061278</td>\n",
       "      <td>-1.267943</td>\n",
       "      <td>56.32</td>\n",
       "    </tr>\n",
       "    <tr>\n",
       "      <th>20</th>\n",
       "      <td>1.9</td>\n",
       "      <td>30.0</td>\n",
       "      <td>30.055312</td>\n",
       "      <td>0.536869</td>\n",
       "      <td>15.38</td>\n",
       "    </tr>\n",
       "    <tr>\n",
       "      <th>21</th>\n",
       "      <td>2.8</td>\n",
       "      <td>41.0</td>\n",
       "      <td>41.092067</td>\n",
       "      <td>0.531056</td>\n",
       "      <td>21.06</td>\n",
       "    </tr>\n",
       "    <tr>\n",
       "      <th>22</th>\n",
       "      <td>4.8</td>\n",
       "      <td>46.0</td>\n",
       "      <td>46.237671</td>\n",
       "      <td>-1.057266</td>\n",
       "      <td>23.96</td>\n",
       "    </tr>\n",
       "    <tr>\n",
       "      <th>23</th>\n",
       "      <td>4.7</td>\n",
       "      <td>74.4</td>\n",
       "      <td>74.536202</td>\n",
       "      <td>1.343395</td>\n",
       "      <td>38.14</td>\n",
       "    </tr>\n",
       "    <tr>\n",
       "      <th>24</th>\n",
       "      <td>6.8</td>\n",
       "      <td>72.8</td>\n",
       "      <td>73.111605</td>\n",
       "      <td>-0.879335</td>\n",
       "      <td>37.76</td>\n",
       "    </tr>\n",
       "    <tr>\n",
       "      <th>25</th>\n",
       "      <td>6.8</td>\n",
       "      <td>87.2</td>\n",
       "      <td>87.464264</td>\n",
       "      <td>0.287364</td>\n",
       "      <td>44.96</td>\n",
       "    </tr>\n",
       "    <tr>\n",
       "      <th>26</th>\n",
       "      <td>8.4</td>\n",
       "      <td>73.4</td>\n",
       "      <td>73.839266</td>\n",
       "      <td>-2.425462</td>\n",
       "      <td>38.38</td>\n",
       "    </tr>\n",
       "    <tr>\n",
       "      <th>27</th>\n",
       "      <td>9.3</td>\n",
       "      <td>87.0</td>\n",
       "      <td>87.467473</td>\n",
       "      <td>-2.220621</td>\n",
       "      <td>45.36</td>\n",
       "    </tr>\n",
       "    <tr>\n",
       "      <th>28</th>\n",
       "      <td>9.2</td>\n",
       "      <td>126.0</td>\n",
       "      <td>126.331156</td>\n",
       "      <td>1.038859</td>\n",
       "      <td>64.84</td>\n",
       "    </tr>\n",
       "    <tr>\n",
       "      <th>29</th>\n",
       "      <td>10.8</td>\n",
       "      <td>127.2</td>\n",
       "      <td>127.656844</td>\n",
       "      <td>-0.458656</td>\n",
       "      <td>65.76</td>\n",
       "    </tr>\n",
       "    <tr>\n",
       "      <th>30</th>\n",
       "      <td>2.9</td>\n",
       "      <td>41.6</td>\n",
       "      <td>41.698197</td>\n",
       "      <td>0.479997</td>\n",
       "      <td>21.38</td>\n",
       "    </tr>\n",
       "    <tr>\n",
       "      <th>31</th>\n",
       "      <td>3.3</td>\n",
       "      <td>58.0</td>\n",
       "      <td>58.076689</td>\n",
       "      <td>1.410052</td>\n",
       "      <td>29.66</td>\n",
       "    </tr>\n",
       "    <tr>\n",
       "      <th>32</th>\n",
       "      <td>4.9</td>\n",
       "      <td>58.2</td>\n",
       "      <td>58.405664</td>\n",
       "      <td>-0.168484</td>\n",
       "      <td>30.08</td>\n",
       "    </tr>\n",
       "    <tr>\n",
       "      <th>33</th>\n",
       "      <td>5.2</td>\n",
       "      <td>80.0</td>\n",
       "      <td>80.158301</td>\n",
       "      <td>1.298755</td>\n",
       "      <td>41.04</td>\n",
       "    </tr>\n",
       "    <tr>\n",
       "      <th>34</th>\n",
       "      <td>7.6</td>\n",
       "      <td>74.2</td>\n",
       "      <td>74.571819</td>\n",
       "      <td>-1.563275</td>\n",
       "      <td>38.62</td>\n",
       "    </tr>\n",
       "    <tr>\n",
       "      <th>35</th>\n",
       "      <td>7.3</td>\n",
       "      <td>98.6</td>\n",
       "      <td>98.867296</td>\n",
       "      <td>0.712644</td>\n",
       "      <td>50.76</td>\n",
       "    </tr>\n",
       "    <tr>\n",
       "      <th>36</th>\n",
       "      <td>8.6</td>\n",
       "      <td>84.4</td>\n",
       "      <td>84.819307</td>\n",
       "      <td>-1.733576</td>\n",
       "      <td>43.92</td>\n",
       "    </tr>\n",
       "    <tr>\n",
       "      <th>37</th>\n",
       "      <td>9.7</td>\n",
       "      <td>105.8</td>\n",
       "      <td>106.238075</td>\n",
       "      <td>-1.096116</td>\n",
       "      <td>54.84</td>\n",
       "    </tr>\n",
       "    <tr>\n",
       "      <th>38</th>\n",
       "      <td>9.6</td>\n",
       "      <td>136.6</td>\n",
       "      <td>136.928716</td>\n",
       "      <td>1.498994</td>\n",
       "      <td>70.22</td>\n",
       "    </tr>\n",
       "  </tbody>\n",
       "</table>\n",
       "</div>"
      ],
      "text/plain": [
       "    Var1   Var2        Var3      Var4   Var5\n",
       "0    1.0   10.0   10.048145 -0.186505   5.20\n",
       "1    2.0   20.0   20.096290 -0.373010  10.40\n",
       "2    3.0   30.0   30.144435 -0.559515  15.60\n",
       "3    4.0   40.0   40.192580 -0.746020  20.80\n",
       "4    5.0   50.0   50.240725 -0.932525  26.00\n",
       "5    6.0   60.0   60.288870 -1.119030  31.20\n",
       "6    7.0   70.0   70.337015 -1.305535  36.40\n",
       "7    8.0   80.0   80.385160 -1.492040  41.60\n",
       "8    9.0   90.0   90.433304 -1.678545  46.80\n",
       "9   10.0  100.0  100.481449 -1.865050  52.00\n",
       "10   1.6   10.4   10.495442 -0.752124   5.52\n",
       "11   2.3   22.0   22.114021 -0.509982  11.46\n",
       "12   3.8   37.4   37.584923 -0.757332  19.46\n",
       "13   4.2   58.0   58.149607  0.513011  29.84\n",
       "14   5.8   55.4   55.687788 -1.292383  28.86\n",
       "15   6.2   79.2   79.441952  0.237226  40.84\n",
       "16   7.9   73.0   73.400071 -1.959514  38.08\n",
       "17   9.0   82.0   82.459605 -2.326711  42.80\n",
       "18   9.1  107.0  107.385518 -0.400864  55.32\n",
       "19  10.1  108.6  109.061278 -1.267943  56.32\n",
       "20   1.9   30.0   30.055312  0.536869  15.38\n",
       "21   2.8   41.0   41.092067  0.531056  21.06\n",
       "22   4.8   46.0   46.237671 -1.057266  23.96\n",
       "23   4.7   74.4   74.536202  1.343395  38.14\n",
       "24   6.8   72.8   73.111605 -0.879335  37.76\n",
       "25   6.8   87.2   87.464264  0.287364  44.96\n",
       "26   8.4   73.4   73.839266 -2.425462  38.38\n",
       "27   9.3   87.0   87.467473 -2.220621  45.36\n",
       "28   9.2  126.0  126.331156  1.038859  64.84\n",
       "29  10.8  127.2  127.656844 -0.458656  65.76\n",
       "30   2.9   41.6   41.698197  0.479997  21.38\n",
       "31   3.3   58.0   58.076689  1.410052  29.66\n",
       "32   4.9   58.2   58.405664 -0.168484  30.08\n",
       "33   5.2   80.0   80.158301  1.298755  41.04\n",
       "34   7.6   74.2   74.571819 -1.563275  38.62\n",
       "35   7.3   98.6   98.867296  0.712644  50.76\n",
       "36   8.6   84.4   84.819307 -1.733576  43.92\n",
       "37   9.7  105.8  106.238075 -1.096116  54.84\n",
       "38   9.6  136.6  136.928716  1.498994  70.22"
      ]
     },
     "execution_count": 1,
     "metadata": {},
     "output_type": "execute_result"
    }
   ],
   "source": [
    "import matplotlib.pyplot as plt\n",
    "import pandas as pd\n",
    "from sklearn.datasets import make_classification\n",
    "from sklearn.datasets import make_blobs\n",
    "df = pd.read_csv('./data/data_Clustering.csv')\n",
    "df"
   ]
  },
  {
   "cell_type": "markdown",
   "metadata": {
    "collapsed": false
   },
   "source": [
    "**4.1. ¿Cuál es la media, max, min de cada característica?**"
   ]
  },
  {
   "cell_type": "code",
   "execution_count": 2,
   "metadata": {
    "collapsed": false,
    "pycharm": {
     "name": "#%%\n"
    }
   },
   "outputs": [
    {
     "data": {
      "text/plain": [
       "Var1     10.800000\n",
       "Var2    136.600000\n",
       "Var3    136.928716\n",
       "Var4      1.498994\n",
       "Var5     70.220000\n",
       "dtype: float64"
      ]
     },
     "execution_count": 2,
     "metadata": {},
     "output_type": "execute_result"
    }
   ],
   "source": [
    "df.max()"
   ]
  },
  {
   "cell_type": "code",
   "execution_count": 3,
   "metadata": {
    "collapsed": false,
    "pycharm": {
     "name": "#%%\n"
    }
   },
   "outputs": [
    {
     "data": {
      "text/plain": [
       "Var1     1.000000\n",
       "Var2    10.000000\n",
       "Var3    10.048145\n",
       "Var4    -2.425462\n",
       "Var5     5.200000\n",
       "dtype: float64"
      ]
     },
     "execution_count": 3,
     "metadata": {},
     "output_type": "execute_result"
    }
   ],
   "source": [
    "df.min()"
   ]
  },
  {
   "cell_type": "code",
   "execution_count": 4,
   "metadata": {
    "collapsed": false,
    "pycharm": {
     "name": "#%%\n"
    }
   },
   "outputs": [
    {
     "data": {
      "text/plain": [
       "Var1     6.143590\n",
       "Var2    68.856410\n",
       "Var3    69.127797\n",
       "Var4    -0.544595\n",
       "Var5    35.656923\n",
       "dtype: float64"
      ]
     },
     "execution_count": 4,
     "metadata": {},
     "output_type": "execute_result"
    }
   ],
   "source": [
    "df.mean()"
   ]
  },
  {
   "cell_type": "code",
   "execution_count": 5,
   "metadata": {
    "collapsed": false,
    "pycharm": {
     "name": "#%%\n"
    }
   },
   "outputs": [
    {
     "data": {
      "text/plain": [
       "<bound method DataFrame.info of     Var1   Var2        Var3      Var4   Var5\n",
       "0    1.0   10.0   10.048145 -0.186505   5.20\n",
       "1    2.0   20.0   20.096290 -0.373010  10.40\n",
       "2    3.0   30.0   30.144435 -0.559515  15.60\n",
       "3    4.0   40.0   40.192580 -0.746020  20.80\n",
       "4    5.0   50.0   50.240725 -0.932525  26.00\n",
       "5    6.0   60.0   60.288870 -1.119030  31.20\n",
       "6    7.0   70.0   70.337015 -1.305535  36.40\n",
       "7    8.0   80.0   80.385160 -1.492040  41.60\n",
       "8    9.0   90.0   90.433304 -1.678545  46.80\n",
       "9   10.0  100.0  100.481449 -1.865050  52.00\n",
       "10   1.6   10.4   10.495442 -0.752124   5.52\n",
       "11   2.3   22.0   22.114021 -0.509982  11.46\n",
       "12   3.8   37.4   37.584923 -0.757332  19.46\n",
       "13   4.2   58.0   58.149607  0.513011  29.84\n",
       "14   5.8   55.4   55.687788 -1.292383  28.86\n",
       "15   6.2   79.2   79.441952  0.237226  40.84\n",
       "16   7.9   73.0   73.400071 -1.959514  38.08\n",
       "17   9.0   82.0   82.459605 -2.326711  42.80\n",
       "18   9.1  107.0  107.385518 -0.400864  55.32\n",
       "19  10.1  108.6  109.061278 -1.267943  56.32\n",
       "20   1.9   30.0   30.055312  0.536869  15.38\n",
       "21   2.8   41.0   41.092067  0.531056  21.06\n",
       "22   4.8   46.0   46.237671 -1.057266  23.96\n",
       "23   4.7   74.4   74.536202  1.343395  38.14\n",
       "24   6.8   72.8   73.111605 -0.879335  37.76\n",
       "25   6.8   87.2   87.464264  0.287364  44.96\n",
       "26   8.4   73.4   73.839266 -2.425462  38.38\n",
       "27   9.3   87.0   87.467473 -2.220621  45.36\n",
       "28   9.2  126.0  126.331156  1.038859  64.84\n",
       "29  10.8  127.2  127.656844 -0.458656  65.76\n",
       "30   2.9   41.6   41.698197  0.479997  21.38\n",
       "31   3.3   58.0   58.076689  1.410052  29.66\n",
       "32   4.9   58.2   58.405664 -0.168484  30.08\n",
       "33   5.2   80.0   80.158301  1.298755  41.04\n",
       "34   7.6   74.2   74.571819 -1.563275  38.62\n",
       "35   7.3   98.6   98.867296  0.712644  50.76\n",
       "36   8.6   84.4   84.819307 -1.733576  43.92\n",
       "37   9.7  105.8  106.238075 -1.096116  54.84\n",
       "38   9.6  136.6  136.928716  1.498994  70.22>"
      ]
     },
     "execution_count": 5,
     "metadata": {},
     "output_type": "execute_result"
    }
   ],
   "source": [
    "df.info"
   ]
  },
  {
   "cell_type": "code",
   "execution_count": 6,
   "metadata": {
    "collapsed": false,
    "pycharm": {
     "name": "#%%\n"
    }
   },
   "outputs": [
    {
     "data": {
      "text/html": [
       "<div>\n",
       "<style scoped>\n",
       "    .dataframe tbody tr th:only-of-type {\n",
       "        vertical-align: middle;\n",
       "    }\n",
       "\n",
       "    .dataframe tbody tr th {\n",
       "        vertical-align: top;\n",
       "    }\n",
       "\n",
       "    .dataframe thead th {\n",
       "        text-align: right;\n",
       "    }\n",
       "</style>\n",
       "<table border=\"1\" class=\"dataframe\">\n",
       "  <thead>\n",
       "    <tr style=\"text-align: right;\">\n",
       "      <th></th>\n",
       "      <th>Var1</th>\n",
       "      <th>Var2</th>\n",
       "      <th>Var3</th>\n",
       "      <th>Var4</th>\n",
       "      <th>Var5</th>\n",
       "    </tr>\n",
       "  </thead>\n",
       "  <tbody>\n",
       "    <tr>\n",
       "      <th>count</th>\n",
       "      <td>39.000000</td>\n",
       "      <td>39.00000</td>\n",
       "      <td>39.000000</td>\n",
       "      <td>39.000000</td>\n",
       "      <td>39.000000</td>\n",
       "    </tr>\n",
       "    <tr>\n",
       "      <th>mean</th>\n",
       "      <td>6.143590</td>\n",
       "      <td>68.85641</td>\n",
       "      <td>69.127797</td>\n",
       "      <td>-0.544595</td>\n",
       "      <td>35.656923</td>\n",
       "    </tr>\n",
       "    <tr>\n",
       "      <th>std</th>\n",
       "      <td>2.820209</td>\n",
       "      <td>31.96218</td>\n",
       "      <td>32.067480</td>\n",
       "      <td>1.100565</td>\n",
       "      <td>16.501580</td>\n",
       "    </tr>\n",
       "    <tr>\n",
       "      <th>min</th>\n",
       "      <td>1.000000</td>\n",
       "      <td>10.00000</td>\n",
       "      <td>10.048145</td>\n",
       "      <td>-2.425462</td>\n",
       "      <td>5.200000</td>\n",
       "    </tr>\n",
       "    <tr>\n",
       "      <th>25%</th>\n",
       "      <td>3.900000</td>\n",
       "      <td>43.80000</td>\n",
       "      <td>43.967934</td>\n",
       "      <td>-1.298959</td>\n",
       "      <td>22.670000</td>\n",
       "    </tr>\n",
       "    <tr>\n",
       "      <th>50%</th>\n",
       "      <td>6.200000</td>\n",
       "      <td>73.00000</td>\n",
       "      <td>73.400071</td>\n",
       "      <td>-0.746020</td>\n",
       "      <td>38.080000</td>\n",
       "    </tr>\n",
       "    <tr>\n",
       "      <th>75%</th>\n",
       "      <td>8.800000</td>\n",
       "      <td>87.10000</td>\n",
       "      <td>87.465869</td>\n",
       "      <td>0.383680</td>\n",
       "      <td>45.160000</td>\n",
       "    </tr>\n",
       "    <tr>\n",
       "      <th>max</th>\n",
       "      <td>10.800000</td>\n",
       "      <td>136.60000</td>\n",
       "      <td>136.928716</td>\n",
       "      <td>1.498994</td>\n",
       "      <td>70.220000</td>\n",
       "    </tr>\n",
       "  </tbody>\n",
       "</table>\n",
       "</div>"
      ],
      "text/plain": [
       "            Var1       Var2        Var3       Var4       Var5\n",
       "count  39.000000   39.00000   39.000000  39.000000  39.000000\n",
       "mean    6.143590   68.85641   69.127797  -0.544595  35.656923\n",
       "std     2.820209   31.96218   32.067480   1.100565  16.501580\n",
       "min     1.000000   10.00000   10.048145  -2.425462   5.200000\n",
       "25%     3.900000   43.80000   43.967934  -1.298959  22.670000\n",
       "50%     6.200000   73.00000   73.400071  -0.746020  38.080000\n",
       "75%     8.800000   87.10000   87.465869   0.383680  45.160000\n",
       "max    10.800000  136.60000  136.928716   1.498994  70.220000"
      ]
     },
     "execution_count": 6,
     "metadata": {},
     "output_type": "execute_result"
    }
   ],
   "source": [
    "df.describe()"
   ]
  },
  {
   "cell_type": "code",
   "execution_count": 7,
   "metadata": {
    "collapsed": false,
    "pycharm": {
     "name": "#%%\n"
    }
   },
   "outputs": [
    {
     "data": {
      "text/plain": [
       "array([[-1.84767508, -1.8655113 , -1.86643815,  0.32962255, -1.86982519],\n",
       "       [-1.4884561 , -1.54855155, -1.54899821,  0.15794425, -1.55058444],\n",
       "       [-1.12923712, -1.2315918 , -1.23155828, -0.01373405, -1.23134369],\n",
       "       [-0.77001813, -0.91463205, -0.91411834, -0.18541235, -0.91210294],\n",
       "       [-0.41079915, -0.59767231, -0.59667841, -0.35709065, -0.59286219],\n",
       "       [-0.05158016, -0.28071256, -0.27923848, -0.52876895, -0.27362144],\n",
       "       [ 0.30763882,  0.03624719,  0.03820146, -0.70044725,  0.04561931],\n",
       "       [ 0.66685781,  0.35320694,  0.35564139, -0.87212556,  0.36486007],\n",
       "       [ 1.02607679,  0.67016669,  0.67308133, -1.04380386,  0.68410082],\n",
       "       [ 1.38529578,  0.98712644,  0.99052126, -1.21548216,  1.00334157],\n",
       "       [-1.63214369, -1.85283291, -1.85230718, -0.19103119, -1.85017961],\n",
       "       [-1.3806904 , -1.4851596 , -1.48525427,  0.03186098, -1.48550844],\n",
       "       [-0.84186193, -0.99704159, -0.99649915, -0.19582456, -0.99436882],\n",
       "       [-0.69817433, -0.34410451, -0.34682182,  0.97352843, -0.35711517],\n",
       "       [-0.12342396, -0.42651404, -0.42459535, -0.68834072, -0.41727977],\n",
       "       [ 0.02026364,  0.32785016,  0.32584369,  0.71966756,  0.3182018 ],\n",
       "       [ 0.63093591,  0.13133512,  0.1349692 , -1.30243639,  0.14875863],\n",
       "       [ 1.02607679,  0.41659889,  0.42117706, -1.64044208,  0.43853101],\n",
       "       [ 1.06199869,  1.20899826,  1.20863386,  0.13230476,  1.20716451],\n",
       "       [ 1.42121767,  1.25971182,  1.26157431, -0.66584368,  1.26855696],\n",
       "       [-1.524378  , -1.2315918 , -1.23437384,  0.99548963, -1.24485003],\n",
       "       [-1.20108091, -0.88293608, -0.88570183,  0.99013872, -0.8961409 ],\n",
       "       [-0.48264294, -0.7244562 , -0.72314246, -0.47191455, -0.71810279],\n",
       "       [-0.51856484,  0.17570948,  0.17086173,  1.73789875,  0.15244218],\n",
       "       [ 0.23579503,  0.12499592,  0.12585603, -0.30812866,  0.12911305],\n",
       "       [ 0.23579503,  0.58141796,  0.57928372,  0.76582014,  0.5711387 ],\n",
       "       [ 0.8105454 ,  0.14401351,  0.14884421, -1.73134252,  0.16717637],\n",
       "       [ 1.13384249,  0.57507876,  0.57938511, -1.54278601,  0.59569568],\n",
       "       [ 1.09792059,  1.81122178,  1.80716246,  1.45757293,  1.79162065],\n",
       "       [ 1.67267096,  1.84925695,  1.84904345,  0.07910694,  1.84810171],\n",
       "       [-1.16515901, -0.86391849, -0.86655305,  0.94313898, -0.87649532],\n",
       "       [-1.02147142, -0.34410451, -0.34912546,  1.7992569 , -0.36816581],\n",
       "       [-0.44672104, -0.33776531, -0.33873249,  0.34621113, -0.34238098],\n",
       "       [-0.33895535,  0.35320694,  0.34847452,  1.69680747,  0.33048029],\n",
       "       [ 0.52317021,  0.16937029,  0.17198696, -0.93769784,  0.18191056],\n",
       "       [ 0.41540452,  0.94275207,  0.9395271 ,  1.15729157,  0.92721493],\n",
       "       [ 0.8823892 ,  0.49266923,  0.4957245 , -1.09446018,  0.50729055],\n",
       "       [ 1.27753008,  1.17096309,  1.17238398, -0.50767662,  1.17769613],\n",
       "       [ 1.24160818,  2.14719912,  2.14195945,  1.88112814,  2.12191204]])"
      ]
     },
     "execution_count": 7,
     "metadata": {},
     "output_type": "execute_result"
    }
   ],
   "source": [
    "from sklearn.preprocessing import StandardScaler\n",
    "ss = StandardScaler()\n",
    "df_normalizado = ss.fit_transform(df)\n",
    "df_normalizado"
   ]
  },
  {
   "cell_type": "markdown",
   "metadata": {
    "collapsed": false
   },
   "source": [
    "**4.2. ¿Cuál es la distribución espacial del dataset? Obtén una representación gráfica.**\n"
   ]
  },
  {
   "cell_type": "code",
   "execution_count": 8,
   "metadata": {
    "collapsed": false,
    "pycharm": {
     "name": "#%%\n"
    }
   },
   "outputs": [
    {
     "data": {
      "image/png": "[encoded data removed]",
      "text/plain": [
       "<Figure size 576x576 with 1 Axes>"
      ]
     },
     "metadata": {
      "needs_background": "light"
     },
     "output_type": "display_data"
    }
   ],
   "source": [
    "X = df_normalizado\n",
    "#y = df.iloc[:,-1].values\n",
    "plt.figure(figsize=(8, 8))\n",
    "plt.scatter(X[:, 0], X[:, 1])\n",
    "plt.xlabel('x1')\n",
    "plt.ylabel('x2')\n",
    "plt.show()"
   ]
  },
  {
   "cell_type": "markdown",
   "metadata": {
    "collapsed": false
   },
   "source": [
    "**4.3. ¿Cuál es la evolución de la inertia en función de K? Obtén una representación gráfica.**\n"
   ]
  },
  {
   "cell_type": "code",
   "execution_count": 9,
   "metadata": {
    "collapsed": false,
    "pycharm": {
     "name": "#%%\n"
    }
   },
   "outputs": [],
   "source": [
    "from sklearn.cluster import KMeans\n",
    "distortions = []\n",
    "K = range(2,10)\n",
    "for k in K:\n",
    "    kmeanModel = KMeans(n_clusters=k)\n",
    "    kmeanModel.fit(X)\n",
    "    distortions.append(kmeanModel.inertia_)"
   ]
  },
  {
   "cell_type": "code",
   "execution_count": 10,
   "metadata": {
    "collapsed": false,
    "pycharm": {
     "name": "#%%\n"
    }
   },
   "outputs": [
    {
     "data": {
      "image/png": "[encoded data removed]",
      "text/plain": [
       "<Figure size 720x360 with 1 Axes>"
      ]
     },
     "metadata": {
      "needs_background": "light"
     },
     "output_type": "display_data"
    }
   ],
   "source": [
    "plt.figure(figsize=(10,5))\n",
    "plt.plot(K, distortions, 'bx-')\n",
    "plt.xlabel('k')\n",
    "plt.ylabel('Distorsión')\n",
    "plt.title('Mostrando el K óptimo mediante el método del Elbow')\n",
    "plt.show()"
   ]
  },
  {
   "cell_type": "markdown",
   "metadata": {
    "collapsed": false
   },
   "source": [
    "**4.4. ¿Cuál es el número óptimo de clusters que obtienes según el método del Elbow y el método del Silhouette Score?**"
   ]
  },
  {
   "cell_type": "markdown",
   "metadata": {
    "collapsed": false
   },
   "source": [
    "Según el método Elbow, tenemos que el mejor K es 7 o se puede interpretar tambien como 4, como podemos ver en la imagen de arriba"
   ]
  },
  {
   "cell_type": "code",
   "execution_count": 11,
   "metadata": {
    "collapsed": false,
    "pycharm": {
     "name": "#%%\n"
    }
   },
   "outputs": [],
   "source": [
    "from sklearn.metrics import silhouette_score\n",
    "scores = list()\n",
    "for r in range(2, 10):\n",
    "    kmeans = KMeans(n_clusters=r)\n",
    "    kmeans.fit(X)\n",
    "    scores.append(silhouette_score(X, kmeans.labels_, metric='euclidean'))\n",
    "    del(kmeans)"
   ]
  },
  {
   "cell_type": "code",
   "execution_count": 12,
   "metadata": {
    "collapsed": false,
    "pycharm": {
     "name": "#%%\n"
    }
   },
   "outputs": [
    {
     "data": {
      "image/png": "[encoded data removed]",
      "text/plain": [
       "<Figure size 432x288 with 1 Axes>"
      ]
     },
     "metadata": {
      "needs_background": "light"
     },
     "output_type": "display_data"
    }
   ],
   "source": [
    "plt.plot(list(range(2, 10)), scores)\n",
    "plt.xlabel('Number of Clusters')\n",
    "plt.ylabel('Silhouette Score')\n",
    "plt.show()"
   ]
  },
  {
   "cell_type": "markdown",
   "metadata": {
    "collapsed": false
   },
   "source": [
    "Segun el método de Silhouette Score el mejor K es de 7"
   ]
  },
  {
   "cell_type": "markdown",
   "metadata": {
    "collapsed": false
   },
   "source": [
    "\n",
    "**4.5. Una vez optenido el valor óptimo de K, genera un modelo K-means y entrénalo con los datos anteriores-**\n"
   ]
  },
  {
   "cell_type": "code",
   "execution_count": 13,
   "metadata": {
    "collapsed": false,
    "pycharm": {
     "name": "#%%\n"
    }
   },
   "outputs": [],
   "source": [
    "k = 4"
   ]
  },
  {
   "cell_type": "code",
   "execution_count": 14,
   "metadata": {
    "collapsed": false,
    "pycharm": {
     "name": "#%%\n"
    }
   },
   "outputs": [],
   "source": [
    "kmeans = KMeans(n_clusters=k)"
   ]
  },
  {
   "cell_type": "code",
   "execution_count": 15,
   "metadata": {
    "collapsed": false,
    "pycharm": {
     "name": "#%%\n"
    }
   },
   "outputs": [],
   "source": [
    "y_pred = kmeans.fit_predict(X)"
   ]
  },
  {
   "cell_type": "code",
   "execution_count": 16,
   "metadata": {
    "collapsed": false,
    "pycharm": {
     "name": "#%%\n"
    }
   },
   "outputs": [
    {
     "data": {
      "text/plain": [
       "True"
      ]
     },
     "execution_count": 16,
     "metadata": {},
     "output_type": "execute_result"
    }
   ],
   "source": [
    "y_pred is kmeans.labels_"
   ]
  },
  {
   "cell_type": "markdown",
   "metadata": {
    "collapsed": false
   },
   "source": [
    "**4.6. Invéntate diversas predicciones para saber en qué clúster se asigna.**"
   ]
  },
  {
   "cell_type": "code",
   "execution_count": 17,
   "metadata": {
    "collapsed": false,
    "pycharm": {
     "name": "#%%\n"
    }
   },
   "outputs": [
    {
     "data": {
      "text/plain": [
       "array([[-1.84767508, -1.8655113 , -1.86643815,  0.32962255, -1.86982519],\n",
       "       [-1.4884561 , -1.54855155, -1.54899821,  0.15794425, -1.55058444],\n",
       "       [-1.12923712, -1.2315918 , -1.23155828, -0.01373405, -1.23134369],\n",
       "       [-0.77001813, -0.91463205, -0.91411834, -0.18541235, -0.91210294],\n",
       "       [-0.41079915, -0.59767231, -0.59667841, -0.35709065, -0.59286219],\n",
       "       [-0.05158016, -0.28071256, -0.27923848, -0.52876895, -0.27362144],\n",
       "       [ 0.30763882,  0.03624719,  0.03820146, -0.70044725,  0.04561931],\n",
       "       [ 0.66685781,  0.35320694,  0.35564139, -0.87212556,  0.36486007],\n",
       "       [ 1.02607679,  0.67016669,  0.67308133, -1.04380386,  0.68410082],\n",
       "       [ 1.38529578,  0.98712644,  0.99052126, -1.21548216,  1.00334157],\n",
       "       [-1.63214369, -1.85283291, -1.85230718, -0.19103119, -1.85017961],\n",
       "       [-1.3806904 , -1.4851596 , -1.48525427,  0.03186098, -1.48550844],\n",
       "       [-0.84186193, -0.99704159, -0.99649915, -0.19582456, -0.99436882],\n",
       "       [-0.69817433, -0.34410451, -0.34682182,  0.97352843, -0.35711517],\n",
       "       [-0.12342396, -0.42651404, -0.42459535, -0.68834072, -0.41727977],\n",
       "       [ 0.02026364,  0.32785016,  0.32584369,  0.71966756,  0.3182018 ],\n",
       "       [ 0.63093591,  0.13133512,  0.1349692 , -1.30243639,  0.14875863],\n",
       "       [ 1.02607679,  0.41659889,  0.42117706, -1.64044208,  0.43853101],\n",
       "       [ 1.06199869,  1.20899826,  1.20863386,  0.13230476,  1.20716451],\n",
       "       [ 1.42121767,  1.25971182,  1.26157431, -0.66584368,  1.26855696],\n",
       "       [-1.524378  , -1.2315918 , -1.23437384,  0.99548963, -1.24485003],\n",
       "       [-1.20108091, -0.88293608, -0.88570183,  0.99013872, -0.8961409 ],\n",
       "       [-0.48264294, -0.7244562 , -0.72314246, -0.47191455, -0.71810279],\n",
       "       [-0.51856484,  0.17570948,  0.17086173,  1.73789875,  0.15244218],\n",
       "       [ 0.23579503,  0.12499592,  0.12585603, -0.30812866,  0.12911305],\n",
       "       [ 0.23579503,  0.58141796,  0.57928372,  0.76582014,  0.5711387 ],\n",
       "       [ 0.8105454 ,  0.14401351,  0.14884421, -1.73134252,  0.16717637],\n",
       "       [ 1.13384249,  0.57507876,  0.57938511, -1.54278601,  0.59569568],\n",
       "       [ 1.09792059,  1.81122178,  1.80716246,  1.45757293,  1.79162065],\n",
       "       [ 1.67267096,  1.84925695,  1.84904345,  0.07910694,  1.84810171],\n",
       "       [-1.16515901, -0.86391849, -0.86655305,  0.94313898, -0.87649532],\n",
       "       [-1.02147142, -0.34410451, -0.34912546,  1.7992569 , -0.36816581],\n",
       "       [-0.44672104, -0.33776531, -0.33873249,  0.34621113, -0.34238098],\n",
       "       [-0.33895535,  0.35320694,  0.34847452,  1.69680747,  0.33048029],\n",
       "       [ 0.52317021,  0.16937029,  0.17198696, -0.93769784,  0.18191056],\n",
       "       [ 0.41540452,  0.94275207,  0.9395271 ,  1.15729157,  0.92721493],\n",
       "       [ 0.8823892 ,  0.49266923,  0.4957245 , -1.09446018,  0.50729055],\n",
       "       [ 1.27753008,  1.17096309,  1.17238398, -0.50767662,  1.17769613],\n",
       "       [ 1.24160818,  2.14719912,  2.14195945,  1.88112814,  2.12191204]])"
      ]
     },
     "execution_count": 17,
     "metadata": {},
     "output_type": "execute_result"
    }
   ],
   "source": [
    "df_normalizado"
   ]
  },
  {
   "cell_type": "code",
   "execution_count": 18,
   "metadata": {
    "collapsed": false,
    "pycharm": {
     "name": "#%%\n"
    }
   },
   "outputs": [],
   "source": [
    "import numpy as np\n",
    "\n",
    "X_new = np.array([[-1.84, -1.40, 0.3, 1.38, -1.6], [0.98, -0.34, 2, 0.49, 1.17], [0.98, -0.34, 2, 0.49, -0.59], [0.80, -1.34, 2, 0.94, 1.17]])"
   ]
  },
  {
   "cell_type": "code",
   "execution_count": 19,
   "metadata": {
    "collapsed": false,
    "pycharm": {
     "name": "#%%\n"
    }
   },
   "outputs": [
    {
     "data": {
      "text/plain": [
       "array([3, 2, 0, 1])"
      ]
     },
     "execution_count": 19,
     "metadata": {},
     "output_type": "execute_result"
    }
   ],
   "source": [
    "kmeans.predict(X_new)"
   ]
  },
  {
   "cell_type": "markdown",
   "metadata": {
    "collapsed": false
   },
   "source": [
    "**5. ¿Qué otros algoritmos de clustering existen al margen del clásico K-means? Busca 2 y descríbelos.**"
   ]
  },
  {
   "cell_type": "markdown",
   "metadata": {
    "collapsed": false
   },
   "source": [
    "**Algoritmo de agrupamiento DBSCAN**\n",
    "-DBSCAN significa agrupamiento espacial basado en densidad de aplicaciones con ruido. Es un algoritmo de agrupamiento basado en densidad, a diferencia de k-means.\n",
    "\n",
    "Este es un buen algoritmo para encontrar esquemas en un conjunto de datos. Encuentra grupos de forma arbitraria en función de la densidad de puntos de datos en diferentes regiones. Separa las regiones por áreas de baja densidad para poder detectar valores atípicos entre los grupos de alta densidad.\n",
    "\n",
    "Este algoritmo es mejor que el k-means cuando se trata de trabajar con datos que tienen formas extrañas.\n",
    "\n",
    "DBSCAN utiliza dos parámetros para determinar cómo se definen los grupos: minPts (el número mínimo de puntos de datos que deben agruparse para que un área se considere de alta densidad) y eps (la distancia utilizada para determinar si un punto de datos está en la misma área que otros puntos de datos).\n",
    "\n",
    "La elección de los parámetros iniciales adecuados es fundamental para que este algoritmo funcione.\n",
    "\n",
    "**Algoritmo de Mezcla Gaussiana**\n",
    "-Uno de los problemas con k-means es que los datos deben seguir un formato circular. La forma en que k-means calcula la distancia entre puntos de datos tiene que ver con una ruta circular, por lo que los datos no circulares no se agrupan correctamente.\n",
    "\n",
    "Este es un problema que corrigen los modelos de mezcla Gaussianos. No necesitas datos con forma circular para que funcione bien.\n",
    "\n",
    "El modelo de mezcla Gaussiana utiliza múltiples distribuciones Gaussianas para ajustar datos que tienen formas arbitrarias.\n",
    "\n",
    "Hay varios modelos Gaussianos únicos que actúan como capas ocultas en este modelo híbrido. Entonces, el modelo calcula la probabilidad de que un punto de datos pertenezca a una distribución Gaussiana específica y ese es el grupo en el que se ubicará."
   ]
  },
  {
   "cell_type": "markdown",
   "metadata": {
    "collapsed": false,
    "pycharm": {
     "name": "#%% md\n"
    }
   },
   "source": []
  },
  {
   "cell_type": "code",
   "execution_count": 19,
   "metadata": {
    "collapsed": false,
    "pycharm": {
     "name": "#%%\n"
    }
   },
   "outputs": [],
   "source": []
  },
  {
   "cell_type": "code",
   "execution_count": 20,
   "metadata": {
    "collapsed": false,
    "pycharm": {
     "name": "#%%\n"
    }
   },
   "outputs": [
    {
     "data": {
      "image/png": "[encoded data removed]",
      "text/plain": [
       "<Figure size 504x432 with 1 Axes>"
      ]
     },
     "metadata": {
      "needs_background": "light"
     },
     "output_type": "display_data"
    }
   ],
   "source": [
    "#Ejercicio 4.7. Representación gráfica\n",
    "\n",
    "import matplotlib.pyplot as plt\n",
    "from mpl_toolkits.mplot3d import Axes3D\n",
    "\n",
    "fignum = 1\n",
    "fig = plt.figure(fignum, figsize=(7, 6))\n",
    "ax = Axes3D(fig, rect=[0, 0, .95, 1], elev=48, azim=134)\n",
    "\n",
    "labels = kmeans.labels_\n",
    "titles = ['Clusters']\n",
    "\n",
    "ax.scatter(X[:, 0], X[:, 1], X[:, 4],\n",
    "           c=labels.astype(float), edgecolor='k')\n",
    "\n",
    "ax.w_xaxis.set_ticklabels([])\n",
    "ax.w_yaxis.set_ticklabels([])\n",
    "ax.w_zaxis.set_ticklabels([])\n",
    "ax.set_xlabel('Var1')\n",
    "ax.set_ylabel('Var2')\n",
    "ax.set_zlabel('Var5')\n",
    "ax.set_title(titles[fignum - 1])\n",
    "ax.dist = 12"
   ]
  }
 ],
 "metadata": {
  "kernelspec": {
   "display_name": "Python 3.9.7 ('base')",
   "language": "python",
   "name": "python3"
  },
  "language_info": {
   "codemirror_mode": {
    "name": "ipython",
    "version": 2
   },
   "file_extension": ".py",
   "mimetype": "text/x-python",
   "name": "python",
   "nbconvert_exporter": "python",
   "pygments_lexer": "ipython2",
   "version": "3.9.7"
  },
  "vscode": {
   "interpreter": {
    "hash": "c5d22dfe6d67a28a9c4f666d04f9e54227dbee6bc71da1af404bdab3b8abbab8"
   }
  }
 },
 "nbformat": 4,
 "nbformat_minor": 0
}
